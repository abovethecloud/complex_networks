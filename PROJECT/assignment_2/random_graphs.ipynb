{
 "cells": [
  {
   "cell_type": "code",
   "execution_count": 1,
   "metadata": {},
   "outputs": [],
   "source": [
    "# Imports\n",
    "import networkx as nx  # Core network analysis package\n",
    "import numpy as np  # Core numeric package\n",
    "import matplotlib.pyplot as plt  # Core plotting package\n",
    "import dzcnapy_plotlib as dzcnapy  # Optional library containing pre-made plotting options\n",
    "import csv  # Package for csv I/O\n",
    "from collections import Counter  # Import only the Counter\n",
    "from scipy.optimize import curve_fit  # Mainly to fit the degree distribution with a power-law\n",
    "import pickle  # To read and write to file objects. Currently used for Girvan-Newman\n",
    "\n",
    "# Currently unusued imports\n",
    "#import warnings  # To suppress some warnings\n",
    "#from multiprocessing.dummy import Pool as ThreadPool\n",
    "#import powerlaw  # To test the power law distribution"
   ]
  },
  {
   "cell_type": "code",
   "execution_count": 2,
   "metadata": {},
   "outputs": [],
   "source": [
    "# Options\n",
    "np.set_printoptions(threshold=np.nan)  # numpy option to print all the array instead of head and tail\n",
    "\n",
    "%config IPCompleter.greedy=True  # Auto-complete option. Press TAB to activate"
   ]
  },
  {
   "cell_type": "code",
   "execution_count": 8,
   "metadata": {},
   "outputs": [],
   "source": [
    "rand_DG = nx.gnp_random_graph(1005, 0.025, seed=42, directed=True)"
   ]
  },
  {
   "cell_type": "code",
   "execution_count": 15,
   "metadata": {},
   "outputs": [
    {
     "name": "stdout",
     "output_type": "stream",
     "text": [
      "Name: \n",
      "Type: DiGraph\n",
      "Number of nodes: 1005\n",
      "Number of edges: 25237\n",
      "Average in degree:  25.1114\n",
      "Average out degree:  25.1114\n"
     ]
    }
   ],
   "source": [
    "print(nx.info(rand_DG))"
   ]
  },
  {
   "cell_type": "code",
   "execution_count": 16,
   "metadata": {},
   "outputs": [
    {
     "name": "stdout",
     "output_type": "stream",
     "text": [
      "Name: \n",
      "Type: Graph\n",
      "Number of nodes: 1005\n",
      "Number of edges: 24933\n",
      "Average degree:  49.6179\n"
     ]
    }
   ],
   "source": [
    "print(nx.info(rand_DG.to_undirected()))"
   ]
  },
  {
   "cell_type": "code",
   "execution_count": 17,
   "metadata": {},
   "outputs": [],
   "source": [
    "nx.write_graphml(rand_DG, \"random_mail.graphml\")"
   ]
  },
  {
   "cell_type": "code",
   "execution_count": 29,
   "metadata": {},
   "outputs": [],
   "source": [
    "rand_alb_DG = nx.barabasi_albert_graph(1005, 17, seed=42)"
   ]
  },
  {
   "cell_type": "code",
   "execution_count": 30,
   "metadata": {},
   "outputs": [
    {
     "name": "stdout",
     "output_type": "stream",
     "text": [
      "Name: \n",
      "Type: Graph\n",
      "Number of nodes: 1005\n",
      "Number of edges: 16796\n",
      "Average degree:  33.4249\n"
     ]
    }
   ],
   "source": [
    "print(nx.info(rand_alb_DG))"
   ]
  },
  {
   "cell_type": "code",
   "execution_count": null,
   "metadata": {},
   "outputs": [],
   "source": []
  }
 ],
 "metadata": {
  "kernelspec": {
   "display_name": "Python 3",
   "language": "python",
   "name": "python3"
  },
  "language_info": {
   "codemirror_mode": {
    "name": "ipython",
    "version": 3
   },
   "file_extension": ".py",
   "mimetype": "text/x-python",
   "name": "python",
   "nbconvert_exporter": "python",
   "pygments_lexer": "ipython3",
   "version": "3.6.5"
  }
 },
 "nbformat": 4,
 "nbformat_minor": 2
}
