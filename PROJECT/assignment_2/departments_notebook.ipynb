{
 "cells": [
  {
   "cell_type": "markdown",
   "metadata": {},
   "source": [
    "# E-mail network analysis"
   ]
  },
  {
   "cell_type": "markdown",
   "metadata": {},
   "source": [
    "## Mail Graph creation"
   ]
  },
  {
   "cell_type": "markdown",
   "metadata": {},
   "source": [
    "### Importing the necessary packages\n",
    "First of all we begin by importing the necessary packages. The necessary ones are `networkx` and `matplotlib.pyplot`. The first is used for network analysis and the second for plotting."
   ]
  },
  {
   "cell_type": "code",
   "execution_count": null,
   "metadata": {},
   "outputs": [],
   "source": [
    "import networkx as nx  # Core network analysis package\n",
    "import numpy as np  # Core numeric package\n",
    "import matplotlib.pyplot as plt  # Core plotting package\n",
    "import dzcnapy_plotlib as dzcnapy  # Optional library containing pre-made plotting options\n",
    "import csv  # Package for csv I/O\n",
    "from collections import Counter  # Import only the single object Counter\n",
    "import powerlaw  # To test the power law distribution"
   ]
  },
  {
   "cell_type": "markdown",
   "metadata": {},
   "source": [
    "### Reading data files\n",
    "We open the data in csv format (list of edges representing mail comunication) and create the corresponding **directed** graph, called `mail_DG`"
   ]
  },
  {
   "cell_type": "code",
   "execution_count": null,
   "metadata": {},
   "outputs": [],
   "source": [
    "with open(\"email-Eu-core.csv\") as infile:\n",
    "    csv_reader = csv.reader(infile)\n",
    "    mail_DG = nx.DiGraph(csv_reader)\n",
    "\n",
    "#print(DG.nodes(data = True))\n",
    "#print(DG.edges(data = True))"
   ]
  },
  {
   "cell_type": "markdown",
   "metadata": {},
   "source": [
    "Then we read the second file, which contains the department to which every node belongs, and add the information to the nodes in the graph. The result is a _directed graph_ with an attribute called `department` (with int values from 0 to 41) for each node.\n",
    "There are 1005 nodes - or people - divided into 42 classes (or departments)."
   ]
  },
  {
   "cell_type": "code",
   "execution_count": null,
   "metadata": {},
   "outputs": [],
   "source": [
    "# We create a dictionary of dictionaries, having as key the node label (number between 0 and 1004)\n",
    "# and with value a dictionary with the name of the attribute ('deprtment') as key and as associated value\n",
    "# the department number of the node.\n",
    "# NOTE: this structure is necessary because there could be more attributes, and it is required by the function\n",
    "# set_node_attributes in networkx\n",
    "\n",
    "with open(\"email-Eu-core-department-labels.csv\") as infile:\n",
    "    csv_reader = csv.reader(infile)\n",
    "    attr_dict_dict = {rows[0]: {'department': int(rows[1])} for rows in csv_reader}\n",
    "\n",
    "#print(attr_dict_dict)"
   ]
  },
  {
   "cell_type": "code",
   "execution_count": null,
   "metadata": {},
   "outputs": [],
   "source": [
    "nx.set_node_attributes(mail_DG, attr_dict_dict)\n",
    "\n",
    "#print(DG.nodes(data = True))"
   ]
  },
  {
   "cell_type": "markdown",
   "metadata": {},
   "source": [
    "###### Cleaning the graph\n",
    "Let us remove the self-loops from the graph (sinche those represent the mail to one-self, irrelevant to the analysis):"
   ]
  },
  {
   "cell_type": "code",
   "execution_count": null,
   "metadata": {},
   "outputs": [],
   "source": [
    "self_loops = mail_DG.selfloop_edges()\n",
    "mail_DG.remove_edges_from(self_loops)"
   ]
  },
  {
   "cell_type": "markdown",
   "metadata": {},
   "source": [
    "We also create an undirected version of the graph, useful for some manipulation. This requires a simple casting."
   ]
  },
  {
   "cell_type": "code",
   "execution_count": null,
   "metadata": {},
   "outputs": [],
   "source": [
    "mail_G = mail_DG.to_undirected()  # Undirected version of graph used for the computation of clustering coefficient"
   ]
  },
  {
   "cell_type": "code",
   "execution_count": null,
   "metadata": {},
   "outputs": [],
   "source": [
    "print(\"DIRECTED VERSION OF THE GRAPH:\")\n",
    "print(nx.info(mail_DG) + \"\\n\")\n",
    "\n",
    "print(\"UNDIRECTED VERSION:\")\n",
    "print(nx.info(mail_G))"
   ]
  },
  {
   "cell_type": "markdown",
   "metadata": {},
   "source": [
    "## Department graph creation\n",
    "The analysis of the department graph (based on the interactions between their elements) could be of interest.\n",
    "We create the graph by adding all departments as nodes, and then adding edges between them based on the number of (undirected) edges between their elements."
   ]
  },
  {
   "cell_type": "code",
   "execution_count": null,
   "metadata": {},
   "outputs": [],
   "source": [
    "# Graph initialization with just the departments as nodes\n",
    "\n",
    "dep_G = nx.Graph()\n",
    "for node in mail_DG.nodes(data = True):\n",
    "    label, attr_dict = node\n",
    "    dep_G.add_node(attr_dict[\"department\"])\n",
    "    \n",
    "#print(nx.info(dep_G))"
   ]
  },
  {
   "cell_type": "code",
   "execution_count": null,
   "metadata": {},
   "outputs": [],
   "source": [
    "# For each edge in the undirected mail graph, identify the department of bot source and target\n",
    "# and create an edge between those departments in the departments graph if not already existing.\n",
    "# Otherwise add a weight unit to the existing edge between departments.\n",
    "for edge in mail_G.edges(data=True):\n",
    "    source, target, edg_attr = edge\n",
    "    source_dep = attr_dict_dict[source]['department']\n",
    "    targ_dep = attr_dict_dict[target]['department']\n",
    "    if dep_G.has_edge(source_dep, targ_dep) == False:\n",
    "        dep_G.add_edge(source_dep, targ_dep, weight = 1)\n",
    "    else:\n",
    "        edges = dep_G.edges\n",
    "        w = edges[source_dep, targ_dep]['weight']\n",
    "        dep_G.add_edge(source_dep, targ_dep, weight = w+1)"
   ]
  },
  {
   "cell_type": "markdown",
   "metadata": {},
   "source": [
    "Note that the result is an undirected weighted graph with 42 nodes:"
   ]
  },
  {
   "cell_type": "code",
   "execution_count": null,
   "metadata": {},
   "outputs": [],
   "source": [
    "print(nx.info(dep_G))"
   ]
  },
  {
   "cell_type": "markdown",
   "metadata": {},
   "source": [
    "### Graph export\n",
    "To visualize the graphs, we export them in `graphml` format to import them in _Gephi_."
   ]
  },
  {
   "cell_type": "code",
   "execution_count": null,
   "metadata": {},
   "outputs": [],
   "source": [
    "nx.write_graphml(mail_DG, \"emails_w_attr_dep.graphml\")\n",
    "nx.write_graphml(dep_G, \"departments_weighted.graphml\")"
   ]
  },
  {
   "cell_type": "markdown",
   "metadata": {},
   "source": [
    "## Networks Analysis"
   ]
  },
  {
   "cell_type": "markdown",
   "metadata": {},
   "source": [
    "### Connected components and Giant Component\n",
    "#### Mail network\n",
    "First, we analyze the composition of the network by searching for the weakly and strongly connected components in the directed mail graph.\n",
    "Note that, clearly, the number of weakly connected components of the directed mail graph is the same as the number of connected components of the undirected mail graph."
   ]
  },
  {
   "cell_type": "code",
   "execution_count": null,
   "metadata": {},
   "outputs": [],
   "source": [
    "n_weak_conn_comp = nx.number_weakly_connected_components(mail_DG)\n",
    "n_strong_conn_comp = nx.number_strongly_connected_components(mail_DG)\n",
    "n_conn_comp = nx.number_connected_components(mail_G)\n",
    "\n",
    "print(\"# of connected components: \" + str(n_conn_comp))\n",
    "print(\"# of weakly connected components: \" + str(n_weak_conn_comp))\n",
    "print(\"# of strongly connected components: \" + str(n_strong_conn_comp))"
   ]
  },
  {
   "cell_type": "markdown",
   "metadata": {},
   "source": [
    "Is there a giant component in the graph?"
   ]
  },
  {
   "cell_type": "code",
   "execution_count": null,
   "metadata": {},
   "outputs": [],
   "source": [
    "# Create the list of components (subgraphs)\n",
    "connected_components_generator = (mail_DG.subgraph(c) for c in nx.connected_components(mail_G))\n",
    "conn_comp_list = list(connected_components_generator)\n",
    "\n",
    "# Compute total size and order to see the proportion in the components\n",
    "tot_nodes_n = mail_DG.order()\n",
    "tot_directed_edges_n = mail_DG.size()\n",
    "tot_undirected_edges_n = mail_G.size()\n",
    "\n",
    "# Initialize variables to search for the biggest component:\n",
    "max_order = 0\n",
    "max_order_index = 0\n",
    "\n",
    "# Scan through components, find the one with max order and print some info for the first bunch\n",
    "for (i, component) in zip(range(len(conn_comp_list)), conn_comp_list):\n",
    "    n_nodes_comp = component.order()\n",
    "    n_directed_edges_comp = component.size()   \n",
    "    \n",
    "    if n_nodes_comp > max_order:\n",
    "        max_order = n_nodes_comp\n",
    "        max_order_index = i\n",
    "    \n",
    "    relative_order = n_nodes_comp/tot_nodes_n\n",
    "    relative_size = n_directed_edges_comp/tot_directed_edges_n\n",
    "    \n",
    "    if i < 3 or i == 19:\n",
    "        print(\"COMPONENT #\" + str(i) + \":\")\n",
    "        print(\"# of nodes: \" + str(n_nodes_comp))\n",
    "        print(\"# of edges: \" + str(n_directed_edges_comp))\n",
    "        print(\"Relative Order (proportion of nodes):\", relative_order)\n",
    "        print(\"Relative Size (proportion of edges):\", relative_size)\n",
    "        print()\n",
    "    if i == 3:\n",
    "        print(\"...\\n\")"
   ]
  },
  {
   "cell_type": "markdown",
   "metadata": {},
   "source": [
    "Yes.\n",
    "The other 19 components are actually isolated nodes that communicate at most with themselves (self-loops)."
   ]
  },
  {
   "cell_type": "code",
   "execution_count": null,
   "metadata": {},
   "outputs": [],
   "source": [
    "giant_component_mail_DG = conn_comp_list[0]\n",
    "gc_mail_DG = giant_component_mail_DG"
   ]
  },
  {
   "cell_type": "markdown",
   "metadata": {},
   "source": [
    "For the analysis of the mail network, we can in some instances use just the giant component. This will enable us to find measures like distances without risking to find infinite-length (not connected) paths."
   ]
  },
  {
   "cell_type": "markdown",
   "metadata": {},
   "source": [
    "### Measures - degree\n",
    "\n",
    "We first extrapolate the degree of all nodes, we find the max, we compute the frequency for each degree.."
   ]
  },
  {
   "cell_type": "code",
   "execution_count": null,
   "metadata": {},
   "outputs": [],
   "source": [
    "node_and_degrees = mail_DG.degree  # Iterator over 2-tuples (node, degree)\n",
    "\n",
    "node_degrees = list(deg for _, deg in mail_DG.degree)  # List of degrees"
   ]
  },
  {
   "cell_type": "code",
   "execution_count": null,
   "metadata": {},
   "outputs": [],
   "source": [
    "deg_counter = Counter(node_degrees)\n",
    "\n",
    "degrees = list(sorted(deg_counter.keys()))\n",
    "deg_freq = list(deg_counter[deg] for deg in degrees)\n",
    "\n",
    "max_degree = max(degrees)\n",
    "print(\"Max degree: \" + str(max_degree))\n",
    "\n",
    "log_degrees = np.log(degrees)\n",
    "log_deg_freq = np.log(deg_freq)"
   ]
  },
  {
   "cell_type": "markdown",
   "metadata": {},
   "source": [
    "..and then we plot the distribution."
   ]
  },
  {
   "cell_type": "code",
   "execution_count": null,
   "metadata": {},
   "outputs": [],
   "source": [
    "# Create a Figure divided in two Axes (subplots)\n",
    "fig, (ax, ax_log) = plt.subplots(2, 1)\n",
    "fig.set_size_inches(15, 15)\n",
    "fig.suptitle(\"Degree Distribution\", fontsize = 15)\n",
    "\n",
    "# In the first Axis draw the standard-scale distribution of degrees\n",
    "ax.set_xlabel('degree')\n",
    "ax.set_ylabel('frequency')\n",
    "ax.set_title(\"Standard-scale plot\")\n",
    "ax.scatter(degrees, deg_freq, marker = 'o', facecolors='none', edgecolors='#008000', label = 'Degree distribution')\n",
    "\n",
    "# In the second Axis draw the log-log distribution of degrees\n",
    "ax_log.set_xlabel('log(degree)')\n",
    "ax_log.set_ylabel('log(frequency)')\n",
    "ax_log.set_title(\"Log-Log plot of degree distribution\")\n",
    "ax_log.scatter(log_degrees, log_deg_freq, marker = 'o', facecolors='none', edgecolors='#000080', label = 'log-log distribution')\n",
    "\n",
    "# Save the figure as png and plot it\n",
    "#legend()  # No need for the legend\n",
    "plt.savefig(\"degree_distribution.png\")\n",
    "plt.show()"
   ]
  },
  {
   "cell_type": "markdown",
   "metadata": {},
   "source": [
    "Computing the average degree we get the sum of average in-degree and average out-degree, as expected."
   ]
  },
  {
   "cell_type": "code",
   "execution_count": null,
   "metadata": {},
   "outputs": [],
   "source": [
    "tot_deg = sum(deg_freq)\n",
    "\n",
    "partial_sum = 0\n",
    "for deg, freq in zip(degrees, deg_freq):\n",
    "    partial_sum += deg*freq\n",
    "\n",
    "avg_deg = partial_sum/tot_deg\n",
    "print(\"Average degree: \" + str(avg_deg))"
   ]
  },
  {
   "cell_type": "code",
   "execution_count": null,
   "metadata": {},
   "outputs": [],
   "source": [
    "partial_sum = 0\n",
    "for deg, freq in zip(degrees, deg_freq):\n",
    "    partial_sum += freq*((deg - avg_deg)**2)\n",
    "\n",
    "var_deg = partial_sum/tot_deg\n",
    "print(\"Variance of degree distribution: \" + str(var_deg))\n",
    "print(\"Standard deviation: \" + str(np.sqrt(var_deg)))"
   ]
  },
  {
   "cell_type": "markdown",
   "metadata": {},
   "source": [
    "The degree distribution seems to satisfy a power-law, hence we can say that the network is scale-free."
   ]
  },
  {
   "cell_type": "markdown",
   "metadata": {},
   "source": [
    "### Measures - distances\n",
    "\n",
    "We compute the average and distribution of the distances."
   ]
  },
  {
   "cell_type": "code",
   "execution_count": null,
   "metadata": {},
   "outputs": [],
   "source": [
    "max_distance = 0\n",
    "max_source = 0\n",
    "\n",
    "for source, dictionary in nx.shortest_path_length(mail_G):\n",
    "    max_distance = max(dictionary.values()) if max(dictionary.values()) > max_distance else max_distance\n",
    "    max_source = int(source) if int(source) > max_source else int(source)\n",
    "\n",
    "print(max_distance)\n",
    "print(max_source)\n",
    "\n",
    "distances = np.zeros(max_distance+1)\n",
    "sources = np.arange(max_source+1)\n",
    "\n",
    "for source, dictionary in nx.shortest_path_length(mail_G):\n",
    "    key = 0\n",
    "    while key < int(source):\n",
    "        if str(key) in dictionary:\n",
    "            del dictionary[str(key)]\n",
    "        key = key + 1\n",
    "    count = Counter(dictionary.values())\n",
    "    for i in range(max_distance+1):\n",
    "        distances[i] = distances[i] + count[i]\n",
    "\n",
    "print(distances)"
   ]
  },
  {
   "cell_type": "code",
   "execution_count": null,
   "metadata": {},
   "outputs": [],
   "source": [
    "paths = []\n",
    "nodes = gc_mail_DG.nodes()\n",
    "gc_mail_G = gc_mail_DG.to_undirected()\n",
    "distances = []\n",
    "for node in nodes:\n",
    "    distances = distances + list((nx.shortest_path_length(gc_mail_G, source = node)).values())\n",
    "\n",
    "print(distances)\n",
    "\n",
    "dist_freq = Counter(distances)"
   ]
  },
  {
   "cell_type": "code",
   "execution_count": null,
   "metadata": {},
   "outputs": [],
   "source": [
    "dist_freq_list = list(dist_freq.values())\n",
    "dist_freq_list[0] = 0\n",
    "for i in range(1, 8):\n",
    "    dist_freq_list[i] /= 2\n",
    "    dist_freq_list[i] = int(dist_freq_list[i])\n",
    "\n",
    "dist_freq_list\n",
    "plt.plot(dist_freq_list)\n",
    "\n",
    "partial_sum = 0\n",
    "for i in range(8):\n",
    "    partial_sum += i*dist_freq_list[i]\n",
    "\n",
    "avg_dist = partial_sum/sum(dist_freq_list)\n",
    "avg_dist"
   ]
  },
  {
   "cell_type": "code",
   "execution_count": null,
   "metadata": {},
   "outputs": [],
   "source": [
    "i = 1\n",
    "tot = 0\n",
    "for i in range(1006):\n",
    "    tot += i\n",
    "    \n",
    "tot"
   ]
  },
  {
   "cell_type": "code",
   "execution_count": null,
   "metadata": {},
   "outputs": [],
   "source": [
    "plt.plot(distances, linestyle='dotted', color = 'red')\n",
    "plt.scatter(range(len(distances)), distances, linestyle='dotted', color = 'blue')\n",
    "plt.savefig(\"distance_distribution.png\")\n",
    "tot_distances = sum(distances)\n",
    "weighted_sum = 0\n",
    "for i in range(len(distances)):\n",
    "    weighted_sum += i*distances[i]\n",
    "\n",
    "average_distance = weighted_sum/tot_distances\n",
    "average_distance\n",
    "print(tot_distances)"
   ]
  },
  {
   "cell_type": "code",
   "execution_count": null,
   "metadata": {},
   "outputs": [],
   "source": [
    "eccentricities = nx.eccentricity(gc_mail_DG.to_undirected())"
   ]
  },
  {
   "cell_type": "code",
   "execution_count": null,
   "metadata": {},
   "outputs": [],
   "source": [
    "min(eccentricities.values())  # Manual radius"
   ]
  },
  {
   "cell_type": "code",
   "execution_count": null,
   "metadata": {},
   "outputs": [],
   "source": [
    "max(eccentricities.values())  # Manual diameter"
   ]
  },
  {
   "cell_type": "code",
   "execution_count": null,
   "metadata": {},
   "outputs": [],
   "source": [
    "nx.average_shortest_path_length(gc_mail_DG.to_undirected())"
   ]
  },
  {
   "cell_type": "markdown",
   "metadata": {},
   "source": [
    "We want to check the clustering coefficient for departments. We create the subgraphs for each department."
   ]
  },
  {
   "cell_type": "code",
   "execution_count": null,
   "metadata": {},
   "outputs": [],
   "source": [
    "nodes = gc_mail_DG.nodes(data = True)\n",
    "listona = []\n",
    "for i in range(42):\n",
    "    listona.append(gc_mail_DG.subgraph([n for n, attrdict in gc_mail_DG.node.items() if attrdict['department'] == i]))\n",
    "\n",
    "for i in range(42):\n",
    "    print(\"Avg clustering coefficient for department \" + str(i) + \": \" + str(nx.average_clustering(listona[i].to_undirected())))"
   ]
  },
  {
   "cell_type": "code",
   "execution_count": null,
   "metadata": {},
   "outputs": [],
   "source": [
    "components = nx.algorithms.community.centrality.girvan_newman(gc_mail_DG)\n",
    "for component in components:\n",
    "    print(component)"
   ]
  },
  {
   "cell_type": "code",
   "execution_count": null,
   "metadata": {},
   "outputs": [],
   "source": [
    "components = nx.algorithms.community.centrality.girvan_newman(dep_G)\n",
    "\n",
    "lis = list(components)\n",
    "for tup in lis:\n",
    "    print(len(tup))"
   ]
  },
  {
   "cell_type": "markdown",
   "metadata": {},
   "source": [
    "# END"
   ]
  },
  {
   "cell_type": "code",
   "execution_count": null,
   "metadata": {},
   "outputs": [],
   "source": [
    "print(\"density of email network:\", str(nx.density(mail_DG)))\n",
    "print(\"density of department network:\", str(nx.density(dep_G)))"
   ]
  },
  {
   "cell_type": "code",
   "execution_count": null,
   "metadata": {},
   "outputs": [],
   "source": [
    "nx.average_clustering(mail_G)"
   ]
  },
  {
   "cell_type": "code",
   "execution_count": null,
   "metadata": {},
   "outputs": [],
   "source": [
    "central_node = 160\n",
    "CC_dict = nx.clustering(mail_G)\n",
    "CC = sum(CC_dict.values())/len(CC_dict.values())\n",
    "print(\"CC:\", CC)\n",
    "\n",
    "cc_central_node = nx.clustering(G, str(central_node))\n",
    "betweenness = nx.betweenness_centrality(DG, normalized = False)\n",
    "print(\"clustering coefficient:\", str(cc_central_node))\n",
    "print(\"betweenness of nodes:\", str(betweenness))\n",
    "type(betweenness)"
   ]
  },
  {
   "cell_type": "code",
   "execution_count": null,
   "metadata": {},
   "outputs": [],
   "source": [
    "lis = []\n",
    "for key in betweenness.keys():\n",
    "    lis.append(betweenness[key])\n",
    "\n",
    "plt.plot(range(len(lis)), lis)"
   ]
  },
  {
   "cell_type": "code",
   "execution_count": null,
   "metadata": {},
   "outputs": [],
   "source": [
    "print(\"betweenness of departments:\", str(nx.betweenness_centrality(DG_only_dep, normalized = False)))"
   ]
  },
  {
   "cell_type": "code",
   "execution_count": null,
   "metadata": {},
   "outputs": [],
   "source": [
    "lista = nx.degree(DG)\n",
    "assortativity = np.zeros(len(degrees))\n",
    "avg_neighbor_deg = nx.average_neighbor_degree(DG)\n",
    "for i in range(1, len(assortativity)):\n",
    "    avg = 0\n",
    "    num = 0\n",
    "    summ = 0\n",
    "    for node_str, degree in lista:\n",
    "        if degree == i:\n",
    "            num += 1\n",
    "            summ += avg_neighbor_deg[node_str]\n",
    "    avg = summ/num if num is not 0 else 0\n",
    "    assortativity[i] = avg\n",
    "\n",
    "print(assortativity)"
   ]
  },
  {
   "cell_type": "code",
   "execution_count": null,
   "metadata": {},
   "outputs": [],
   "source": [
    "print(nx.degree_assortativity_coefficient(DG))\n",
    "plt.scatter(range(len(assortativity)), assortativity)"
   ]
  },
  {
   "cell_type": "code",
   "execution_count": null,
   "metadata": {},
   "outputs": [],
   "source": []
  }
 ],
 "metadata": {
  "kernelspec": {
   "display_name": "Python 3",
   "language": "python",
   "name": "python3"
  },
  "language_info": {
   "codemirror_mode": {
    "name": "ipython",
    "version": 3
   },
   "file_extension": ".py",
   "mimetype": "text/x-python",
   "name": "python",
   "nbconvert_exporter": "python",
   "pygments_lexer": "ipython3",
   "version": "3.6.5"
  }
 },
 "nbformat": 4,
 "nbformat_minor": 2
}
