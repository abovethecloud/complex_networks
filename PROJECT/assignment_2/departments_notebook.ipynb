{
 "cells": [
  {
   "cell_type": "markdown",
   "metadata": {},
   "source": [
    "# E-mail network analysis"
   ]
  },
  {
   "cell_type": "markdown",
   "metadata": {},
   "source": [
    "## Mail Graph creation"
   ]
  },
  {
   "cell_type": "markdown",
   "metadata": {},
   "source": [
    "### Importing the necessary packages\n",
    "First of all we begin by importing the necessary packages. The necessary ones are `networkx` and `matplotlib.pyplot`. The first is used for network analysis and the second for plotting."
   ]
  },
  {
   "cell_type": "code",
   "execution_count": 20,
   "metadata": {},
   "outputs": [],
   "source": [
    "import networkx as nx  # Core network analysis package\n",
    "import numpy as np  # Core numeric package\n",
    "import matplotlib.pyplot as plt  # Core plotting package\n",
    "import dzcnapy_plotlib as dzcnapy  # Optional library containing pre-made plotting options\n",
    "import csv  # Package for csv I/O\n",
    "from collections import Counter  # Import only the single object Counter\n",
    "import warnings  # To suppress some warnings\n",
    "#import powerlaw  # To test the power law distribution\n",
    "\n",
    "#from scipy.optimize import curve_fit"
   ]
  },
  {
   "cell_type": "markdown",
   "metadata": {},
   "source": [
    "### Reading data files\n",
    "We open the data in csv format (list of edges representing mail communication) and create the corresponding **directed** graph, called `mail_DG`"
   ]
  },
  {
   "cell_type": "code",
   "execution_count": 2,
   "metadata": {},
   "outputs": [],
   "source": [
    "with open(\"email-Eu-core.csv\") as infile:\n",
    "    csv_reader = csv.reader(infile)\n",
    "    mail_DG = nx.DiGraph(csv_reader)\n",
    "\n",
    "#print(DG.nodes(data = True))\n",
    "#print(DG.edges(data = True))"
   ]
  },
  {
   "cell_type": "markdown",
   "metadata": {},
   "source": [
    "Then we read the second file, which contains the department to which every node belongs, and add the information to the nodes in the graph. The result is a _directed graph_ with an attribute called `department` (with int values from 0 to 41) for each node.\n",
    "There are 1005 nodes - or people - divided into 42 classes (or departments)."
   ]
  },
  {
   "cell_type": "code",
   "execution_count": 3,
   "metadata": {},
   "outputs": [],
   "source": [
    "# We create a dictionary of dictionaries, having as key the node label (number between 0 and 1004)\n",
    "# and with value a dictionary with the name of the attribute ('deprtment') as key and as associated value\n",
    "# the department number of the node.\n",
    "# NOTE: this structure is necessary because there could be more attributes, and it is required by the function\n",
    "# set_node_attributes in networkx\n",
    "\n",
    "with open(\"email-Eu-core-department-labels.csv\") as infile:\n",
    "    csv_reader = csv.reader(infile)\n",
    "    attr_dict_dict = {rows[0]: {'department': int(rows[1])} for rows in csv_reader}\n",
    "\n",
    "#print(attr_dict_dict)"
   ]
  },
  {
   "cell_type": "code",
   "execution_count": 4,
   "metadata": {},
   "outputs": [],
   "source": [
    "nx.set_node_attributes(mail_DG, attr_dict_dict)\n",
    "\n",
    "#print(DG.nodes(data = True))"
   ]
  },
  {
   "cell_type": "markdown",
   "metadata": {},
   "source": [
    "###### Cleaning the graph\n",
    "Let us remove the self-loops from the graph (sinche those represent the mail to one-self, irrelevant to the analysis):"
   ]
  },
  {
   "cell_type": "code",
   "execution_count": 5,
   "metadata": {},
   "outputs": [],
   "source": [
    "self_loops = mail_DG.selfloop_edges()\n",
    "mail_DG.remove_edges_from(self_loops)"
   ]
  },
  {
   "cell_type": "markdown",
   "metadata": {},
   "source": [
    "We also create an undirected version of the graph, which might be useful for some manipulation. Note that even if the network is originally undirected, it is not necessarily true that the undirected version has no meaning.\n",
    "This transposition requires a simple casting."
   ]
  },
  {
   "cell_type": "code",
   "execution_count": 6,
   "metadata": {},
   "outputs": [],
   "source": [
    "mail_G = mail_DG.to_undirected()  # Undirected version of graph used for the computation of clustering coefficient"
   ]
  },
  {
   "cell_type": "markdown",
   "metadata": {},
   "source": [
    "We can see the difference in edges and degree between the original directed graph and its undirected view."
   ]
  },
  {
   "cell_type": "code",
   "execution_count": 7,
   "metadata": {},
   "outputs": [
    {
     "name": "stdout",
     "output_type": "stream",
     "text": [
      "DIRECTED VERSION OF THE GRAPH:\n",
      "Name: \n",
      "Type: DiGraph\n",
      "Number of nodes: 1005\n",
      "Number of edges: 24929\n",
      "Average in degree:  24.8050\n",
      "Average out degree:  24.8050\n",
      "\n",
      "UNDIRECTED VERSION:\n",
      "Name: \n",
      "Type: Graph\n",
      "Number of nodes: 1005\n",
      "Number of edges: 16064\n",
      "Average degree:  31.9682\n"
     ]
    }
   ],
   "source": [
    "print(\"DIRECTED VERSION OF THE GRAPH:\")\n",
    "print(nx.info(mail_DG) + \"\\n\")\n",
    "\n",
    "print(\"UNDIRECTED VERSION:\")\n",
    "print(nx.info(mail_G))"
   ]
  },
  {
   "cell_type": "markdown",
   "metadata": {},
   "source": [
    "## Department graph creation\n",
    "The analysis of the department graph (based on the interactions between their elements) could be of interest.\n",
    "We create the graph by adding all departments as nodes, and then adding edges between them based on the number of (undirected) edges between their elements."
   ]
  },
  {
   "cell_type": "code",
   "execution_count": 8,
   "metadata": {},
   "outputs": [],
   "source": [
    "# Graph initialization with just the departments as nodes\n",
    "\n",
    "dep_G = nx.Graph()\n",
    "for node in mail_DG.nodes(data = True):\n",
    "    label, attr_dict = node\n",
    "    dep_G.add_node(attr_dict[\"department\"])\n",
    "    \n",
    "#print(nx.info(dep_G))"
   ]
  },
  {
   "cell_type": "code",
   "execution_count": 9,
   "metadata": {},
   "outputs": [],
   "source": [
    "# For each edge in the undirected mail graph, identify the department of bot source and target\n",
    "# and create an edge between those departments in the departments graph if not already existing.\n",
    "# Otherwise add a weight unit to the existing edge between departments.\n",
    "for edge in mail_G.edges(data=True):\n",
    "    source, target, edg_attr = edge\n",
    "    source_dep = attr_dict_dict[source]['department']\n",
    "    targ_dep = attr_dict_dict[target]['department']\n",
    "    if dep_G.has_edge(source_dep, targ_dep) == False:\n",
    "        dep_G.add_edge(source_dep, targ_dep, weight = 1)\n",
    "    else:\n",
    "        edges = dep_G.edges\n",
    "        w = edges[source_dep, targ_dep]['weight']\n",
    "        dep_G.add_edge(source_dep, targ_dep, weight = w+1)"
   ]
  },
  {
   "cell_type": "markdown",
   "metadata": {},
   "source": [
    "Note that the result is an undirected weighted graph with 42 nodes:"
   ]
  },
  {
   "cell_type": "code",
   "execution_count": 10,
   "metadata": {},
   "outputs": [
    {
     "name": "stdout",
     "output_type": "stream",
     "text": [
      "Name: \n",
      "Type: Graph\n",
      "Number of nodes: 42\n",
      "Number of edges: 679\n",
      "Average degree:  32.3333\n"
     ]
    }
   ],
   "source": [
    "print(nx.info(dep_G))"
   ]
  },
  {
   "cell_type": "markdown",
   "metadata": {},
   "source": [
    "### Graph export\n",
    "To visualize the graphs, we export them in `graphml` format to import them in _Gephi_."
   ]
  },
  {
   "cell_type": "code",
   "execution_count": 11,
   "metadata": {},
   "outputs": [],
   "source": [
    "nx.write_graphml(mail_DG, \"emails_w_attr_dep.graphml\")\n",
    "nx.write_graphml(dep_G, \"departments_weighted.graphml\")"
   ]
  },
  {
   "cell_type": "markdown",
   "metadata": {},
   "source": [
    "## Networks Analysis"
   ]
  },
  {
   "cell_type": "markdown",
   "metadata": {},
   "source": [
    "### Connected components and Giant Component\n",
    "#### Mail network\n",
    "First, we analyze the composition of the network by searching for the weakly and strongly connected components in the directed mail graph.\n",
    "Note that, clearly, the number of weakly connected components of the directed mail graph is the same as the number of connected components of the undirected mail graph."
   ]
  },
  {
   "cell_type": "code",
   "execution_count": 12,
   "metadata": {},
   "outputs": [
    {
     "name": "stdout",
     "output_type": "stream",
     "text": [
      "# of connected components (undirected version of the graph): 20\n",
      "# of weakly connected components:                            20\n",
      "# of strongly connected components:                          203\n"
     ]
    }
   ],
   "source": [
    "n_weak_conn_comp = nx.number_weakly_connected_components(mail_DG)\n",
    "n_strong_conn_comp = nx.number_strongly_connected_components(mail_DG)\n",
    "n_conn_comp = nx.number_connected_components(mail_G)\n",
    "\n",
    "print(\"# of connected components (undirected version of the graph): \" + str(n_conn_comp))\n",
    "print(\"# of weakly connected components:                            \" + str(n_weak_conn_comp))\n",
    "print(\"# of strongly connected components:                          \" + str(n_strong_conn_comp))"
   ]
  },
  {
   "cell_type": "markdown",
   "metadata": {
    "variables": {
     "n_conn_comp": "20"
    }
   },
   "source": [
    "Is there a giant component in the graph?\n",
    "First we check the undirected graph (which has only {{n_conn_comp}} components)"
   ]
  },
  {
   "cell_type": "code",
   "execution_count": 14,
   "metadata": {},
   "outputs": [
    {
     "name": "stdout",
     "output_type": "stream",
     "text": [
      "COMPONENT #0:\n",
      "# of nodes: 986\n",
      "# of edges: 16064\n",
      "Relative Order (proportion of nodes): 0.981094527363184\n",
      "Relative Size (proportion of edges): 1.0\n",
      "\n",
      "COMPONENT #1:\n",
      "# of nodes: 1\n",
      "# of edges: 0\n",
      "Relative Order (proportion of nodes): 0.0009950248756218905\n",
      "Relative Size (proportion of edges): 0.0\n",
      "\n",
      "COMPONENT #2:\n",
      "# of nodes: 1\n",
      "# of edges: 0\n",
      "Relative Order (proportion of nodes): 0.0009950248756218905\n",
      "Relative Size (proportion of edges): 0.0\n",
      "\n",
      "...\n",
      "\n",
      "COMPONENT #19:\n",
      "# of nodes: 1\n",
      "# of edges: 0\n",
      "Relative Order (proportion of nodes): 0.0009950248756218905\n",
      "Relative Size (proportion of edges): 0.0\n",
      "\n"
     ]
    }
   ],
   "source": [
    "# Create the list of UNDIRECTED connected components (subgraphs)\n",
    "connected_components_generator = (mail_G.subgraph(c) for c in nx.connected_components(mail_G))\n",
    "conn_comp_list = list(connected_components_generator)\n",
    "\n",
    "# Compute total size and order to see the proportion in the components\n",
    "tot_nodes_n = mail_G.order()\n",
    "tot_undirected_edges_n = mail_G.size()\n",
    "\n",
    "# Initialize variables to search for the biggest component:\n",
    "max_order = 0\n",
    "max_order_index = 0  # Initialization for the variable which will contain the position of the component with highest order\n",
    "\n",
    "HEAD_INDEX = 2  # For printing purposes - Constant\n",
    "tail_index = len(conn_comp_list) - 1  # For printing purposes - to be adapted \n",
    "\n",
    "# Scan through components, find the one with max order and print some info for the first bunch\n",
    "for (i, component) in zip(range(len(conn_comp_list)), conn_comp_list):\n",
    "    n_nodes_comp = component.order()\n",
    "    n_directed_edges_comp = component.size()   \n",
    "    \n",
    "    if n_nodes_comp > max_order:\n",
    "        max_order = n_nodes_comp\n",
    "        max_order_index = i\n",
    "    \n",
    "    relative_order = n_nodes_comp/tot_nodes_n\n",
    "    relative_size = n_directed_edges_comp/tot_undirected_edges_n\n",
    "    \n",
    "    if i <= HEAD_INDEX or i >= tail_index:\n",
    "        print(\"COMPONENT #\" + str(i) + \":\")\n",
    "        print(\"# of nodes: \" + str(n_nodes_comp))\n",
    "        print(\"# of edges: \" + str(n_directed_edges_comp))\n",
    "        print(\"Relative Order (proportion of nodes):\", relative_order)\n",
    "        print(\"Relative Size (proportion of edges):\", relative_size)\n",
    "        print()\n",
    "    if i == HEAD_INDEX:\n",
    "        print(\"...\\n\")"
   ]
  },
  {
   "cell_type": "markdown",
   "metadata": {
    "variables": {
     "n_strong_conn_comp": "203"
    }
   },
   "source": [
    "Yes.\n",
    "The other 19 components are actually isolated nodes that communicate at most with themselves (self-loops).\n",
    "Then we hope to find also a strongly connected giant component in the directed graph (which has {{n_strong_conn_comp}} components):"
   ]
  },
  {
   "cell_type": "code",
   "execution_count": 15,
   "metadata": {},
   "outputs": [
    {
     "name": "stdout",
     "output_type": "stream",
     "text": [
      "COMPONENT #0:\n",
      "# of nodes: 1\n",
      "# of edges: 0\n",
      "Relative Order (proportion of nodes): 0.0009950248756218905\n",
      "Relative Size (proportion of edges): 0.0\n",
      "\n",
      "COMPONENT #1:\n",
      "# of nodes: 1\n",
      "# of edges: 0\n",
      "Relative Order (proportion of nodes): 0.0009950248756218905\n",
      "Relative Size (proportion of edges): 0.0\n",
      "\n",
      "...\n",
      "\n",
      "COMPONENT #162:\n",
      "# of nodes: 803\n",
      "# of edges: 24138\n",
      "Relative Order (proportion of nodes): 0.7990049751243781\n",
      "Relative Size (proportion of edges): 0.9682698864775964\n",
      "...\n",
      "\n",
      "COMPONENT #202:\n",
      "# of nodes: 1\n",
      "# of edges: 0\n",
      "Relative Order (proportion of nodes): 0.0009950248756218905\n",
      "Relative Size (proportion of edges): 0.0\n",
      "\n"
     ]
    }
   ],
   "source": [
    "# Create the list of components (subgraphs)\n",
    "strongly_connected_components_generator = (mail_DG.subgraph(c) for c in nx.strongly_connected_components(mail_DG))\n",
    "str_conn_comp_list = list(strongly_connected_components_generator)\n",
    "\n",
    "# Compute total size and order to see the proportion in the components\n",
    "tot_nodes_n = mail_DG.order()\n",
    "tot_directed_edges_n = mail_DG.size()\n",
    "\n",
    "# Initialize variables to search for the biggest component:\n",
    "max_directed_order = 0\n",
    "max_directed_order_index = 0\n",
    "\n",
    "HEAD_INDEX = 1  # For printing purposes - Constant\n",
    "tail_index = len(str_conn_comp_list) - 1  # For printing purposes - to be adapted \n",
    "\n",
    "# Scan through components, find the one with max order and print some info for the first bunch\n",
    "for (i, component) in zip(range(len(str_conn_comp_list)), str_conn_comp_list):\n",
    "    n_nodes_comp = component.order()\n",
    "    n_directed_edges_comp = component.size()   \n",
    "    \n",
    "    if n_nodes_comp > max_directed_order:\n",
    "        max_directed_order = n_nodes_comp\n",
    "        max_directed_order_index = i\n",
    "    \n",
    "    relative_order = n_nodes_comp/tot_nodes_n\n",
    "    relative_size = n_directed_edges_comp/tot_directed_edges_n\n",
    "    \n",
    "    if i <= HEAD_INDEX or i >= tail_index:\n",
    "        print(\"COMPONENT #\" + str(i) + \":\")\n",
    "        print(\"# of nodes: \" + str(n_nodes_comp))\n",
    "        print(\"# of edges: \" + str(n_directed_edges_comp))\n",
    "        print(\"Relative Order (proportion of nodes):\", relative_order)\n",
    "        print(\"Relative Size (proportion of edges):\", relative_size)\n",
    "        print()\n",
    "    if i == HEAD_INDEX:\n",
    "        print(\"...\\n\")\n",
    "    if n_nodes_comp > 1:\n",
    "        print(\"COMPONENT #\" + str(i) + \":\")\n",
    "        print(\"# of nodes: \" + str(n_nodes_comp))\n",
    "        print(\"# of edges: \" + str(n_directed_edges_comp))\n",
    "        print(\"Relative Order (proportion of nodes):\", relative_order)\n",
    "        print(\"Relative Size (proportion of edges):\", relative_size)\n",
    "        print(\"...\\n\")"
   ]
  },
  {
   "cell_type": "markdown",
   "metadata": {
    "variables": {
     "max_directed_order": "803",
     "n_strong_conn_comp-1": "202"
    }
   },
   "source": [
    "In this case, too, we gladly find that there is a single giant strongly connected component with {{max_directed_order}} nodes, while the other {{n_strong_conn_comp-1}} components are just single nodes."
   ]
  },
  {
   "cell_type": "code",
   "execution_count": 16,
   "metadata": {},
   "outputs": [],
   "source": [
    "# Saving the giant components (both directed and undirected) with simple variable names\n",
    "giant_component_mail_G = conn_comp_list[max_order_index]\n",
    "gc_mail_G = giant_component_mail_G\n",
    "\n",
    "strong_giant_component_mail_DG = str_conn_comp_list[max_directed_order_index]\n",
    "sgc_mail_DG = strong_giant_component_mail_DG"
   ]
  },
  {
   "cell_type": "markdown",
   "metadata": {},
   "source": [
    "For the analysis of the mail network, we can in some instances use just the giant component. This will enable us to find measures like distances without risking to find infinite-length (not connected) paths."
   ]
  },
  {
   "cell_type": "markdown",
   "metadata": {},
   "source": [
    "### Measures - degree\n",
    "\n",
    "We first extrapolate the degree of all nodes in the original directed graph, we find the max, we compute the frequency for each degree.."
   ]
  },
  {
   "cell_type": "code",
   "execution_count": 31,
   "metadata": {},
   "outputs": [],
   "source": [
    "node_and_degrees = mail_DG.degree  # Iterator over 2-tuples (node, degree)\n",
    "\n",
    "node_degrees = list(deg for _, deg in mail_DG.degree)  # List of degrees"
   ]
  },
  {
   "cell_type": "code",
   "execution_count": 37,
   "metadata": {},
   "outputs": [
    {
     "name": "stdout",
     "output_type": "stream",
     "text": [
      "Max degree: 544\n"
     ]
    }
   ],
   "source": [
    "deg_counter = Counter(node_degrees)\n",
    "\n",
    "degrees = np.array(sorted(deg_counter.keys()))\n",
    "deg_freq = np.array(list(deg_counter[deg] for deg in degrees))\n",
    "\n",
    "max_degree = max(degrees)\n",
    "print(\"Max degree: \" + str(max_degree))\n",
    "\n",
    "mask_not_null = np.all([degrees != 0, deg_freq != 0], axis = 0)\n",
    "log_degrees = np.log(degrees[mask_not_null])\n",
    "log_deg_freq = np.log(deg_freq[mask_not_null])"
   ]
  },
  {
   "cell_type": "markdown",
   "metadata": {},
   "source": [
    "..and then we plot the distribution."
   ]
  },
  {
   "cell_type": "code",
   "execution_count": 38,
   "metadata": {},
   "outputs": [
    {
     "data": {
      "image/png": "[encoded data removed]",
      "text/plain": [
       "<matplotlib.figure.Figure at 0xa2226f5f8>"
      ]
     },
     "metadata": {},
     "output_type": "display_data"
    }
   ],
   "source": [
    "# Create a Figure divided in two Axes (subplots)\n",
    "fig, (ax, ax_log) = plt.subplots(2, 1)\n",
    "fig.set_size_inches(15, 15)\n",
    "fig.suptitle(\"Degree Distribution\", fontsize = 15)\n",
    "\n",
    "# In the first Axis draw the standard-scale distribution of degrees\n",
    "ax.set_xlabel('degree')\n",
    "ax.set_ylabel('frequency')\n",
    "ax.set_title(\"Standard-scale plot\")\n",
    "ax.scatter(degrees, deg_freq, marker = 'o', facecolors='none', edgecolors='#008000', label = 'Degree distribution')\n",
    "degrees = np.array(degrees)\n",
    "\n",
    "# In the second Axis draw the log-log distribution of degrees\n",
    "ax_log.set_xlabel('log(degree)')\n",
    "ax_log.set_ylabel('log(frequency)')\n",
    "ax_log.set_title(\"Log-Log plot of degree distribution\")\n",
    "ax_log.scatter(log_degrees, log_deg_freq, marker = 'o', facecolors='none', edgecolors='#000080', label = 'log-log distribution')\n",
    "\n",
    "# Save the figure as png and plot it\n",
    "#legend()  # No need for the legend\n",
    "plt.savefig(\"degree_distribution.png\")\n",
    "plt.show()"
   ]
  },
  {
   "cell_type": "markdown",
   "metadata": {},
   "source": [
    "We note that the distribution of the degrees in the whole graph roughly follows a power-law.\n",
    "If we decided to only consider the degrees of nodes included in the giant strongly connected component, we would find that it probably wouldn't follow a power-law."
   ]
  },
  {
   "cell_type": "markdown",
   "metadata": {},
   "source": [
    "Computing the average degree we get the sum of average in-degree and average out-degree, as expected."
   ]
  },
  {
   "cell_type": "code",
   "execution_count": 39,
   "metadata": {},
   "outputs": [
    {
     "name": "stdout",
     "output_type": "stream",
     "text": [
      "Average degree: 49.6099502488\n"
     ]
    }
   ],
   "source": [
    "tot_deg = sum(deg_freq)\n",
    "\n",
    "partial_sum = 0\n",
    "for deg, freq in zip(degrees, deg_freq):\n",
    "    partial_sum += deg*freq\n",
    "\n",
    "avg_deg = partial_sum/tot_deg\n",
    "print(\"Average degree: \" + str(avg_deg))"
   ]
  },
  {
   "cell_type": "code",
   "execution_count": 40,
   "metadata": {},
   "outputs": [
    {
     "name": "stdout",
     "output_type": "stream",
     "text": [
      "Variance of degree distribution: 3570.01104527\n",
      "Standard deviation: 59.7495694149\n"
     ]
    }
   ],
   "source": [
    "partial_sum = 0\n",
    "for deg, freq in zip(degrees, deg_freq):\n",
    "    partial_sum += freq*((deg - avg_deg)**2)\n",
    "\n",
    "var_deg = partial_sum/tot_deg\n",
    "print(\"Variance of degree distribution: \" + str(var_deg))\n",
    "print(\"Standard deviation: \" + str(np.sqrt(var_deg)))"
   ]
  },
  {
   "cell_type": "markdown",
   "metadata": {},
   "source": [
    "The degree distribution seems to satisfy a power-law, hence we can say that the network is scale-free."
   ]
  },
  {
   "cell_type": "markdown",
   "metadata": {},
   "source": [
    "### Measures - distances\n",
    "\n",
    "We compute the distribution of the distances and relevant statistics. For that we use the giant strongly connected component."
   ]
  },
  {
   "cell_type": "code",
   "execution_count": 44,
   "metadata": {},
   "outputs": [],
   "source": [
    "nodes = sgc_mail_DG.nodes()\n",
    "\n",
    "distances = []\n",
    "for node in nodes:\n",
    "    distances = distances + list((nx.shortest_path_length(sgc_mail_DG, source = node)).values())\n",
    "\n",
    "distances = np.array(distances)\n",
    "dist_freq = Counter(distances)"
   ]
  },
  {
   "cell_type": "code",
   "execution_count": 45,
   "metadata": {},
   "outputs": [
    {
     "data": {
      "image/png": "[encoded data removed]",
      "text/plain": [
       "<matplotlib.figure.Figure at 0x10d5b98d0>"
      ]
     },
     "metadata": {},
     "output_type": "display_data"
    }
   ],
   "source": [
    "dist_freq_list = list(dist_freq.values())\n",
    "dist_freq_list[0] = 0  # In the computation of statistics we exclude null distances since they mean nothing\n",
    "\n",
    "# We do not need to halve the number of distances for a directed graph, since the distances are NOT symmetric\n",
    "\n",
    "plt.plot(dist_freq_list, linestyle='dotted', color = 'red')\n",
    "plt.scatter(range(len(dist_freq_list)), dist_freq_list, linestyle='dotted', color = 'blue')\n",
    "plt.savefig(\"distance_distribution.png\")"
   ]
  },
  {
   "cell_type": "code",
   "execution_count": 46,
   "metadata": {},
   "outputs": [
    {
     "data": {
      "text/plain": [
       "2.5474824768713336"
      ]
     },
     "execution_count": 46,
     "metadata": {},
     "output_type": "execute_result"
    }
   ],
   "source": [
    "# Compute the radius and the diameter:\n",
    "eccentricities = nx.eccentricity(sgc_mail_DG)\n",
    "radius = min(eccentricities.values())  # Manual radius\n",
    "diameter = max(eccentricities.values())  # Manual diameter\n",
    "\n",
    "# Compute the average distance\n",
    "partial_sum = 0\n",
    "for i in range(diameter+1):\n",
    "    partial_sum += i*dist_freq_list[i]\n",
    "\n",
    "avg_dist = partial_sum/sum(dist_freq_list)\n",
    "avg_dist"
   ]
  },
  {
   "cell_type": "code",
   "execution_count": 47,
   "metadata": {},
   "outputs": [
    {
     "data": {
      "text/plain": [
       "2.5474824768713336"
      ]
     },
     "execution_count": 47,
     "metadata": {},
     "output_type": "execute_result"
    }
   ],
   "source": [
    "# DEPRECATED: now they correspond\n",
    "# Note that the average shortest path computed by the built-in function is DIFFERENT for a directed graph.\n",
    "# In this case it seems to be due to the funcion dividing by the total number of undirected distances instead\n",
    "# of the number of directed distances (which are LESS)\n",
    "nx.average_shortest_path_length(sgc_mail_DG)"
   ]
  },
  {
   "cell_type": "code",
   "execution_count": 75,
   "metadata": {},
   "outputs": [],
   "source": [
    "eccentricities = nx.eccentricity(sgc_mail_DG)"
   ]
  },
  {
   "cell_type": "code",
   "execution_count": 73,
   "metadata": {},
   "outputs": [
    {
     "data": {
      "text/plain": [
       "3"
      ]
     },
     "execution_count": 73,
     "metadata": {},
     "output_type": "execute_result"
    }
   ],
   "source": [
    "min(eccentricities.values())  # Manual radius"
   ]
  },
  {
   "cell_type": "code",
   "execution_count": 74,
   "metadata": {},
   "outputs": [
    {
     "data": {
      "text/plain": [
       "6"
      ]
     },
     "execution_count": 74,
     "metadata": {},
     "output_type": "execute_result"
    }
   ],
   "source": [
    "max(eccentricities.values())  # Manual diameter"
   ]
  },
  {
   "cell_type": "code",
   "execution_count": null,
   "metadata": {},
   "outputs": [],
   "source": []
  },
  {
   "cell_type": "markdown",
   "metadata": {},
   "source": [
    "We want to check the clustering coefficient for departments. We create the subgraphs for each department."
   ]
  },
  {
   "cell_type": "code",
   "execution_count": 69,
   "metadata": {},
   "outputs": [
    {
     "name": "stdout",
     "output_type": "stream",
     "text": [
      "Avg clustering coefficient for department 0: 0.65096676571\n",
      "Avg clustering coefficient for department 1: 0.690848114654\n",
      "Avg clustering coefficient for department 2: 0.894047619048\n",
      "Avg clustering coefficient for department 3: 0.748095238095\n",
      "Avg clustering coefficient for department 4: 0.496717226017\n",
      "Avg clustering coefficient for department 5: 0.86339151045\n",
      "Avg clustering coefficient for department 6: 0.0\n",
      "Avg clustering coefficient for department 7: 0.804021513974\n",
      "Avg clustering coefficient for department 8: 0.776966243633\n",
      "Avg clustering coefficient for department 9: 0.58062004662\n",
      "Avg clustering coefficient for department 10: 0.754658703203\n",
      "Avg clustering coefficient for department 11: 0.871136729154\n",
      "Avg clustering coefficient for department 12: 1.0\n",
      "Avg clustering coefficient for department 13: 0.825066414045\n",
      "Avg clustering coefficient for department 14: 0.541140271097\n",
      "Avg clustering coefficient for department 15: 0.638025045008\n",
      "Avg clustering coefficient for department 16: 0.874053843473\n",
      "Avg clustering coefficient for department 17: 0.814860337965\n",
      "Avg clustering coefficient for department 18: nan\n",
      "Avg clustering coefficient for department 19: 0.821579777448\n",
      "Avg clustering coefficient for department 20: 0.782828282828\n",
      "Avg clustering coefficient for department 21: 0.769935894179\n",
      "Avg clustering coefficient for department 22: 0.632556332556\n",
      "Avg clustering coefficient for department 23: 0.159722222222\n",
      "Avg clustering coefficient for department 24: 0.0\n",
      "Avg clustering coefficient for department 25: 1.0\n",
      "Avg clustering coefficient for department 26: 0.754761904762\n",
      "Avg clustering coefficient for department 27: 0.0\n",
      "Avg clustering coefficient for department 28: 0.7\n",
      "Avg clustering coefficient for department 29: 0.0\n",
      "Avg clustering coefficient for department 30: 0.0\n",
      "Avg clustering coefficient for department 31: 0.0\n",
      "Avg clustering coefficient for department 32: 0.783333333333\n",
      "Avg clustering coefficient for department 33: nan\n",
      "Avg clustering coefficient for department 34: 0.730238095238\n",
      "Avg clustering coefficient for department 35: 0.740909090909\n",
      "Avg clustering coefficient for department 36: 0.796401147872\n",
      "Avg clustering coefficient for department 37: 0.791197691198\n",
      "Avg clustering coefficient for department 38: 0.80303030303\n",
      "Avg clustering coefficient for department 39: 0.0\n",
      "Avg clustering coefficient for department 40: 1.0\n",
      "Avg clustering coefficient for department 41: 0.0\n"
     ]
    }
   ],
   "source": [
    "def department_clustering(DG):\n",
    "    \n",
    "    nodes = DG.nodes(data = True)\n",
    "\n",
    "    listona = []\n",
    "    for i in range(42):\n",
    "        listona.append(DG.subgraph([n for n, attrdict in DG.node.items() if attrdict['department'] == i]))\n",
    "\n",
    "    avg_clust_dep = np.zeros(42)\n",
    "    for i in range(42):\n",
    "        if len(listona[i].nodes()) != 0:\n",
    "            avg_clust_dep[i] = nx.average_clustering(listona[i].to_undirected())\n",
    "        else:\n",
    "            avg_clust_dep[i] = None\n",
    "    \n",
    "    return avg_clust_dep\n",
    "\n",
    "avg_clust_dep = department_clustering(sgc_mail_DG)\n",
    "for i in range(42):\n",
    "    print(\"Avg clustering coefficient for department \" + str(i) + \": \" + str(avg_clust_dep[i]))"
   ]
  },
  {
   "cell_type": "code",
   "execution_count": 54,
   "metadata": {},
   "outputs": [
    {
     "name": "stdout",
     "output_type": "stream",
     "text": [
      "({'288', '665', '434', '385', '14', '447', '377', '617', '332', '82', '799', '388', '387', '813', '826', '644', '314', '562', '896', '954', '947', '286', '822', '55', '81', '112', '887', '94', '905', '776', '114', '851', '590', '348', '83', '717', '856', '496', '181', '510', '520', '159', '21', '424', '737', '528', '107', '360', '71', '672', '324', '168', '957', '945', '859', '450', '527', '167', '104', '225', '174', '572', '818', '414', '872', '92', '153', '621', '7', '616', '177', '806', '938', '725', '198', '403', '844', '485', '135', '281', '681', '955', '507', '506', '632', '193', '261', '369', '840', '4', '530', '147', '501', '543', '149', '511', '337', '978', '355', '969', '378', '537', '880', '379', '758', '321', '407', '381', '552', '255', '211', '226', '482', '694', '491', '926', '499', '698', '176', '466', '351', '306', '512', '305', '1003', '40', '299', '495', '526', '103', '610', '131', '8', '812', '127', '179', '525', '313', '395', '303', '243', '241', '87', '455', '697', '235', '919', '493', '581', '136', '791', '866', '132', '178', '431', '160', '710', '666', '163', '821', '64', '548', '375', '79', '358', '354', '917', '815', '109', '120', '569', '37', '990', '336', '727', '365', '284', '393', '643', '614', '251', '522', '976', '459', '748', '157', '542', '62', '102', '278', '478', '589', '67', '224', '627', '714', '554', '508', '309', '451', '816', '679', '592', '734', '72', '77', '396', '970', '323', '362', '57', '860', '253', '320', '16', '33', '930', '591', '615', '15', '20', '577', '140', '651', '906', '28', '743', '169', '96', '706', '517', '190', '373', '523', '428', '267', '208', '53', '61', '145', '26', '66', '820', '300', '641', '667', '65', '234', '921', '415', '847', '962', '283', '339', '326', '696', '419', '895', '17', '728', '412', '237', '689', '126', '766', '783', '551', '310', '274', '462', '907', '824', '328', '695', '521', '249', '85', '232', '115', '139', '981', '494', '418', '991', '401', '720', '471', '141', '276', '124', '825', '188', '209', '832', '909', '515', '649', '350', '448', '405', '322', '444', '25', '36', '441', '162', '70', '566', '835', '42', '117', '265', '374', '797', '713', '155', '86', '640', '474', '839', '38', '294', '397', '541', '635', '391', '425', '238', '144', '753', '664', '416', '172', '492', '240', '638', '242', '89', '325', '488', '204', '454', '810', '936', '715', '971', '483', '514', '735', '736', '789', '119', '205', '380', '952', '421', '588', '97', '298', '937', '250', '152', '601', '547', '334', '902', '183', '148', '463', '432', '49', '76', '150', '268', '465', '363', '470', '756', '645', '231', '372', '892', '438', '329', '490', '123', '23', '84', '56', '779', '110', '404', '347', '539', '287', '335', '611', '256', '655', '845', '533', '218', '473', '154', '855', '811', '317', '476', '741', '210', '291', '1000', '745', '367', '429', '567', '599', '898', '368', '116', '503', '518', '778', '550', '27', '91', '481', '939', '480', '457', '585', '433', '54', '12', '214', '885', '301', '22', '108', '197', '935', '963', '500', '823', '32', '786', '912', '63', '2', '426', '58', '207', '852', '555', '738', '200', '221', '699', '903', '440', '389', '236', '182', '3', '343', '233', '277', '189', '598', '716', '925', '538', '446', '443', '331', '29', '98', '650', '18', '270', '685', '161', '345', '73', '340', '740', '312', '469', '217', '489', '316', '75', '248', '624', '128', '52', '733', '327', '88', '59', '364', '869', '318', '456', '285', '273', '302', '730', '931', '113', '913', '437', '565', '427', '553', '346', '460', '708', '557', '263', '13', '307', '705', '519', '409', '142', '502', '942', '186', '556', '24', '134', '564', '333', '953', '647', '394', '544', '192', '445', '137', '185', '341', '933', '99', '259', '980', '370', '133', '662', '352', '504', '918', '406', '39', '196', '247', '721', '422', '105', '43', '180', '212', '467', '122', '219', '513', '642', '654', '669', '535', '151', '661', '330', '908', '410', '9', '48', '613', '442', '768', '509', '266', '602', '41', '534', '487', '751', '838', '392', '47', '69', '841', '244', '803', '951', '349', '45', '206', '423', '531', '417', '420', '166', '914', '563', '269', '582', '19', '678', '44', '877', '342', '618', '692', '202', '279', '254', '165', '46', '220', '929', '5', '125', '607', '371', '828', '138', '809', '883', '486', '275', '920', '498', '184', '430', '568', '623', '629', '754', '223', '0', '272', '999', '296', '230', '673', '484', '800', '357', '68', '95', '74', '833', '51', '924', '777', '258', '156', '932', '93', '587', '608', '100', '958', '579', '700', '111', '282', '612', '408', '570', '593', '121', '900', '950', '461', '747', '619', '817', '560', '311', '356', '359', '304', '793', '252', '949', '829', '338', '974', '295', '118', '1001', '400', '742', '143', '11', '609', '399', '376', '195', '597', '50', '222', '245', '453', '674', '175', '390', '726', '411', '529', '344', '889', '891', '922', '257', '620', '956', '262', '80', '549', '545', '497', '671', '216', '452', '106', '652', '293', '187', '271', '546', '101', '923', '280', '573', '171', '60', '308', '229', '6', '366', '458', '215', '723', '878', '35', '435', '686', '201', '31', '516', '146', '361', '413', '540', '927', '30', '558', '246', '10', '865', '90', '600', '843', '690', '663', '353', '559', '292', '464', '837', '170', '477', '228', '34', '173', '989', '290', '264', '158', '164', '129', '814', '760', '836', '194', '199', '763', '719', '260', '765', '596', '536', '297', '886', '191', '213', '707', '759'}, {'996'})\n",
      "({'288', '665', '434', '385', '14', '447', '377', '617', '332', '82', '799', '388', '387', '813', '826', '644', '314', '562', '896', '954', '947', '286', '822', '55', '81', '112', '887', '94', '905', '776', '114', '851', '590', '348', '83', '717', '856', '496', '181', '510', '520', '159', '21', '424', '737', '528', '107', '360', '71', '672', '324', '168', '957', '945', '859', '450', '527', '167', '104', '225', '174', '572', '818', '414', '872', '92', '153', '621', '7', '616', '177', '806', '938', '725', '198', '403', '844', '485', '135', '281', '681', '955', '507', '506', '632', '193', '261', '369', '840', '4', '530', '147', '501', '543', '149', '511', '337', '978', '355', '969', '378', '537', '880', '379', '758', '321', '407', '381', '552', '255', '211', '226', '482', '694', '491', '926', '499', '698', '176', '466', '351', '306', '512', '305', '1003', '40', '299', '495', '526', '103', '610', '131', '8', '812', '127', '179', '525', '313', '395', '303', '243', '241', '87', '455', '697', '235', '919', '493', '581', '136', '791', '866', '132', '178', '431', '160', '710', '666', '163', '821', '64', '548', '375', '79', '358', '354', '917', '815', '109', '120', '569', '37', '990', '336', '727', '365', '284', '393', '643', '614', '251', '522', '976', '459', '748', '157', '542', '62', '102', '278', '478', '589', '67', '224', '627', '714', '554', '508', '309', '451', '816', '679', '592', '734', '72', '77', '396', '970', '323', '362', '57', '860', '253', '320', '16', '33', '930', '591', '615', '15', '20', '577', '140', '651', '906', '28', '743', '169', '96', '706', '517', '190', '373', '523', '428', '267', '208', '53', '61', '145', '26', '66', '820', '300', '641', '667', '65', '234', '921', '415', '847', '962', '283', '339', '326', '696', '419', '895', '17', '728', '412', '237', '689', '126', '766', '783', '551', '310', '274', '462', '907', '824', '328', '695', '521', '249', '85', '232', '115', '139', '981', '494', '418', '991', '401', '720', '471', '141', '276', '124', '825', '188', '209', '832', '909', '515', '649', '350', '448', '405', '322', '444', '25', '36', '441', '162', '70', '566', '835', '42', '117', '265', '374', '797', '713', '155', '86', '640', '474', '839', '38', '294', '397', '541', '635', '391', '425', '238', '144', '753', '664', '416', '172', '492', '240', '638', '242', '89', '325', '488', '204', '454', '810', '936', '715', '971', '483', '514', '735', '736', '789', '119', '205', '380', '952', '421', '588', '97', '298', '937', '250', '152', '601', '547', '334', '902', '183', '148', '463', '432', '49', '76', '150', '268', '465', '363', '470', '756', '645', '231', '372', '892', '438', '329', '490', '123', '23', '84', '56', '779', '110', '404', '347', '539', '287', '335', '611', '256', '655', '845', '533', '218', '473', '154', '855', '811', '317', '476', '741', '210', '291', '1000', '745', '367', '429', '567', '599', '898', '368', '116', '503', '518', '778', '550', '27', '91', '481', '939', '480', '457', '585', '433', '54', '12', '214', '885', '301', '22', '108', '197', '935', '963', '500', '823', '32', '786', '912', '63', '2', '426', '58', '207', '852', '555', '738', '200', '221', '699', '903', '440', '389', '236', '182', '3', '343', '233', '277', '189', '598', '716', '925', '538', '446', '443', '331', '29', '98', '650', '18', '270', '685', '161', '345', '73', '340', '740', '312', '469', '217', '489', '316', '75', '248', '624', '128', '52', '733', '327', '88', '59', '364', '869', '318', '456', '285', '273', '302', '730', '931', '113', '913', '437', '565', '427', '553', '346', '460', '708', '557', '263', '13', '307', '705', '519', '409', '142', '502', '942', '186', '556', '24', '134', '564', '333', '953', '647', '394', '544', '192', '445', '137', '185', '341', '933', '99', '259', '980', '370', '133', '662', '352', '504', '918', '406', '39', '196', '247', '721', '422', '105', '43', '180', '212', '467', '122', '219', '513', '642', '654', '669', '535', '151', '661', '330', '908', '410', '9', '48', '613', '442', '768', '509', '266', '602', '41', '534', '487', '751', '838', '392', '47', '69', '841', '244', '803', '951', '349', '45', '206', '423', '531', '417', '420', '166', '914', '563', '269', '582', '19', '678', '44', '877', '342', '618', '692', '202', '279', '254', '165', '46', '220', '929', '5', '125', '607', '371', '828', '138', '809', '883', '486', '275', '920', '498', '184', '430', '568', '623', '629', '754', '223', '0', '272', '999', '296', '230', '484', '800', '357', '68', '95', '74', '833', '51', '924', '777', '258', '156', '932', '93', '587', '608', '100', '958', '579', '700', '111', '282', '612', '408', '570', '593', '121', '900', '950', '461', '747', '619', '817', '560', '311', '356', '359', '304', '793', '252', '949', '829', '338', '974', '295', '118', '1001', '400', '742', '143', '11', '609', '399', '376', '195', '597', '50', '222', '245', '453', '674', '175', '390', '726', '411', '529', '344', '889', '891', '922', '257', '620', '956', '262', '80', '549', '545', '497', '671', '216', '452', '106', '652', '293', '187', '271', '546', '101', '923', '280', '573', '171', '60', '308', '229', '6', '366', '458', '215', '723', '878', '35', '435', '686', '201', '31', '516', '146', '361', '413', '540', '927', '30', '558', '246', '10', '865', '90', '600', '843', '690', '663', '353', '559', '292', '464', '837', '170', '477', '228', '34', '173', '989', '290', '264', '158', '164', '129', '814', '760', '836', '194', '199', '763', '719', '260', '765', '596', '536', '297', '886', '191', '213', '707', '759'}, {'996'}, {'673'})\n"
     ]
    },
    {
     "name": "stdout",
     "output_type": "stream",
     "text": [
      "({'288', '665', '434', '385', '14', '447', '377', '617', '332', '82', '799', '388', '387', '813', '826', '644', '314', '562', '896', '954', '947', '286', '822', '55', '81', '112', '887', '94', '905', '776', '114', '851', '590', '348', '83', '717', '856', '496', '181', '510', '520', '159', '21', '424', '737', '528', '107', '360', '71', '672', '324', '168', '957', '945', '859', '450', '527', '167', '104', '225', '174', '572', '818', '414', '872', '92', '153', '621', '7', '616', '177', '806', '938', '725', '198', '403', '844', '485', '135', '281', '681', '955', '507', '506', '632', '193', '261', '369', '840', '4', '530', '147', '501', '543', '149', '511', '337', '978', '355', '969', '378', '537', '880', '379', '758', '321', '407', '381', '552', '255', '211', '226', '482', '694', '491', '926', '499', '698', '176', '466', '351', '306', '512', '305', '1003', '40', '299', '495', '526', '103', '610', '131', '8', '812', '127', '179', '525', '313', '395', '303', '243', '241', '87', '455', '697', '235', '919', '493', '581', '136', '791', '866', '132', '178', '431', '160', '710', '666', '163', '821', '64', '548', '375', '79', '358', '354', '917', '815', '109', '120', '569', '37', '990', '336', '727', '365', '284', '393', '643', '614', '251', '522', '976', '459', '748', '157', '542', '62', '102', '278', '478', '589', '67', '224', '627', '714', '554', '508', '309', '451', '816', '679', '592', '734', '72', '77', '396', '970', '323', '362', '57', '860', '253', '320', '16', '33', '930', '591', '615', '15', '20', '577', '140', '651', '906', '28', '743', '169', '96', '706', '517', '190', '373', '523', '428', '267', '208', '53', '61', '145', '26', '66', '820', '300', '641', '667', '65', '234', '921', '415', '847', '962', '283', '339', '326', '696', '419', '895', '17', '728', '412', '237', '689', '126', '766', '783', '551', '310', '274', '462', '907', '824', '328', '695', '521', '249', '85', '232', '115', '139', '981', '494', '418', '991', '401', '720', '471', '141', '276', '124', '825', '188', '209', '832', '909', '515', '649', '350', '448', '405', '322', '444', '25', '36', '441', '162', '70', '566', '835', '42', '117', '265', '374', '797', '713', '155', '86', '640', '474', '839', '38', '294', '397', '541', '635', '391', '425', '238', '144', '753', '664', '416', '172', '492', '240', '638', '242', '89', '325', '488', '204', '454', '810', '936', '715', '971', '483', '514', '735', '736', '789', '119', '205', '380', '952', '421', '588', '97', '298', '937', '250', '152', '601', '547', '334', '902', '183', '148', '463', '432', '49', '76', '150', '268', '465', '363', '470', '756', '645', '231', '372', '892', '438', '329', '490', '123', '23', '84', '56', '779', '110', '404', '347', '539', '287', '335', '611', '256', '655', '845', '533', '218', '473', '154', '855', '811', '317', '476', '741', '210', '291', '1000', '745', '367', '429', '567', '599', '898', '368', '116', '503', '518', '778', '550', '27', '91', '481', '939', '480', '457', '585', '433', '54', '12', '214', '885', '301', '22', '108', '197', '935', '963', '500', '823', '32', '786', '912', '63', '2', '426', '58', '207', '852', '555', '738', '200', '221', '699', '903', '440', '389', '236', '182', '3', '343', '233', '277', '189', '598', '716', '925', '538', '446', '443', '331', '29', '98', '18', '270', '685', '161', '345', '73', '340', '740', '312', '469', '217', '489', '316', '75', '248', '624', '128', '52', '733', '327', '88', '59', '364', '869', '318', '456', '285', '273', '302', '730', '931', '113', '913', '437', '565', '427', '553', '346', '460', '708', '557', '263', '13', '307', '705', '519', '409', '142', '502', '942', '186', '556', '24', '134', '564', '333', '953', '647', '394', '544', '192', '445', '137', '185', '341', '933', '99', '259', '980', '370', '133', '662', '352', '504', '918', '406', '39', '196', '247', '721', '422', '105', '43', '180', '212', '467', '122', '219', '513', '642', '654', '669', '535', '151', '661', '330', '908', '410', '9', '48', '613', '442', '768', '509', '266', '602', '41', '534', '487', '751', '838', '392', '47', '69', '841', '244', '803', '951', '349', '45', '206', '423', '531', '417', '420', '166', '914', '563', '269', '582', '19', '678', '44', '877', '342', '618', '692', '202', '279', '254', '165', '46', '220', '929', '5', '125', '607', '371', '828', '138', '809', '883', '486', '275', '920', '498', '184', '430', '568', '623', '629', '754', '223', '0', '272', '999', '296', '230', '484', '800', '357', '68', '95', '74', '833', '51', '924', '777', '258', '156', '932', '93', '587', '608', '100', '958', '579', '700', '111', '282', '612', '408', '570', '593', '121', '900', '950', '461', '747', '619', '817', '560', '311', '356', '359', '304', '793', '252', '949', '829', '338', '974', '295', '118', '1001', '400', '742', '143', '11', '609', '399', '376', '195', '597', '50', '222', '245', '453', '674', '175', '390', '726', '411', '529', '344', '889', '891', '922', '257', '620', '956', '262', '80', '549', '545', '497', '671', '216', '452', '106', '652', '293', '187', '271', '546', '101', '923', '280', '573', '171', '60', '308', '229', '6', '366', '458', '215', '723', '878', '35', '435', '686', '201', '31', '516', '146', '361', '413', '540', '927', '30', '558', '246', '10', '865', '90', '600', '843', '690', '663', '353', '559', '292', '464', '837', '170', '477', '228', '34', '173', '989', '290', '264', '158', '164', '129', '814', '760', '836', '194', '199', '763', '719', '260', '765', '596', '536', '297', '886', '191', '213', '707', '759'}, {'996'}, {'650'}, {'673'})\n"
     ]
    },
    {
     "ename": "KeyboardInterrupt",
     "evalue": "",
     "output_type": "error",
     "traceback": [
      "\u001b[0;31m---------------------------------------------------------------------------\u001b[0m",
      "\u001b[0;31mKeyboardInterrupt\u001b[0m                         Traceback (most recent call last)",
      "\u001b[0;32m<ipython-input-54-a29b45588391>\u001b[0m in \u001b[0;36m<module>\u001b[0;34m()\u001b[0m\n\u001b[1;32m      1\u001b[0m \u001b[0mcomponents\u001b[0m \u001b[0;34m=\u001b[0m \u001b[0mnx\u001b[0m\u001b[0;34m.\u001b[0m\u001b[0malgorithms\u001b[0m\u001b[0;34m.\u001b[0m\u001b[0mcommunity\u001b[0m\u001b[0;34m.\u001b[0m\u001b[0mcentrality\u001b[0m\u001b[0;34m.\u001b[0m\u001b[0mgirvan_newman\u001b[0m\u001b[0;34m(\u001b[0m\u001b[0msgc_mail_DG\u001b[0m\u001b[0;34m)\u001b[0m\u001b[0;34m\u001b[0m\u001b[0m\n\u001b[0;32m----> 2\u001b[0;31m \u001b[0;32mfor\u001b[0m \u001b[0mcomponent\u001b[0m \u001b[0;32min\u001b[0m \u001b[0mcomponents\u001b[0m\u001b[0;34m:\u001b[0m\u001b[0;34m\u001b[0m\u001b[0m\n\u001b[0m\u001b[1;32m      3\u001b[0m     \u001b[0mprint\u001b[0m\u001b[0;34m(\u001b[0m\u001b[0mcomponent\u001b[0m\u001b[0;34m)\u001b[0m\u001b[0;34m\u001b[0m\u001b[0m\n",
      "\u001b[0;32m~/anaconda3/lib/python3.6/site-packages/networkx/algorithms/community/centrality.py\u001b[0m in \u001b[0;36mgirvan_newman\u001b[0;34m(G, most_valuable_edge)\u001b[0m\n\u001b[1;32m    152\u001b[0m     \u001b[0mg\u001b[0m\u001b[0;34m.\u001b[0m\u001b[0mremove_edges_from\u001b[0m\u001b[0;34m(\u001b[0m\u001b[0mnx\u001b[0m\u001b[0;34m.\u001b[0m\u001b[0mselfloop_edges\u001b[0m\u001b[0;34m(\u001b[0m\u001b[0mg\u001b[0m\u001b[0;34m)\u001b[0m\u001b[0;34m)\u001b[0m\u001b[0;34m\u001b[0m\u001b[0m\n\u001b[1;32m    153\u001b[0m     \u001b[0;32mwhile\u001b[0m \u001b[0mg\u001b[0m\u001b[0;34m.\u001b[0m\u001b[0mnumber_of_edges\u001b[0m\u001b[0;34m(\u001b[0m\u001b[0;34m)\u001b[0m \u001b[0;34m>\u001b[0m \u001b[0;36m0\u001b[0m\u001b[0;34m:\u001b[0m\u001b[0;34m\u001b[0m\u001b[0m\n\u001b[0;32m--> 154\u001b[0;31m         \u001b[0;32myield\u001b[0m \u001b[0m_without_most_central_edges\u001b[0m\u001b[0;34m(\u001b[0m\u001b[0mg\u001b[0m\u001b[0;34m,\u001b[0m \u001b[0mmost_valuable_edge\u001b[0m\u001b[0;34m)\u001b[0m\u001b[0;34m\u001b[0m\u001b[0m\n\u001b[0m\u001b[1;32m    155\u001b[0m \u001b[0;34m\u001b[0m\u001b[0m\n\u001b[1;32m    156\u001b[0m \u001b[0;34m\u001b[0m\u001b[0m\n",
      "\u001b[0;32m~/anaconda3/lib/python3.6/site-packages/networkx/algorithms/community/centrality.py\u001b[0m in \u001b[0;36m_without_most_central_edges\u001b[0;34m(G, most_valuable_edge)\u001b[0m\n\u001b[1;32m    171\u001b[0m     \u001b[0mnum_new_components\u001b[0m \u001b[0;34m=\u001b[0m \u001b[0moriginal_num_components\u001b[0m\u001b[0;34m\u001b[0m\u001b[0m\n\u001b[1;32m    172\u001b[0m     \u001b[0;32mwhile\u001b[0m \u001b[0mnum_new_components\u001b[0m \u001b[0;34m<=\u001b[0m \u001b[0moriginal_num_components\u001b[0m\u001b[0;34m:\u001b[0m\u001b[0;34m\u001b[0m\u001b[0m\n\u001b[0;32m--> 173\u001b[0;31m         \u001b[0medge\u001b[0m \u001b[0;34m=\u001b[0m \u001b[0mmost_valuable_edge\u001b[0m\u001b[0;34m(\u001b[0m\u001b[0mG\u001b[0m\u001b[0;34m)\u001b[0m\u001b[0;34m\u001b[0m\u001b[0m\n\u001b[0m\u001b[1;32m    174\u001b[0m         \u001b[0mG\u001b[0m\u001b[0;34m.\u001b[0m\u001b[0mremove_edge\u001b[0m\u001b[0;34m(\u001b[0m\u001b[0;34m*\u001b[0m\u001b[0medge\u001b[0m\u001b[0;34m)\u001b[0m\u001b[0;34m\u001b[0m\u001b[0m\n\u001b[1;32m    175\u001b[0m         \u001b[0mnew_components\u001b[0m \u001b[0;34m=\u001b[0m \u001b[0mtuple\u001b[0m\u001b[0;34m(\u001b[0m\u001b[0mnx\u001b[0m\u001b[0;34m.\u001b[0m\u001b[0mconnected_components\u001b[0m\u001b[0;34m(\u001b[0m\u001b[0mG\u001b[0m\u001b[0;34m)\u001b[0m\u001b[0;34m)\u001b[0m\u001b[0;34m\u001b[0m\u001b[0m\n",
      "\u001b[0;32m~/anaconda3/lib/python3.6/site-packages/networkx/algorithms/community/centrality.py\u001b[0m in \u001b[0;36mmost_valuable_edge\u001b[0;34m(G)\u001b[0m\n\u001b[1;32m    144\u001b[0m             \u001b[0;31m# We have guaranteed that the graph is non-empty, so this\u001b[0m\u001b[0;34m\u001b[0m\u001b[0;34m\u001b[0m\u001b[0m\n\u001b[1;32m    145\u001b[0m             \u001b[0;31m# dictionary will never be empty.\u001b[0m\u001b[0;34m\u001b[0m\u001b[0;34m\u001b[0m\u001b[0m\n\u001b[0;32m--> 146\u001b[0;31m             \u001b[0mbetweenness\u001b[0m \u001b[0;34m=\u001b[0m \u001b[0mnx\u001b[0m\u001b[0;34m.\u001b[0m\u001b[0medge_betweenness_centrality\u001b[0m\u001b[0;34m(\u001b[0m\u001b[0mG\u001b[0m\u001b[0;34m)\u001b[0m\u001b[0;34m\u001b[0m\u001b[0m\n\u001b[0m\u001b[1;32m    147\u001b[0m             \u001b[0;32mreturn\u001b[0m \u001b[0mmax\u001b[0m\u001b[0;34m(\u001b[0m\u001b[0mbetweenness\u001b[0m\u001b[0;34m,\u001b[0m \u001b[0mkey\u001b[0m\u001b[0;34m=\u001b[0m\u001b[0mbetweenness\u001b[0m\u001b[0;34m.\u001b[0m\u001b[0mget\u001b[0m\u001b[0;34m)\u001b[0m\u001b[0;34m\u001b[0m\u001b[0m\n\u001b[1;32m    148\u001b[0m     \u001b[0;31m# The copy of G here must include the edge weight data.\u001b[0m\u001b[0;34m\u001b[0m\u001b[0;34m\u001b[0m\u001b[0m\n",
      "\u001b[0;32m~/anaconda3/lib/python3.6/site-packages/networkx/algorithms/centrality/betweenness.py\u001b[0m in \u001b[0;36medge_betweenness_centrality\u001b[0;34m(G, k, normalized, weight, seed)\u001b[0m\n\u001b[1;32m    198\u001b[0m         \u001b[0;31m# single source shortest paths\u001b[0m\u001b[0;34m\u001b[0m\u001b[0;34m\u001b[0m\u001b[0m\n\u001b[1;32m    199\u001b[0m         \u001b[0;32mif\u001b[0m \u001b[0mweight\u001b[0m \u001b[0;32mis\u001b[0m \u001b[0;32mNone\u001b[0m\u001b[0;34m:\u001b[0m  \u001b[0;31m# use BFS\u001b[0m\u001b[0;34m\u001b[0m\u001b[0m\n\u001b[0;32m--> 200\u001b[0;31m             \u001b[0mS\u001b[0m\u001b[0;34m,\u001b[0m \u001b[0mP\u001b[0m\u001b[0;34m,\u001b[0m \u001b[0msigma\u001b[0m \u001b[0;34m=\u001b[0m \u001b[0m_single_source_shortest_path_basic\u001b[0m\u001b[0;34m(\u001b[0m\u001b[0mG\u001b[0m\u001b[0;34m,\u001b[0m \u001b[0ms\u001b[0m\u001b[0;34m)\u001b[0m\u001b[0;34m\u001b[0m\u001b[0m\n\u001b[0m\u001b[1;32m    201\u001b[0m         \u001b[0;32melse\u001b[0m\u001b[0;34m:\u001b[0m  \u001b[0;31m# use Dijkstra's algorithm\u001b[0m\u001b[0;34m\u001b[0m\u001b[0m\n\u001b[1;32m    202\u001b[0m             \u001b[0mS\u001b[0m\u001b[0;34m,\u001b[0m \u001b[0mP\u001b[0m\u001b[0;34m,\u001b[0m \u001b[0msigma\u001b[0m \u001b[0;34m=\u001b[0m \u001b[0m_single_source_dijkstra_path_basic\u001b[0m\u001b[0;34m(\u001b[0m\u001b[0mG\u001b[0m\u001b[0;34m,\u001b[0m \u001b[0ms\u001b[0m\u001b[0;34m,\u001b[0m \u001b[0mweight\u001b[0m\u001b[0;34m)\u001b[0m\u001b[0;34m\u001b[0m\u001b[0m\n",
      "\u001b[0;32m~/anaconda3/lib/python3.6/site-packages/networkx/algorithms/centrality/betweenness.py\u001b[0m in \u001b[0;36m_single_source_shortest_path_basic\u001b[0;34m(G, s)\u001b[0m\n\u001b[1;32m    234\u001b[0m         \u001b[0mDv\u001b[0m \u001b[0;34m=\u001b[0m \u001b[0mD\u001b[0m\u001b[0;34m[\u001b[0m\u001b[0mv\u001b[0m\u001b[0;34m]\u001b[0m\u001b[0;34m\u001b[0m\u001b[0m\n\u001b[1;32m    235\u001b[0m         \u001b[0msigmav\u001b[0m \u001b[0;34m=\u001b[0m \u001b[0msigma\u001b[0m\u001b[0;34m[\u001b[0m\u001b[0mv\u001b[0m\u001b[0;34m]\u001b[0m\u001b[0;34m\u001b[0m\u001b[0m\n\u001b[0;32m--> 236\u001b[0;31m         \u001b[0;32mfor\u001b[0m \u001b[0mw\u001b[0m \u001b[0;32min\u001b[0m \u001b[0mG\u001b[0m\u001b[0;34m[\u001b[0m\u001b[0mv\u001b[0m\u001b[0;34m]\u001b[0m\u001b[0;34m:\u001b[0m\u001b[0;34m\u001b[0m\u001b[0m\n\u001b[0m\u001b[1;32m    237\u001b[0m             \u001b[0;32mif\u001b[0m \u001b[0mw\u001b[0m \u001b[0;32mnot\u001b[0m \u001b[0;32min\u001b[0m \u001b[0mD\u001b[0m\u001b[0;34m:\u001b[0m\u001b[0;34m\u001b[0m\u001b[0m\n\u001b[1;32m    238\u001b[0m                 \u001b[0mQ\u001b[0m\u001b[0;34m.\u001b[0m\u001b[0mappend\u001b[0m\u001b[0;34m(\u001b[0m\u001b[0mw\u001b[0m\u001b[0;34m)\u001b[0m\u001b[0;34m\u001b[0m\u001b[0m\n",
      "\u001b[0;32m~/anaconda3/lib/python3.6/site-packages/networkx/classes/graph.py\u001b[0m in \u001b[0;36m__getitem__\u001b[0;34m(self, n)\u001b[0m\n\u001b[1;32m    438\u001b[0m         \u001b[0mAtlasView\u001b[0m\u001b[0;34m(\u001b[0m\u001b[0;34m{\u001b[0m\u001b[0;36m1\u001b[0m\u001b[0;34m:\u001b[0m \u001b[0;34m{\u001b[0m\u001b[0;34m}\u001b[0m\u001b[0;34m}\u001b[0m\u001b[0;34m)\u001b[0m\u001b[0;34m\u001b[0m\u001b[0m\n\u001b[1;32m    439\u001b[0m         \"\"\"\n\u001b[0;32m--> 440\u001b[0;31m         \u001b[0;32mreturn\u001b[0m \u001b[0mself\u001b[0m\u001b[0;34m.\u001b[0m\u001b[0madj\u001b[0m\u001b[0;34m[\u001b[0m\u001b[0mn\u001b[0m\u001b[0;34m]\u001b[0m\u001b[0;34m\u001b[0m\u001b[0m\n\u001b[0m\u001b[1;32m    441\u001b[0m \u001b[0;34m\u001b[0m\u001b[0m\n\u001b[1;32m    442\u001b[0m     \u001b[0;32mdef\u001b[0m \u001b[0madd_node\u001b[0m\u001b[0;34m(\u001b[0m\u001b[0mself\u001b[0m\u001b[0;34m,\u001b[0m \u001b[0mnode_for_adding\u001b[0m\u001b[0;34m,\u001b[0m \u001b[0;34m**\u001b[0m\u001b[0mattr\u001b[0m\u001b[0;34m)\u001b[0m\u001b[0;34m:\u001b[0m\u001b[0;34m\u001b[0m\u001b[0m\n",
      "\u001b[0;32m~/anaconda3/lib/python3.6/site-packages/networkx/classes/coreviews.py\u001b[0m in \u001b[0;36m__getitem__\u001b[0;34m(self, name)\u001b[0m\n\u001b[1;32m     80\u001b[0m \u001b[0;34m\u001b[0m\u001b[0m\n\u001b[1;32m     81\u001b[0m     \u001b[0;32mdef\u001b[0m \u001b[0m__getitem__\u001b[0m\u001b[0;34m(\u001b[0m\u001b[0mself\u001b[0m\u001b[0;34m,\u001b[0m \u001b[0mname\u001b[0m\u001b[0;34m)\u001b[0m\u001b[0;34m:\u001b[0m\u001b[0;34m\u001b[0m\u001b[0m\n\u001b[0;32m---> 82\u001b[0;31m         \u001b[0;32mreturn\u001b[0m \u001b[0mAtlasView\u001b[0m\u001b[0;34m(\u001b[0m\u001b[0mself\u001b[0m\u001b[0;34m.\u001b[0m\u001b[0m_atlas\u001b[0m\u001b[0;34m[\u001b[0m\u001b[0mname\u001b[0m\u001b[0;34m]\u001b[0m\u001b[0;34m)\u001b[0m\u001b[0;34m\u001b[0m\u001b[0m\n\u001b[0m\u001b[1;32m     83\u001b[0m \u001b[0;34m\u001b[0m\u001b[0m\n\u001b[1;32m     84\u001b[0m     \u001b[0;32mdef\u001b[0m \u001b[0mcopy\u001b[0m\u001b[0;34m(\u001b[0m\u001b[0mself\u001b[0m\u001b[0;34m)\u001b[0m\u001b[0;34m:\u001b[0m\u001b[0;34m\u001b[0m\u001b[0m\n",
      "\u001b[0;32m~/anaconda3/lib/python3.6/site-packages/networkx/classes/coreviews.py\u001b[0m in \u001b[0;36m__init__\u001b[0;34m(self, d)\u001b[0m\n\u001b[1;32m     44\u001b[0m \u001b[0;34m\u001b[0m\u001b[0m\n\u001b[1;32m     45\u001b[0m     \u001b[0;32mdef\u001b[0m \u001b[0m__init__\u001b[0m\u001b[0;34m(\u001b[0m\u001b[0mself\u001b[0m\u001b[0;34m,\u001b[0m \u001b[0md\u001b[0m\u001b[0;34m)\u001b[0m\u001b[0;34m:\u001b[0m\u001b[0;34m\u001b[0m\u001b[0m\n\u001b[0;32m---> 46\u001b[0;31m         \u001b[0mself\u001b[0m\u001b[0;34m.\u001b[0m\u001b[0m_atlas\u001b[0m \u001b[0;34m=\u001b[0m \u001b[0md\u001b[0m\u001b[0;34m\u001b[0m\u001b[0m\n\u001b[0m\u001b[1;32m     47\u001b[0m \u001b[0;34m\u001b[0m\u001b[0m\n\u001b[1;32m     48\u001b[0m     \u001b[0;32mdef\u001b[0m \u001b[0m__len__\u001b[0m\u001b[0;34m(\u001b[0m\u001b[0mself\u001b[0m\u001b[0;34m)\u001b[0m\u001b[0;34m:\u001b[0m\u001b[0;34m\u001b[0m\u001b[0m\n",
      "\u001b[0;31mKeyboardInterrupt\u001b[0m: "
     ]
    }
   ],
   "source": [
    "components = nx.algorithms.community.centrality.girvan_newman(sgc_mail_DG)\n",
    "for component in components:\n",
    "    print(component)"
   ]
  },
  {
   "cell_type": "code",
   "execution_count": null,
   "metadata": {},
   "outputs": [],
   "source": [
    "components = nx.algorithms.community.centrality.girvan_newman(dep_G)\n",
    "\n",
    "lis = list(components)\n",
    "for tup in lis:\n",
    "    print(len(tup))"
   ]
  },
  {
   "cell_type": "markdown",
   "metadata": {},
   "source": [
    "# END"
   ]
  },
  {
   "cell_type": "code",
   "execution_count": 162,
   "metadata": {},
   "outputs": [],
   "source": [
    "nodes = mail_G.nodes(data=True)\n",
    "n_nodes_per_dep = np.zeros(42)\n",
    "for i, node in zip(range(len(mail_G.nodes(data=True))), mail_G.nodes(data=True)):\n",
    "    num, dicti = node\n",
    "    n_nodes_per_dep[dicti['department']] += 1\n",
    "\n",
    "prob_dep = n_nodes_per_dep/len(mail_G.nodes(data=True))"
   ]
  },
  {
   "cell_type": "code",
   "execution_count": 159,
   "metadata": {},
   "outputs": [
    {
     "data": {
      "text/plain": [
       "0.95238434692210583"
      ]
     },
     "execution_count": 159,
     "metadata": {},
     "output_type": "execute_result"
    }
   ],
   "source": [
    "prob_same_dep = sum(prob_dep**2)\n",
    "prob_diff_dep = 1-prob_same_dep\n",
    "prob_diff_dep"
   ]
  },
  {
   "cell_type": "code",
   "execution_count": 160,
   "metadata": {},
   "outputs": [
    {
     "data": {
      "text/plain": [
       "0.6642803784860558"
      ]
     },
     "execution_count": 160,
     "metadata": {},
     "output_type": "execute_result"
    }
   ],
   "source": [
    "diff_dep = 0\n",
    "for edge in mail_G.edges(data=True):\n",
    "    source, target, _ = edge\n",
    "    src_dep = mail_G.nodes[source]['department']\n",
    "    trg_dep = mail_G.nodes[target]['department']\n",
    "    if (src_dep is not trg_dep):\n",
    "        diff_dep += 1\n",
    "diff_dep/len(mail_G.edges())"
   ]
  },
  {
   "cell_type": "code",
   "execution_count": null,
   "metadata": {},
   "outputs": [],
   "source": [
    "print(\"density of email network:\", str(nx.density(mail_DG)))\n",
    "print(\"density of department network:\", str(nx.density(dep_G)))"
   ]
  },
  {
   "cell_type": "code",
   "execution_count": 133,
   "metadata": {},
   "outputs": [
    {
     "data": {
      "text/plain": [
       "0.3993549664221539"
      ]
     },
     "execution_count": 133,
     "metadata": {},
     "output_type": "execute_result"
    }
   ],
   "source": [
    "nx.average_clustering(mail_G)"
   ]
  },
  {
   "cell_type": "code",
   "execution_count": 132,
   "metadata": {},
   "outputs": [
    {
     "data": {
      "text/plain": [
       "{'0': 0.2764227642276423,\n",
       " '1': 0.2653061224489796,\n",
       " '2': 0.2978027115474521,\n",
       " '3': 0.38491048593350385,\n",
       " '4': 0.31869137497140243,\n",
       " '5': 0.10700197238658778,\n",
       " '6': 0.15518331226295828,\n",
       " '7': 0.28778467908902694,\n",
       " '8': 0.4470588235294118,\n",
       " '9': 0.42532005689900426,\n",
       " '10': 0.3154486586493987,\n",
       " '11': 0.22917437985931136,\n",
       " '12': 0.3025974025974026,\n",
       " '13': 0.11089951120421507,\n",
       " '14': 0.21578421578421578,\n",
       " '15': 0.3526530612244898,\n",
       " '16': 0.28470936690114773,\n",
       " '17': 0.28593272171253825,\n",
       " '18': 0.30118798043326345,\n",
       " '19': 0.28322981366459626,\n",
       " '20': 0.28482003129890454,\n",
       " '21': 0.24803921568627452,\n",
       " '22': 0.38461538461538464,\n",
       " '23': 0.3427458617332035,\n",
       " '24': 0.38549075391180654,\n",
       " '25': 0.48295454545454547,\n",
       " '26': 0.5208333333333334,\n",
       " '27': 0.36885245901639346,\n",
       " '28': 0.34475537787930705,\n",
       " '29': 0.3935064935064935,\n",
       " '30': 0.4027972027972028,\n",
       " '31': 0.4122340425531915,\n",
       " '32': 0.5473484848484849,\n",
       " '33': 0.5793650793650794,\n",
       " '34': 0.6379310344827587,\n",
       " '35': 0.41228070175438597,\n",
       " '36': 0.46511627906976744,\n",
       " '37': 0.43025210084033616,\n",
       " '38': 0.39595959595959596,\n",
       " '39': 0.48128342245989303,\n",
       " '40': 0.3605565638233515,\n",
       " '41': 0.30771195097037796,\n",
       " '42': 0.3314307458143075,\n",
       " '43': 0.5909090909090909,\n",
       " '44': 0.25,\n",
       " '45': 0.3710144927536232,\n",
       " '46': 0.3907444668008048,\n",
       " '47': 0.41241496598639454,\n",
       " '48': 0.3283208020050125,\n",
       " '49': 0.47435897435897434,\n",
       " '50': 0.5047619047619047,\n",
       " '51': 0.276797829036635,\n",
       " '52': 0.2210144927536232,\n",
       " '53': 0.30256410256410254,\n",
       " '54': 0.5255102040816326,\n",
       " '55': 0.5426829268292683,\n",
       " '56': 0.5516908212560386,\n",
       " '57': 0.4153846153846154,\n",
       " '58': 0.2942564909520063,\n",
       " '59': 0.52,\n",
       " '60': 0.4020319303338171,\n",
       " '61': 0.27408354646206307,\n",
       " '62': 0.15203369751217585,\n",
       " '63': 0.2932160469145675,\n",
       " '64': 0.13159395494724835,\n",
       " '65': 0.17288049029622063,\n",
       " '66': 0.28520499108734404,\n",
       " '67': 0.4722222222222222,\n",
       " '68': 0.4115942028985507,\n",
       " '69': 0.28820729772607084,\n",
       " '70': 0.5751633986928104,\n",
       " '71': 0.6083333333333333,\n",
       " '72': 0.42857142857142855,\n",
       " '73': 0.3694581280788177,\n",
       " '74': 0.22808302808302808,\n",
       " '75': 0.3368421052631579,\n",
       " '76': 0.6493506493506493,\n",
       " '77': 0.43333333333333335,\n",
       " '78': 0.4901185770750988,\n",
       " '79': 0.3240418118466899,\n",
       " '80': 0.336231884057971,\n",
       " '81': 0.30925470925470927,\n",
       " '82': 0.1660831921701487,\n",
       " '83': 0.2537795850276301,\n",
       " '84': 0.13559928443649374,\n",
       " '85': 0.26576576576576577,\n",
       " '86': 0.12058570198105081,\n",
       " '87': 0.2731859167024474,\n",
       " '88': 0.4236559139784946,\n",
       " '89': 0.29454390451832907,\n",
       " '90': 0.4131054131054131,\n",
       " '91': 0.43103448275862066,\n",
       " '92': 0.18234610917537747,\n",
       " '93': 0.2523809523809524,\n",
       " '94': 0.38443670150987225,\n",
       " '95': 0.40193236714975844,\n",
       " '96': 0.19947848761408082,\n",
       " '97': 0.5573122529644269,\n",
       " '98': 0.525691699604743,\n",
       " '99': 0.5014245014245015,\n",
       " '100': 0.3117408906882591,\n",
       " '101': 0.3162393162393162,\n",
       " '102': 0.40476190476190477,\n",
       " '103': 0.403265306122449,\n",
       " '104': 0.6623655913978495,\n",
       " '105': 0.2608780108780109,\n",
       " '106': 0.25107913669064746,\n",
       " '107': 0.1700389594068116,\n",
       " '108': 0.31585365853658537,\n",
       " '109': 0.3,\n",
       " '110': 0.75,\n",
       " '111': 0.8214285714285714,\n",
       " '112': 0.34502923976608185,\n",
       " '113': 0.2971988795518207,\n",
       " '114': 0.27913669064748203,\n",
       " '115': 0.2915455426356589,\n",
       " '116': 0.3216049382716049,\n",
       " '117': 0.27450980392156865,\n",
       " '118': 0.23218390804597702,\n",
       " '119': 0.43956043956043955,\n",
       " '120': 0.3088235294117647,\n",
       " '121': 0.17289894014031945,\n",
       " '122': 0.3333333333333333,\n",
       " '123': 0.36541889483065954,\n",
       " '124': 0.29732868757259,\n",
       " '125': 0.47863247863247865,\n",
       " '126': 0.4981060606060606,\n",
       " '127': 0.3412698412698413,\n",
       " '128': 0.26204351204351206,\n",
       " '129': 0.2200751476113795,\n",
       " '130': 0.34285714285714286,\n",
       " '131': 0.3895946763460375,\n",
       " '132': 0.40491803278688526,\n",
       " '133': 0.23378256963162625,\n",
       " '134': 0.28063241106719367,\n",
       " '135': 0.5333333333333333,\n",
       " '136': 0.6723646723646723,\n",
       " '137': 0.3535116074052307,\n",
       " '138': 0.5987903225806451,\n",
       " '139': 0.37980085348506404,\n",
       " '140': 0.3940620782726046,\n",
       " '141': 0.2595679012345679,\n",
       " '142': 0.2430403503284329,\n",
       " '143': 0.3120748299319728,\n",
       " '144': 0.5641025641025641,\n",
       " '145': 0.3989769820971867,\n",
       " '146': 0.26455026455026454,\n",
       " '147': 0.41551020408163264,\n",
       " '148': 0.33986928104575165,\n",
       " '149': 0.32275132275132273,\n",
       " '150': 0.46996996996997,\n",
       " '151': 0.4619450317124736,\n",
       " '152': 0.37041773231031544,\n",
       " '153': 0.555052790346908,\n",
       " '154': 0.48868778280542985,\n",
       " '155': 0.19080919080919082,\n",
       " '156': 0.3715415019762846,\n",
       " '157': 0.26144907723855093,\n",
       " '158': 0.3829787234042553,\n",
       " '159': 0.4523809523809524,\n",
       " '160': 0.09351196494775868,\n",
       " '161': 0.3621951219512195,\n",
       " '162': 0.20833333333333334,\n",
       " '163': 0.3717948717948718,\n",
       " '164': 0.33816425120772947,\n",
       " '165': 0.28190391983495433,\n",
       " '166': 0.17438423645320197,\n",
       " '167': 0.2791922739244952,\n",
       " '168': 0.27855855855855854,\n",
       " '169': 0.31108163866784555,\n",
       " '170': 0.26535087719298245,\n",
       " '171': 0.4440753045404208,\n",
       " '172': 0.282896379525593,\n",
       " '173': 0.31790123456790126,\n",
       " '174': 0.3356136820925553,\n",
       " '175': 0.5636363636363636,\n",
       " '176': 0.2537878787878788,\n",
       " '177': 0.2187028657616893,\n",
       " '178': 0.31016042780748665,\n",
       " '179': 0.33962264150943394,\n",
       " '180': 0.26450617283950617,\n",
       " '181': 0.3389830508474576,\n",
       " '182': 0.45555555555555555,\n",
       " '183': 0.20275197798417613,\n",
       " '184': 0.32334332334332333,\n",
       " '185': 0.5238095238095238,\n",
       " '186': 0.37438423645320196,\n",
       " '187': 0.4206848357791754,\n",
       " '188': 0.4146341463414634,\n",
       " '189': 0.23731951129211404,\n",
       " '190': 0.4028520499108734,\n",
       " '191': 0.23502824858757063,\n",
       " '192': 0.5904761904761905,\n",
       " '193': 0.7415384615384616,\n",
       " '194': 0.48520084566596194,\n",
       " '195': 0.5966386554621849,\n",
       " '196': 0.5473484848484849,\n",
       " '197': 0.42521008403361343,\n",
       " '198': 0.4031746031746032,\n",
       " '199': 0.34778911564625853,\n",
       " '200': 0.43493761140819964,\n",
       " '201': 0.39461279461279464,\n",
       " '202': 0.47619047619047616,\n",
       " '203': 0.4426450742240216,\n",
       " '204': 0.4722689075630252,\n",
       " '205': 0.46881720430107526,\n",
       " '206': 0.304500292226768,\n",
       " '207': 0.5052910052910053,\n",
       " '208': 0.4172549019607843,\n",
       " '209': 0.27358213341169557,\n",
       " '210': 0.4067699368904188,\n",
       " '211': 0.2177588009759498,\n",
       " '212': 0.3288705312633528,\n",
       " '213': 0.357487922705314,\n",
       " '214': 0.32862745098039214,\n",
       " '215': 0.2229712858926342,\n",
       " '216': 0.5185185185185185,\n",
       " '217': 0.358695652173913,\n",
       " '218': 0.26433566433566436,\n",
       " '219': 0.41830065359477125,\n",
       " '220': 0.35833333333333334,\n",
       " '221': 0.33060109289617484,\n",
       " '222': 0.3159420289855073,\n",
       " '223': 0.3422077922077922,\n",
       " '224': 0.3974358974358974,\n",
       " '225': 0.4576719576719577,\n",
       " '226': 0.32462877624167946,\n",
       " '227': 0.3333333333333333,\n",
       " '228': 0.38961038961038963,\n",
       " '229': 0.3225806451612903,\n",
       " '230': 0.5666666666666667,\n",
       " '231': 0.21205711263881544,\n",
       " '232': 0.17288049029622063,\n",
       " '233': 0.3740079365079365,\n",
       " '234': 0.35714285714285715,\n",
       " '235': 0.47101449275362317,\n",
       " '236': 0.4514285714285714,\n",
       " '237': 0.47044334975369456,\n",
       " '238': 0.25249169435215946,\n",
       " '239': 0.4727272727272727,\n",
       " '240': 0.5736842105263158,\n",
       " '241': 0.5428571428571428,\n",
       " '242': 0.4274193548387097,\n",
       " '243': 0.3341176470588235,\n",
       " '244': 0.4553846153846154,\n",
       " '245': 0.42901960784313725,\n",
       " '246': 0.4485294117647059,\n",
       " '247': 0.625,\n",
       " '248': 0.3630769230769231,\n",
       " '249': 0.2548375319459657,\n",
       " '250': 0.5113636363636364,\n",
       " '251': 0.5380952380952381,\n",
       " '252': 0.2767412049565589,\n",
       " '253': 0.38443670150987225,\n",
       " '254': 0.32008431195423065,\n",
       " '255': 0.3937532002048131,\n",
       " '256': 0.2967129108861392,\n",
       " '257': 0.4502923976608187,\n",
       " '258': 0.2387218045112782,\n",
       " '259': 0.270935960591133,\n",
       " '260': 0.319047619047619,\n",
       " '261': 0.4601063829787234,\n",
       " '262': 0.32,\n",
       " '263': 0.36488630354309887,\n",
       " '264': 0.4587301587301587,\n",
       " '265': 0.4219219219219219,\n",
       " '266': 0.3913978494623656,\n",
       " '267': 0.5490196078431373,\n",
       " '268': 0.32882882882882886,\n",
       " '269': 0.32339656729900634,\n",
       " '270': 0.5714285714285714,\n",
       " '271': 0.3217734855136084,\n",
       " '272': 0.25809435707678074,\n",
       " '273': 0.5024630541871922,\n",
       " '274': 0.4743083003952569,\n",
       " '275': 0.35650623885918004,\n",
       " '276': 0.25,\n",
       " '277': 0.4857142857142857,\n",
       " '278': 0.350104821802935,\n",
       " '279': 0.5714285714285714,\n",
       " '280': 0.27408963585434176,\n",
       " '281': 0.4605493863237873,\n",
       " '282': 0.24452554744525548,\n",
       " '283': 0.2643371017471737,\n",
       " '284': 0.29965156794425085,\n",
       " '285': 0.31275060144346434,\n",
       " '286': 0.547568710359408,\n",
       " '287': 0.4675324675324675,\n",
       " '288': 0.29871977240398295,\n",
       " '289': 0.35714285714285715,\n",
       " '290': 0.28858024691358025,\n",
       " '291': 0.4444444444444444,\n",
       " '292': 0.38412698412698415,\n",
       " '293': 0.5263157894736842,\n",
       " '294': 0.42292490118577075,\n",
       " '295': 0.22450778724654716,\n",
       " '296': 0.3235412474849095,\n",
       " '297': 0.4678362573099415,\n",
       " '298': 0.325,\n",
       " '299': 0.31620553359683795,\n",
       " '300': 0.28285820066641987,\n",
       " '301': 0.10392441860465117,\n",
       " '302': 0.48917748917748916,\n",
       " '303': 0.33584158415841586,\n",
       " '304': 0.3866995073891626,\n",
       " '305': 0.4067796610169492,\n",
       " '306': 0.30407801418439717,\n",
       " '307': 0.2813852813852814,\n",
       " '308': 0.3508771929824561,\n",
       " '309': 0.3118393234672304,\n",
       " '310': 0.4236559139784946,\n",
       " '311': 0.3396825396825397,\n",
       " '312': 0.3645320197044335,\n",
       " '313': 0.625,\n",
       " '314': 0.3657142857142857,\n",
       " '315': 0.39285714285714285,\n",
       " '316': 0.2313131313131313,\n",
       " '317': 0.4384057971014493,\n",
       " '318': 0.3904149620105202,\n",
       " '319': 0.8666666666666667,\n",
       " '320': 0.37145390070921985,\n",
       " '321': 0.35622895622895623,\n",
       " '322': 0.5784615384615385,\n",
       " '323': 0.3511586452762923,\n",
       " '324': 0.3333333333333333,\n",
       " '325': 0.358974358974359,\n",
       " '326': 0.3730769230769231,\n",
       " '327': 0.33548387096774196,\n",
       " '328': 0.4327485380116959,\n",
       " '329': 0.3350877192982456,\n",
       " '330': 0.3611111111111111,\n",
       " '331': 0.2318840579710145,\n",
       " '332': 0.5052910052910053,\n",
       " '333': 0.2560947824105719,\n",
       " '334': 0.7602339181286549,\n",
       " '335': 0.5652173913043478,\n",
       " '336': 0.4235294117647059,\n",
       " '337': 0.45519203413940257,\n",
       " '338': 0.35081967213114756,\n",
       " '339': 0.38052026618269813,\n",
       " '340': 0.2600732600732601,\n",
       " '341': 0.6538461538461539,\n",
       " '342': 0.24843505477308295,\n",
       " '343': 0.5263157894736842,\n",
       " '344': 0.4411764705882353,\n",
       " '345': 0.4553846153846154,\n",
       " '346': 0.4188034188034188,\n",
       " '347': 0.322463768115942,\n",
       " '348': 1.0,\n",
       " '349': 0.36363636363636365,\n",
       " '350': 0.34782608695652173,\n",
       " '351': 0.3271186440677966,\n",
       " '352': 0.39384615384615385,\n",
       " '353': 0.3170731707317073,\n",
       " '354': 0.8444444444444444,\n",
       " '355': 0.581447963800905,\n",
       " '356': 0.44727891156462585,\n",
       " '357': 0.4484848484848485,\n",
       " '358': 0.31059506531204645,\n",
       " '359': 0.46975806451612906,\n",
       " '360': 0.34656084656084657,\n",
       " '361': 0.48847517730496454,\n",
       " '362': 0.35030728709394204,\n",
       " '363': 0.4166666666666667,\n",
       " '364': 0.5277777777777778,\n",
       " '365': 0.28414481897627963,\n",
       " '366': 0.24141150112023899,\n",
       " '367': 0.41132189099668776,\n",
       " '368': 0.3838383838383838,\n",
       " '369': 0.7142857142857143,\n",
       " '370': 0.42698412698412697,\n",
       " '371': 0.37400820793433653,\n",
       " '372': 0.41625615763546797,\n",
       " '373': 0.2135306553911205,\n",
       " '374': 0.5263157894736842,\n",
       " '375': 0.29134615384615387,\n",
       " '376': 0.4217687074829932,\n",
       " '377': 0.14544869042507513,\n",
       " '378': 0.7246376811594203,\n",
       " '379': 0.3951734539969834,\n",
       " '380': 0.4025641025641026,\n",
       " '381': 0.4128787878787879,\n",
       " '382': 1.0,\n",
       " '383': 1.0,\n",
       " '384': 0.6166666666666667,\n",
       " '385': 0.7922077922077922,\n",
       " '386': 0.6428571428571429,\n",
       " '387': 0.3967611336032389,\n",
       " '388': 0.6552706552706553,\n",
       " '389': 0.3864894795127353,\n",
       " '390': 0.4414141414141414,\n",
       " '391': 0.6783625730994152,\n",
       " '392': 0.7315789473684211,\n",
       " '393': 0.3020174646190906,\n",
       " '394': 0.6370967741935484,\n",
       " '395': 0.45,\n",
       " '396': 0.9120879120879121,\n",
       " '397': 0.46984126984126984,\n",
       " '398': 1.0,\n",
       " '399': 0.49673202614379086,\n",
       " '400': 0.37237237237237236,\n",
       " '401': 0.2619047619047619,\n",
       " '402': 0.32142857142857145,\n",
       " '403': 0.43137254901960786,\n",
       " '404': 0.31285757302017464,\n",
       " '405': 0.26825633383010433,\n",
       " '406': 0.4973544973544973,\n",
       " '407': 0.4444444444444444,\n",
       " '408': 0.4129979035639413,\n",
       " '409': 0.1285140562248996,\n",
       " '410': 0.7272727272727273,\n",
       " '411': 0.2083644510828977,\n",
       " '412': 0.35030728709394204,\n",
       " '413': 0.544973544973545,\n",
       " '414': 0.06666666666666667,\n",
       " '415': 0.16666666666666666,\n",
       " '416': 0.3333333333333333,\n",
       " '417': 0.3865847414234511,\n",
       " '418': 0.46436781609195404,\n",
       " '419': 0.24304267161410018,\n",
       " '420': 0.17327832434147888,\n",
       " '421': 0.22775510204081634,\n",
       " '422': 0.4353535353535353,\n",
       " '423': 0.48582995951417,\n",
       " '424': 0.23039555863983344,\n",
       " '425': 0.23025210084033612,\n",
       " '426': 0.3278886872353297,\n",
       " '427': 0.39124579124579123,\n",
       " '428': 0.6125356125356125,\n",
       " '429': 0.5403225806451613,\n",
       " '430': 0.3378582202111614,\n",
       " '431': 0.4268774703557312,\n",
       " '432': 0.9523809523809523,\n",
       " '433': 0.4268774703557312,\n",
       " '434': 0.20110490602293882,\n",
       " '435': 0.1978021978021978,\n",
       " '436': 1.0,\n",
       " '437': 0.4358974358974359,\n",
       " '438': 0.2956940680517916,\n",
       " '439': 1.0,\n",
       " '440': 0.2041773231031543,\n",
       " '441': 0.3367003367003367,\n",
       " '442': 0.5661538461538461,\n",
       " '443': 0.3991291727140784,\n",
       " '444': 0.589247311827957,\n",
       " '445': 0.3866995073891626,\n",
       " '446': 0.66,\n",
       " '447': 0.4436781609195402,\n",
       " '448': 0.38866396761133604,\n",
       " '449': 0,\n",
       " '450': 0.31768388106416273,\n",
       " '451': 0.48717948717948717,\n",
       " '452': 0.41410256410256413,\n",
       " '453': 0.4274193548387097,\n",
       " '454': 0.6944444444444444,\n",
       " '455': 0.3532522474881015,\n",
       " '456': 1.0,\n",
       " '457': 0.37037037037037035,\n",
       " '458': 0.37465309898242366,\n",
       " '459': 0.23211567732115676,\n",
       " '460': 0.21945701357466063,\n",
       " '461': 0.5688405797101449,\n",
       " '462': 0.31494252873563217,\n",
       " '463': 0,\n",
       " '464': 0.33950046253469013,\n",
       " '465': 0.20952380952380953,\n",
       " '466': 0.30823529411764705,\n",
       " '467': 0.5144927536231884,\n",
       " '468': 0.37142857142857144,\n",
       " '469': 0.6176470588235294,\n",
       " '470': 0.35144927536231885,\n",
       " '471': 0.3516483516483517,\n",
       " '472': 0.3333333333333333,\n",
       " '473': 0.19885773624091382,\n",
       " '474': 0.3541139240506329,\n",
       " '475': 0,\n",
       " '476': 0.8928571428571429,\n",
       " '477': 0.8545454545454545,\n",
       " '478': 0.3769230769230769,\n",
       " '479': 0.3333333333333333,\n",
       " '480': 0.3456659619450317,\n",
       " '481': 0.5539112050739958,\n",
       " '482': 0.20404040404040405,\n",
       " '483': 0.2653276955602537,\n",
       " '484': 0.43157894736842106,\n",
       " '485': 0.4470899470899471,\n",
       " '486': 0.2762128325508607,\n",
       " '487': 0.45714285714285713,\n",
       " '488': 0.6727272727272727,\n",
       " '489': 0.4336134453781513,\n",
       " '490': 0.45121951219512196,\n",
       " '491': 0.15204678362573099,\n",
       " '492': 0.4413793103448276,\n",
       " '493': 0.30478796169630645,\n",
       " '494': 0.17978574755472754,\n",
       " '495': 0.31535131535131533,\n",
       " '496': 0.391304347826087,\n",
       " '497': 0.3382352941176471,\n",
       " '498': 0.2021887824897401,\n",
       " '499': 0.3401360544217687,\n",
       " '500': 0.6619047619047619,\n",
       " '501': 0.5494505494505495,\n",
       " '502': 0.5731225296442688,\n",
       " '503': 0.696969696969697,\n",
       " '504': 0.37282229965156793,\n",
       " '505': 0.46153846153846156,\n",
       " '506': 0.2825136612021858,\n",
       " '507': 0.1,\n",
       " '508': 0.41889483065953653,\n",
       " '509': 0.2931785195936139,\n",
       " '510': 0.5526315789473685,\n",
       " '511': 0.20346320346320346,\n",
       " '512': 0.3333333333333333,\n",
       " '513': 0.2348008385744235,\n",
       " '514': 0.7555555555555555,\n",
       " '515': 0.3289036544850498,\n",
       " '516': 0.5769230769230769,\n",
       " '517': 0.6818181818181818,\n",
       " '518': 0.3790744466800805,\n",
       " '519': 0.24285714285714285,\n",
       " '520': 0.43831640058055155,\n",
       " '521': 0.25833333333333336,\n",
       " '522': 0.6666666666666666,\n",
       " '523': 0.21637426900584794,\n",
       " '524': 0,\n",
       " '525': 0.39867109634551495,\n",
       " '526': 0.307103825136612,\n",
       " '527': 0.6617647058823529,\n",
       " '528': 0.4444444444444444,\n",
       " '529': 0.45546218487394957,\n",
       " '530': 0.24444444444444444,\n",
       " '531': 0.41411764705882353,\n",
       " '532': 0.4444444444444444,\n",
       " '533': 0.14429201371876532,\n",
       " '534': 0.6,\n",
       " '535': 0.4888888888888889,\n",
       " '536': 0.3516483516483517,\n",
       " '537': 0.18921775898520085,\n",
       " '538': 0.4722222222222222,\n",
       " '539': 0.39285714285714285,\n",
       " '540': 0.5277777777777778,\n",
       " '541': 0.3473684210526316,\n",
       " '542': 0.5882352941176471,\n",
       " '543': 0.3,\n",
       " '544': 0.36772486772486773,\n",
       " '545': 0.49,\n",
       " '546': 0.22139764996907854,\n",
       " '547': 0.6481481481481481,\n",
       " '548': 0.42063492063492064,\n",
       " '549': 0.166179811749432,\n",
       " '550': 0.5584045584045584,\n",
       " '551': 0.4263157894736842,\n",
       " '552': 0.5585365853658537,\n",
       " '553': 0.7142857142857143,\n",
       " '554': 0.4909090909090909,\n",
       " '555': 0.5166666666666667,\n",
       " '556': 0.35714285714285715,\n",
       " '557': 0.43790849673202614,\n",
       " '558': 0.30303030303030304,\n",
       " '559': 0.5714285714285714,\n",
       " '560': 0.1595959595959596,\n",
       " '561': 0,\n",
       " '562': 0.36551724137931035,\n",
       " '563': 0.38011695906432746,\n",
       " '564': 0.20161290322580644,\n",
       " '565': 0.3787878787878788,\n",
       " '566': 0.45021645021645024,\n",
       " '567': 0.3333333333333333,\n",
       " '568': 0.48148148148148145,\n",
       " '569': 0.3697705802968961,\n",
       " '570': 0.6491228070175439,\n",
       " '571': 0.6105263157894737,\n",
       " '572': 0.391304347826087,\n",
       " '573': 0.6900584795321637,\n",
       " '574': 0.6666666666666666,\n",
       " '575': 0.6,\n",
       " '576': 0.4327485380116959,\n",
       " '577': 0.44871794871794873,\n",
       " '578': 0,\n",
       " '579': 0.6105263157894737,\n",
       " '580': 0,\n",
       " '581': 0.2482758620689655,\n",
       " '582': 0.4583333333333333,\n",
       " '583': 0,\n",
       " '584': 0.8333333333333334,\n",
       " '585': 0.38181818181818183,\n",
       " '586': 0.5133333333333333,\n",
       " '587': 0.5824175824175825,\n",
       " '588': 0.48917748917748916,\n",
       " '589': 0.4601449275362319,\n",
       " '590': 0.5698005698005698,\n",
       " '591': 0.5714285714285714,\n",
       " '592': 0.42424242424242425,\n",
       " '593': 0.3681765389082462,\n",
       " '594': 0.9333333333333333,\n",
       " '595': 0,\n",
       " '596': 0.5,\n",
       " '597': 0.23333333333333334,\n",
       " '598': 0.7619047619047619,\n",
       " '599': 0.4175824175824176,\n",
       " '600': 0.5454545454545454,\n",
       " '601': 0.3712660028449502,\n",
       " '602': 0.42028985507246375,\n",
       " '603': 0,\n",
       " '604': 0.5357142857142857,\n",
       " '605': 0,\n",
       " '606': 0,\n",
       " '607': 0.3465909090909091,\n",
       " '608': 0.47883597883597884,\n",
       " '609': 0.6666666666666666,\n",
       " '610': 0.2916666666666667,\n",
       " '611': 0.38769230769230767,\n",
       " '612': 0.283717679944095,\n",
       " '613': 0.05454545454545454,\n",
       " '614': 0.3333333333333333,\n",
       " '615': 0.26101694915254237,\n",
       " '616': 0.26666666666666666,\n",
       " '617': 0.6666666666666666,\n",
       " '618': 0.5641025641025641,\n",
       " '619': 0.7142857142857143,\n",
       " '620': 1.0,\n",
       " '621': 0.38235294117647056,\n",
       " '622': 0,\n",
       " '623': 0.28888888888888886,\n",
       " '624': 0.23636363636363636,\n",
       " '625': 1.0,\n",
       " '626': 0,\n",
       " '627': 0.2857142857142857,\n",
       " '628': 1.0,\n",
       " '629': 0.5,\n",
       " '630': 1.0,\n",
       " '631': 1.0,\n",
       " '632': 1.0,\n",
       " '633': 0,\n",
       " '634': 0,\n",
       " '635': 0.7636363636363637,\n",
       " '636': 0,\n",
       " '637': 1.0,\n",
       " '638': 0.2391304347826087,\n",
       " '639': 0.4,\n",
       " '640': 0.5294117647058824,\n",
       " '641': 0.4117647058823529,\n",
       " '642': 0.5497076023391813,\n",
       " '643': 0.3333333333333333,\n",
       " '644': 0.4,\n",
       " '645': 0.4,\n",
       " '646': 1.0,\n",
       " '647': 0.45454545454545453,\n",
       " '648': 0,\n",
       " '649': 0.4,\n",
       " '650': 0,\n",
       " '651': 0.27205882352941174,\n",
       " '652': 0.3333333333333333,\n",
       " '653': 0,\n",
       " '654': 0.2802275960170697,\n",
       " '655': 0.296551724137931,\n",
       " '656': 0.4727272727272727,\n",
       " '657': 0,\n",
       " '658': 0,\n",
       " '659': 0,\n",
       " '660': 0,\n",
       " '661': 0.34219269102990035,\n",
       " '662': 0.5947712418300654,\n",
       " '663': 0.5490196078431373,\n",
       " '664': 0.2,\n",
       " '665': 0.5584045584045584,\n",
       " '666': 0.47186147186147187,\n",
       " '667': 0.36091954022988504,\n",
       " '668': 0,\n",
       " '669': 0.2,\n",
       " '670': 0,\n",
       " '671': 0.3816091954022989,\n",
       " '672': 0.5641025641025641,\n",
       " '673': 0,\n",
       " '674': 0.5490196078431373,\n",
       " '675': 0,\n",
       " '676': 0.6666666666666666,\n",
       " '677': 1.0,\n",
       " '678': 0.32967032967032966,\n",
       " '679': 0.42483660130718953,\n",
       " '680': 0,\n",
       " '681': 0.43722943722943725,\n",
       " '682': 0.6666666666666666,\n",
       " '683': 0.9642857142857143,\n",
       " '684': 0,\n",
       " '685': 0.5333333333333333,\n",
       " '686': 0.37777777777777777,\n",
       " '687': 0.6666666666666666,\n",
       " '688': 0,\n",
       " '689': 0,\n",
       " '690': 0.4842105263157895,\n",
       " '691': 0,\n",
       " '692': 0,\n",
       " '693': 1.0,\n",
       " '694': 0.19444444444444445,\n",
       " '695': 0.2222222222222222,\n",
       " '696': 0.7222222222222222,\n",
       " '697': 0.26666666666666666,\n",
       " '698': 0.8091168091168092,\n",
       " '699': 0.4528985507246377,\n",
       " '700': 0.4298850574712644,\n",
       " '701': 0,\n",
       " '702': 1.0,\n",
       " '703': 0,\n",
       " '704': 0,\n",
       " '705': 0.5238095238095238,\n",
       " '706': 0.30303030303030304,\n",
       " '707': 0.3269230769230769,\n",
       " '708': 0.6339869281045751,\n",
       " '709': 1.0,\n",
       " '710': 0.43137254901960786,\n",
       " '711': 0,\n",
       " '712': 0,\n",
       " '713': 1.0,\n",
       " '714': 0.49407114624505927,\n",
       " '715': 0.1,\n",
       " '716': 0,\n",
       " '717': 0.3055555555555556,\n",
       " '718': 0.8666666666666667,\n",
       " '719': 0.5256410256410257,\n",
       " '720': 0.5098814229249012,\n",
       " '721': 0.9,\n",
       " '722': 0.6666666666666666,\n",
       " '723': 0.2727272727272727,\n",
       " '724': 1.0,\n",
       " '725': 0.8333333333333334,\n",
       " '726': 0.49019607843137253,\n",
       " '727': 0.3333333333333333,\n",
       " '728': 0.49166666666666664,\n",
       " '729': 0.39285714285714285,\n",
       " '730': 0.3181818181818182,\n",
       " '731': 0,\n",
       " '732': 0,\n",
       " '733': 0.28205128205128205,\n",
       " '734': 0.34065934065934067,\n",
       " '735': 0.9523809523809523,\n",
       " '736': 0.7,\n",
       " '737': 0,\n",
       " '738': 0.7076648841354723,\n",
       " '739': 0.4,\n",
       " '740': 0.3333333333333333,\n",
       " '741': 0.9,\n",
       " '742': 0,\n",
       " '743': 1.0,\n",
       " '744': 0,\n",
       " '745': 0.23809523809523808,\n",
       " '746': 0,\n",
       " '747': 0.39271255060728744,\n",
       " '748': 0.3649193548387097,\n",
       " '749': 0.5,\n",
       " '750': 0,\n",
       " '751': 0.8095238095238095,\n",
       " '752': 0.5,\n",
       " '753': 0.49122807017543857,\n",
       " '754': 0.3968253968253968,\n",
       " '755': 0,\n",
       " '756': 0.2717391304347826,\n",
       " '757': 0.3333333333333333,\n",
       " '758': 0.16666666666666666,\n",
       " '759': 0,\n",
       " '760': 0.5,\n",
       " '761': 0,\n",
       " '762': 0,\n",
       " '763': 0,\n",
       " '764': 0.08333333333333333,\n",
       " '765': 0.5526315789473685,\n",
       " '766': 1.0,\n",
       " '767': 0.4666666666666667,\n",
       " '768': 0.819047619047619,\n",
       " '769': 0.3333333333333333,\n",
       " '770': 0,\n",
       " '771': 0.6428571428571429,\n",
       " '772': 0,\n",
       " '773': 0,\n",
       " '774': 0,\n",
       " '775': 0,\n",
       " '776': 0.4973544973544973,\n",
       " '777': 0.2573099415204678,\n",
       " '778': 0.3,\n",
       " '779': 0.3333333333333333,\n",
       " '780': 0,\n",
       " '781': 0.3333333333333333,\n",
       " '782': 1.0,\n",
       " '783': 0.35714285714285715,\n",
       " '784': 0,\n",
       " '785': 0.6666666666666666,\n",
       " '786': 0.2222222222222222,\n",
       " '787': 0,\n",
       " '788': 0,\n",
       " '789': 0.2909090909090909,\n",
       " '790': 0,\n",
       " '791': 0.4,\n",
       " '792': 0,\n",
       " '793': 0.1,\n",
       " '794': 1.0,\n",
       " '795': 0,\n",
       " '796': 0.8333333333333334,\n",
       " '797': 0.3,\n",
       " '798': 0,\n",
       " '799': 0.19047619047619047,\n",
       " '800': 0.13333333333333333,\n",
       " '801': 1.0,\n",
       " '802': 0.8,\n",
       " '803': 0.6862745098039216,\n",
       " '804': 0.6212121212121212,\n",
       " '805': 0.16666666666666666,\n",
       " '806': 1.0,\n",
       " '807': 0.6,\n",
       " '808': 0,\n",
       " '809': 0.482886216466235,\n",
       " '810': 0.23529411764705882,\n",
       " '811': 0.6071428571428571,\n",
       " '812': 0.29774011299435027,\n",
       " '813': 0.427536231884058,\n",
       " '814': 0.2,\n",
       " '815': 0.6323529411764706,\n",
       " '816': 0.47619047619047616,\n",
       " '817': 0.5,\n",
       " '818': 0.32051282051282054,\n",
       " '819': 0.6,\n",
       " '820': 0.23806594488188976,\n",
       " '821': 1.0,\n",
       " '822': 0.33157894736842103,\n",
       " '823': 0.466403162055336,\n",
       " '824': 0,\n",
       " '825': 0.8333333333333334,\n",
       " '826': 0.7133333333333334,\n",
       " '827': 0,\n",
       " '828': 0.4187192118226601,\n",
       " '829': 0.5,\n",
       " '830': 0,\n",
       " '831': 0,\n",
       " '832': 0.62,\n",
       " '833': 0.7619047619047619,\n",
       " '834': 0,\n",
       " '835': 0.5238095238095238,\n",
       " '836': 0.3333333333333333,\n",
       " '837': 0,\n",
       " '838': 1.0,\n",
       " '839': 0,\n",
       " '840': 0.6416666666666667,\n",
       " '841': 0.3333333333333333,\n",
       " '842': 1.0,\n",
       " '843': 1.0,\n",
       " '844': 0.6666666666666666,\n",
       " '845': 0.5770114942528736,\n",
       " '846': 0,\n",
       " '847': 0.5299145299145299,\n",
       " '848': 1.0,\n",
       " '849': 0.4,\n",
       " '850': 0,\n",
       " '851': 0.4725274725274725,\n",
       " '852': 0,\n",
       " '853': 0,\n",
       " '854': 0.8095238095238095,\n",
       " '855': 0.3,\n",
       " '856': 0.29277389277389276,\n",
       " '857': 0.6666666666666666,\n",
       " '858': 0,\n",
       " '859': 0.38810641627543035,\n",
       " '860': 0.6233766233766234,\n",
       " '861': 0,\n",
       " '862': 0,\n",
       " '863': 0,\n",
       " '864': 0,\n",
       " '865': 0.9722222222222222,\n",
       " '866': 0.6666666666666666,\n",
       " '867': 0.5,\n",
       " '868': 0,\n",
       " '869': 0.7333333333333333,\n",
       " '870': 1.0,\n",
       " '871': 0,\n",
       " '872': 0.3333333333333333,\n",
       " '873': 1.0,\n",
       " '874': 1.0,\n",
       " '875': 0,\n",
       " '876': 0,\n",
       " '877': 0.5,\n",
       " '878': 1.0,\n",
       " '879': 0,\n",
       " '880': 0.5816091954022988,\n",
       " '881': 0,\n",
       " '882': 1.0,\n",
       " '883': 0.7777777777777778,\n",
       " '884': 0,\n",
       " '885': 0.6,\n",
       " '886': 0.5636363636363636,\n",
       " '887': 0.6666666666666666,\n",
       " '888': 0,\n",
       " '889': 0.6666666666666666,\n",
       " '890': 0,\n",
       " '891': 1.0,\n",
       " '892': 0.3952380952380952,\n",
       " '893': 1.0,\n",
       " '894': 0,\n",
       " '895': 1.0,\n",
       " '896': 0.40229885057471265,\n",
       " '897': 0,\n",
       " '898': 0,\n",
       " '899': 0,\n",
       " '900': 0.43333333333333335,\n",
       " '901': 0,\n",
       " '902': 0,\n",
       " '903': 1.0,\n",
       " '904': 0,\n",
       " '905': 0.8214285714285714,\n",
       " '906': 0.4,\n",
       " '907': 0.5,\n",
       " '908': 0.5661538461538461,\n",
       " '909': 0.7142857142857143,\n",
       " '910': 0,\n",
       " '911': 1.0,\n",
       " '912': 0.5,\n",
       " '913': 0.40476190476190477,\n",
       " '914': 0.5476190476190477,\n",
       " '915': 0,\n",
       " '916': 0,\n",
       " '917': 0.5726495726495726,\n",
       " '918': 0.6461538461538462,\n",
       " '919': 0.7636363636363637,\n",
       " '920': 0,\n",
       " '921': 0.6545454545454545,\n",
       " '922': 0.24110671936758893,\n",
       " '923': 0.6666666666666666,\n",
       " '924': 0.6,\n",
       " '925': 0.7941176470588235,\n",
       " '926': 0.6923076923076923,\n",
       " '927': 0.8363636363636363,\n",
       " '928': 0,\n",
       " '929': 0.7575757575757576,\n",
       " '930': 0.43956043956043955,\n",
       " '931': 0.5142857142857142,\n",
       " '932': 0.2712628865979381,\n",
       " '933': 0.6833333333333333,\n",
       " '934': 0.3333333333333333,\n",
       " '935': 0.6,\n",
       " '936': 0.30666666666666664,\n",
       " '937': 0.8095238095238095,\n",
       " '938': 0,\n",
       " '939': 0.3333333333333333,\n",
       " '940': 1.0,\n",
       " '941': 0,\n",
       " '942': 0,\n",
       " '943': 0,\n",
       " '944': 0,\n",
       " '945': 0.6666666666666666,\n",
       " '946': 0,\n",
       " '947': 1.0,\n",
       " '948': 0,\n",
       " '949': 0.7233201581027668,\n",
       " '950': 0.19494949494949496,\n",
       " '951': 0.5833333333333334,\n",
       " '952': 0.5333333333333333,\n",
       " '953': 0.325,\n",
       " '954': 0.8571428571428571,\n",
       " '955': 0.7142857142857143,\n",
       " '956': 0.4857142857142857,\n",
       " '957': 0.6444444444444445,\n",
       " '958': 0.3333333333333333,\n",
       " '959': 0,\n",
       " '960': 0,\n",
       " '961': 0,\n",
       " '962': 0,\n",
       " '963': 0.391025641025641,\n",
       " '964': 0.6,\n",
       " '965': 0,\n",
       " '966': 1.0,\n",
       " '967': 0.7,\n",
       " '968': 1.0,\n",
       " '969': 1.0,\n",
       " '970': 0.4666666666666667,\n",
       " '971': 0.05442329227323628,\n",
       " '972': 0,\n",
       " '973': 0,\n",
       " '974': 0.8095238095238095,\n",
       " '975': 0,\n",
       " '976': 0.7666666666666667,\n",
       " '977': 1.0,\n",
       " '978': 1.0,\n",
       " '979': 0.2,\n",
       " '980': 0.4,\n",
       " '981': 0.7666666666666667,\n",
       " '982': 0,\n",
       " '983': 1.0,\n",
       " '984': 0.3333333333333333,\n",
       " '985': 0,\n",
       " '986': 0.6666666666666666,\n",
       " '987': 0.803030303030303,\n",
       " '988': 1.0,\n",
       " '989': 1.0,\n",
       " '990': 0.6210526315789474,\n",
       " '991': 1.0,\n",
       " '992': 0,\n",
       " '993': 0,\n",
       " '994': 0,\n",
       " '995': 0,\n",
       " '996': 0,\n",
       " '997': 1.0,\n",
       " '998': 0,\n",
       " '999': 0,\n",
       " ...}"
      ]
     },
     "execution_count": 132,
     "metadata": {},
     "output_type": "execute_result"
    }
   ],
   "source": [
    "nx.clustering(mail_G)"
   ]
  },
  {
   "cell_type": "code",
   "execution_count": null,
   "metadata": {},
   "outputs": [],
   "source": [
    "central_node = 160\n",
    "CC_dict = nx.clustering(mail_G)\n",
    "CC = sum(CC_dict.values())/len(CC_dict.values())\n",
    "print(\"CC:\", CC)\n",
    "\n",
    "cc_central_node = nx.clustering(G, str(central_node))\n",
    "betweenness = nx.betweenness_centrality(DG, normalized = False)\n",
    "print(\"clustering coefficient:\", str(cc_central_node))\n",
    "print(\"betweenness of nodes:\", str(betweenness))\n",
    "type(betweenness)"
   ]
  },
  {
   "cell_type": "code",
   "execution_count": null,
   "metadata": {},
   "outputs": [],
   "source": [
    "lis = []\n",
    "for key in betweenness.keys():\n",
    "    lis.append(betweenness[key])\n",
    "\n",
    "plt.plot(range(len(lis)), lis)"
   ]
  },
  {
   "cell_type": "code",
   "execution_count": null,
   "metadata": {},
   "outputs": [],
   "source": [
    "print(\"betweenness of departments:\", str(nx.betweenness_centrality(DG_only_dep, normalized = False)))"
   ]
  },
  {
   "cell_type": "code",
   "execution_count": 128,
   "metadata": {},
   "outputs": [
    {
     "name": "stdout",
     "output_type": "stream",
     "text": [
      "[  0.          11.12195122  35.          26.2962963   21.56896552\n",
      "  18.72333333  34.78333333  48.12857143  28.07352941  45.178125\n",
      "  52.55952381  55.91770452  66.42349206  52.17316017  79.41236772\n",
      "  72.74355159  40.27157102  53.89793651  42.9246337   49.82506614\n",
      "  53.20561459  44.48339438  54.92257742  55.32309524  57.03940851\n",
      "  47.97598921  65.15124875  55.501998    61.00549034  51.75617633\n",
      "  53.23482972  42.22141549  54.45731158  52.96957672  59.98094884\n",
      "  53.49782644  52.58981377  39.89913844  56.87610301  53.70396983\n",
      "  52.11658769  51.28374575  66.44263019  56.77952671  57.25926297\n",
      "  70.84701754  58.50348017  61.38356479  57.02008668  58.70009262\n",
      "  48.69546654  53.84753114  51.88185599  46.47727273  54.80238785\n",
      "  72.35312002  57.61020595  71.26904133  53.99821788  65.2547619\n",
      "  60.40103088  52.68418844  45.13428161  58.64516129  49.67471338\n",
      "  56.23193738  56.76774686  46.48794643  52.32352941  73.6405017\n",
      "  54.20363745  49.74108527  63.35074635  50.68729998  57.41900539\n",
      "  68.51055502  80.08823529  66.78478832  54.26321881  59.93478907\n",
      "  63.0118031   61.14216783  82.46071429  66.25123326  55.54467787\n",
      "  56.57281607  56.06656023  42.5625      60.12399984  62.80556599  12.           0.\n",
      "  75.31690821  63.6151945   64.95080791  54.30116718  70.29411765\n",
      "  59.36984491  71.78723404  46.94817471  74.53071429  58.4085355\n",
      "  40.35246071   0.          67.83357523  43.28070175  70.39722222\n",
      "  59.2952381   67.36349316  74.75932018  69.38654181   0.          45.73566512\n",
      "   0.          52.9469697   69.46723158  52.83904326  66.77192982\n",
      "  61.21052632  72.65671642   0.           0.          55.1356827    0.\n",
      "  76.421875    51.77333333  48.40277778   0.          69.3030303    0.\n",
      "  68.88888889  64.49840021  43.08450704  51.87878788  81.109375\n",
      "  56.73529412  64.36565599  67.66666667  73.94661883  70.85046376   0.           0.\n",
      "  66.22304989   0.          63.26760563  40.71428571  58.          60.94666667\n",
      "   0.           0.           0.           0.           0.          55.46153846\n",
      "  43.3974359    0.          51.12345679   0.           0.          60.61445783\n",
      "  69.53947368  63.39292929  72.28169014  66.64102564  63.07560386\n",
      "  62.1047619    0.          57.26090097  76.41769266   0.           0.           0.\n",
      "  72.71428571  59.5433316    0.           0.          48.53488372   0.           0.\n",
      "  75.98863636   0.           0.           0.           0.           0.           0.\n",
      "   0.           0.        ]\n"
     ]
    }
   ],
   "source": [
    "lista = nx.degree(mail_DG)\n",
    "assortativity = np.zeros(len(degrees))\n",
    "avg_neighbor_deg = nx.average_neighbor_degree(mail_DG, source = 'out', target = 'out')\n",
    "for i in range(1, len(assortativity)):\n",
    "    avg = 0\n",
    "    num = 0\n",
    "    summ = 0\n",
    "    for node_str, degree in lista:\n",
    "        if degree == i:\n",
    "            num += 1\n",
    "            summ += avg_neighbor_deg[node_str]\n",
    "    avg = summ/num if num is not 0 else 0\n",
    "    assortativity[i] = avg\n",
    "\n",
    "print(assortativity)"
   ]
  },
  {
   "cell_type": "code",
   "execution_count": 129,
   "metadata": {},
   "outputs": [
    {
     "name": "stdout",
     "output_type": "stream",
     "text": [
      "-0.013708196002\n"
     ]
    },
    {
     "data": {
      "text/plain": [
       "<matplotlib.collections.PathCollection at 0xa1fec8b38>"
      ]
     },
     "execution_count": 129,
     "metadata": {},
     "output_type": "execute_result"
    },
    {
     "data": {
      "image/png": "[encoded data removed]",
      "text/plain": [
       "<matplotlib.figure.Figure at 0xa11d996a0>"
      ]
     },
     "metadata": {},
     "output_type": "display_data"
    }
   ],
   "source": [
    "print(nx.degree_assortativity_coefficient(mail_DG))\n",
    "plt.scatter(range(len(assortativity)), assortativity)"
   ]
  },
  {
   "cell_type": "code",
   "execution_count": null,
   "metadata": {},
   "outputs": [],
   "source": []
  }
 ],
 "metadata": {
  "kernelspec": {
   "display_name": "Python 3",
   "language": "python",
   "name": "python3"
  },
  "language_info": {
   "codemirror_mode": {
    "name": "ipython",
    "version": 3
   },
   "file_extension": ".py",
   "mimetype": "text/x-python",
   "name": "python",
   "nbconvert_exporter": "python",
   "pygments_lexer": "ipython3",
   "version": "3.6.5"
  }
 },
 "nbformat": 4,
 "nbformat_minor": 2
}
