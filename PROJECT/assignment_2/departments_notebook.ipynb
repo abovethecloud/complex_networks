{
 "cells": [
  {
   "cell_type": "code",
   "execution_count": 77,
   "metadata": {},
   "outputs": [],
   "source": [
    "import networkx as nx\n",
    "import matplotlib.pyplot as plt\n",
    "import dzcnapy_plotlib as dzcnapy\n",
    "import csv"
   ]
  },
  {
   "cell_type": "code",
   "execution_count": 78,
   "metadata": {},
   "outputs": [],
   "source": [
    "with open(\"email-Eu-core.csv\") as infile:\n",
    "    csv_reader = csv.reader(infile)\n",
    "    DG = nx.DiGraph(csv_reader)\n",
    "#print(DG.nodes(data = True))"
   ]
  },
  {
   "cell_type": "code",
   "execution_count": 79,
   "metadata": {},
   "outputs": [],
   "source": [
    "#print(DG.edges(data = True))"
   ]
  },
  {
   "cell_type": "code",
   "execution_count": 80,
   "metadata": {},
   "outputs": [],
   "source": [
    "with open(\"email-Eu-core-department-labels.csv\") as infile:\n",
    "    csv_reader = csv.reader(infile)\n",
    "    mydict = {rows[0]: {'department': int(rows[1])} for rows in csv_reader}"
   ]
  },
  {
   "cell_type": "code",
   "execution_count": 81,
   "metadata": {},
   "outputs": [],
   "source": [
    "#print(mydict)"
   ]
  },
  {
   "cell_type": "code",
   "execution_count": 82,
   "metadata": {},
   "outputs": [],
   "source": [
    "nx.set_node_attributes(DG, mydict)\n",
    "#print(DG.nodes(data = True))"
   ]
  },
  {
   "cell_type": "code",
   "execution_count": 83,
   "metadata": {},
   "outputs": [],
   "source": [
    "nx.write_graphml(DG, \"emails_dep.graphml\")"
   ]
  },
  {
   "cell_type": "code",
   "execution_count": 84,
   "metadata": {},
   "outputs": [
    {
     "name": "stdout",
     "output_type": "stream",
     "text": [
      "Name: \n",
      "Type: DiGraph\n",
      "Number of nodes: 42\n",
      "Number of edges: 0\n",
      "Average in degree:   0.0000\n",
      "Average out degree:   0.0000\n"
     ]
    }
   ],
   "source": [
    "DG_only_dep = nx.DiGraph()\n",
    "for node in DG.nodes(data = True):\n",
    "    label, attr_dict = node\n",
    "    DG_only_dep.add_node(attr_dict[\"department\"])\n",
    "    \n",
    "print(nx.info(DG_only_dep))"
   ]
  },
  {
   "cell_type": "code",
   "execution_count": 85,
   "metadata": {},
   "outputs": [
    {
     "name": "stdout",
     "output_type": "stream",
     "text": [
      "Name: \n",
      "Type: DiGraph\n",
      "Number of nodes: 42\n",
      "Number of edges: 1243\n",
      "Average in degree:  29.5952\n",
      "Average out degree:  29.5952\n"
     ]
    }
   ],
   "source": [
    "for edge in DG.edges(data=True):\n",
    "    #print(edge)\n",
    "    source, target, edg_attr = edge\n",
    "    source_dep = mydict[source]['department']\n",
    "    targ_dep = mydict[target]['department']\n",
    "    if DG_only_dep.has_edge(source_dep, targ_dep) == False:\n",
    "        DG_only_dep.add_edge(source_dep, targ_dep, weight = 1)\n",
    "    else:\n",
    "        edges = DG_only_dep.edges\n",
    "        w = edges[source_dep, targ_dep]['weight']\n",
    "        DG_only_dep.add_edge(source_dep, targ_dep, weight = w+1)\n",
    "print(nx.info(DG_only_dep))"
   ]
  },
  {
   "cell_type": "code",
   "execution_count": 86,
   "metadata": {},
   "outputs": [
    {
     "name": "stdout",
     "output_type": "stream",
     "text": [
      "[(1, 1, {'weight': 539}), (1, 15, {'weight': 44}), (1, 39, {'weight': 24}), (1, 3, {'weight': 8}), (1, 0, {'weight': 19}), (1, 7, {'weight': 41}), (1, 14, {'weight': 30}), (1, 16, {'weight': 4}), (1, 31, {'weight': 14}), (1, 20, {'weight': 2}), (1, 25, {'weight': 18}), (1, 19, {'weight': 3}), (1, 36, {'weight': 109}), (1, 34, {'weight': 37}), (1, 37, {'weight': 12}), (1, 35, {'weight': 23}), (1, 6, {'weight': 11}), (1, 38, {'weight': 16}), (1, 23, {'weight': 7}), (1, 2, {'weight': 9}), (1, 29, {'weight': 2}), (1, 9, {'weight': 21}), (1, 24, {'weight': 3}), (1, 17, {'weight': 3}), (1, 11, {'weight': 5}), (1, 4, {'weight': 52}), (1, 21, {'weight': 11}), (1, 12, {'weight': 1}), (1, 5, {'weight': 11}), (1, 27, {'weight': 1}), (1, 13, {'weight': 17}), (1, 26, {'weight': 17}), (1, 10, {'weight': 18}), (1, 40, {'weight': 2}), (1, 41, {'weight': 4}), (1, 28, {'weight': 4}), (1, 8, {'weight': 2}), (1, 32, {'weight': 1}), (1, 22, {'weight': 1}), (1, 30, {'weight': 1}), (21, 21, {'weight': 640}), (21, 38, {'weight': 15}), (21, 22, {'weight': 159}), (21, 20, {'weight': 62}), (21, 26, {'weight': 18}), (21, 34, {'weight': 25}), (21, 25, {'weight': 45}), (21, 32, {'weight': 77}), (21, 16, {'weight': 10}), (21, 19, {'weight': 32}), (21, 14, {'weight': 12}), (21, 1, {'weight': 14}), (21, 36, {'weight': 62}), (21, 28, {'weight': 41}), (21, 17, {'weight': 15}), (21, 37, {'weight': 14}), (21, 35, {'weight': 21}), (21, 10, {'weight': 5}), (21, 4, {'weight': 20}), (21, 15, {'weight': 15}), (21, 5, {'weight': 4}), (21, 0, {'weight': 5}), (21, 13, {'weight': 5}), (21, 6, {'weight': 9}), (21, 40, {'weight': 1}), (21, 30, {'weight': 2}), (21, 23, {'weight': 1}), (21, 27, {'weight': 2}), (21, 8, {'weight': 3}), (21, 7, {'weight': 1}), (21, 11, {'weight': 2}), (21, 9, {'weight': 10}), (21, 29, {'weight': 5}), (21, 3, {'weight': 1}), (21, 18, {'weight': 1}), (25, 25, {'weight': 36}), (25, 14, {'weight': 18}), (25, 1, {'weight': 20}), (25, 6, {'weight': 2}), (25, 9, {'weight': 11}), (25, 4, {'weight': 55}), (25, 13, {'weight': 19}), (25, 17, {'weight': 10}), (25, 34, {'weight': 11}), (25, 21, {'weight': 47}), (25, 10, {'weight': 14}), (25, 8, {'weight': 7}), (25, 23, {'weight': 5}), (25, 22, {'weight': 21}), (25, 0, {'weight': 20}), (25, 7, {'weight': 17}), (25, 16, {'weight': 12}), (25, 11, {'weight': 5}), (25, 20, {'weight': 11}), (25, 31, {'weight': 1}), (25, 28, {'weight': 10}), (25, 15, {'weight': 13}), (25, 36, {'weight': 10}), (25, 38, {'weight': 13}), (25, 40, {'weight': 2}), (25, 5, {'weight': 12}), (25, 2, {'weight': 3}), (25, 19, {'weight': 14}), (25, 29, {'weight': 2}), (25, 35, {'weight': 1}), (25, 26, {'weight': 2}), (25, 32, {'weight': 4}), (25, 12, {'weight': 1}), (25, 30, {'weight': 1}), (25, 3, {'weight': 4}), (14, 14, {'weight': 1562}), (14, 35, {'weight': 29}), (14, 25, {'weight': 20}), (14, 8, {'weight': 6}), (14, 36, {'weight': 114}), (14, 0, {'weight': 8}), (14, 6, {'weight': 6}), (14, 1, {'weight': 22}), (14, 26, {'weight': 19}), (14, 34, {'weight': 36}), (14, 19, {'weight': 18}), (14, 9, {'weight': 17}), (14, 4, {'weight': 71}), (14, 15, {'weight': 25}), (14, 22, {'weight': 11}), (14, 38, {'weight': 10}), (14, 5, {'weight': 15}), (14, 31, {'weight': 5}), (14, 39, {'weight': 8}), (14, 11, {'weight': 5}), (14, 13, {'weight': 8}), (14, 37, {'weight': 9}), (14, 7, {'weight': 19}), (14, 27, {'weight': 4}), (14, 23, {'weight': 6}), (14, 16, {'weight': 4}), (14, 10, {'weight': 5}), (14, 30, {'weight': 2}), (14, 21, {'weight': 11}), (14, 12, {'weight': 1}), (14, 20, {'weight': 3}), (14, 17, {'weight': 6}), (14, 29, {'weight': 2}), (14, 3, {'weight': 3}), (14, 2, {'weight': 3}), (14, 28, {'weight': 4}), (14, 24, {'weight': 1}), (14, 32, {'weight': 1}), (14, 40, {'weight': 1}), (9, 14, {'weight': 18}), (9, 9, {'weight': 166}), (9, 13, {'weight': 7}), (9, 11, {'weight': 8}), (9, 38, {'weight': 24}), (9, 22, {'weight': 13}), (9, 26, {'weight': 15}), (9, 34, {'weight': 16}), (9, 15, {'weight': 54}), (9, 2, {'weight': 11}), (9, 8, {'weight': 12}), (9, 36, {'weight': 46}), (9, 20, {'weight': 10}), (9, 25, {'weight': 10}), (9, 4, {'weight': 15}), (9, 23, {'weight': 5}), (9, 1, {'weight': 27}), (9, 21, {'weight': 10}), (9, 6, {'weight': 11}), (9, 29, {'weight': 5}), (9, 28, {'weight': 2}), (9, 35, {'weight': 10}), (9, 37, {'weight': 3}), (9, 10, {'weight': 5}), (9, 0, {'weight': 3}), (9, 5, {'weight': 7}), (9, 40, {'weight': 1}), (9, 17, {'weight': 3}), (9, 30, {'weight': 1}), (9, 16, {'weight': 2}), (9, 31, {'weight': 2}), (9, 32, {'weight': 1}), (9, 27, {'weight': 1}), (9, 7, {'weight': 1}), (9, 19, {'weight': 2}), (9, 3, {'weight': 1}), (9, 24, {'weight': 1}), (9, 39, {'weight': 1}), (26, 22, {'weight': 13}), (26, 26, {'weight': 37}), (26, 19, {'weight': 21}), (26, 11, {'weight': 38}), (26, 9, {'weight': 23}), (26, 17, {'weight': 21}), (26, 20, {'weight': 6}), (26, 4, {'weight': 53}), (26, 14, {'weight': 24}), (26, 8, {'weight': 13}), (26, 21, {'weight': 25}), (26, 0, {'weight': 30}), (26, 15, {'weight': 35}), (26, 10, {'weight': 21}), (26, 5, {'weight': 11}), (26, 13, {'weight': 20}), (26, 2, {'weight': 4}), (26, 32, {'weight': 2}), (26, 3, {'weight': 14}), (26, 29, {'weight': 1}), (26, 38, {'weight': 5}), (26, 25, {'weight': 3}), (26, 36, {'weight': 12}), (26, 16, {'weight': 6}), (26, 18, {'weight': 1}), (26, 35, {'weight': 4}), (26, 23, {'weight': 16}), (26, 6, {'weight': 3}), (26, 7, {'weight': 12}), (26, 28, {'weight': 3}), (26, 12, {'weight': 1}), (26, 1, {'weight': 15}), (26, 37, {'weight': 3}), (26, 39, {'weight': 2}), (26, 34, {'weight': 5}), (26, 40, {'weight': 2}), (26, 24, {'weight': 1}), (26, 31, {'weight': 2}), (4, 14, {'weight': 95}), (4, 4, {'weight': 1235}), (4, 7, {'weight': 83}), (4, 6, {'weight': 16}), (4, 1, {'weight': 77}), (4, 0, {'weight': 150}), (4, 25, {'weight': 49}), (4, 10, {'weight': 83}), (4, 5, {'weight': 170}), (4, 3, {'weight': 35}), (4, 13, {'weight': 79}), (4, 34, {'weight': 68}), (4, 2, {'weight': 15}), (4, 23, {'weight': 10}), (4, 36, {'weight': 155}), (4, 26, {'weight': 20}), (4, 16, {'weight': 11}), (4, 9, {'weight': 20}), (4, 35, {'weight': 30}), (4, 8, {'weight': 43}), (4, 33, {'weight': 3}), (4, 15, {'weight': 39}), (4, 17, {'weight': 9}), (4, 19, {'weight': 16}), (4, 21, {'weight': 17}), (4, 11, {'weight': 45}), (4, 22, {'weight': 16}), (4, 38, {'weight': 16}), (4, 40, {'weight': 5}), (4, 20, {'weight': 11}), (4, 37, {'weight': 13}), (4, 29, {'weight': 1}), (4, 27, {'weight': 4}), (4, 39, {'weight': 2}), (4, 28, {'weight': 4}), (4, 32, {'weight': 2}), (4, 30, {'weight': 1}), (4, 31, {'weight': 1}), (4, 12, {'weight': 3}), (17, 34, {'weight': 16}), (17, 17, {'weight': 465}), (17, 36, {'weight': 32}), (17, 20, {'weight': 6}), (17, 37, {'weight': 6}), (17, 5, {'weight': 4}), (17, 4, {'weight': 12}), (17, 14, {'weight': 5}), (17, 22, {'weight': 3}), (17, 26, {'weight': 16}), (17, 16, {'weight': 19}), (17, 32, {'weight': 10}), (17, 3, {'weight': 3}), (17, 38, {'weight': 6}), (17, 28, {'weight': 5}), (17, 19, {'weight': 5}), (17, 21, {'weight': 14}), (17, 9, {'weight': 4}), (17, 8, {'weight': 1}), (17, 23, {'weight': 4}), (17, 10, {'weight': 3}), (17, 13, {'weight': 2}), (17, 35, {'weight': 12}), (17, 27, {'weight': 1}), (17, 0, {'weight': 1}), (17, 25, {'weight': 12}), (17, 7, {'weight': 3}), (17, 40, {'weight': 3}), (17, 15, {'weight': 6}), (17, 30, {'weight': 1}), (17, 1, {'weight': 2}), (17, 11, {'weight': 2}), (34, 34, {'weight': 52}), (34, 38, {'weight': 24}), (34, 23, {'weight': 23}), (34, 5, {'weight': 22}), (34, 21, {'weight': 22}), (34, 28, {'weight': 8}), (34, 32, {'weight': 8}), (34, 6, {'weight': 26}), (34, 36, {'weight': 53}), (34, 14, {'weight': 43}), (34, 35, {'weight': 37}), (34, 29, {'weight': 6}), (34, 4, {'weight': 78}), (34, 27, {'weight': 7}), (34, 19, {'weight': 30}), (34, 25, {'weight': 10}), (34, 15, {'weight': 55}), (34, 10, {'weight': 26}), (34, 13, {'weight': 27}), (34, 1, {'weight': 36}), (34, 0, {'weight': 16}), (34, 17, {'weight': 19}), (34, 20, {'weight': 13}), (34, 31, {'weight': 6}), (34, 8, {'weight': 18}), (34, 9, {'weight': 14}), (34, 37, {'weight': 22}), (34, 11, {'weight': 13}), (34, 12, {'weight': 5}), (34, 7, {'weight': 16}), (34, 40, {'weight': 5}), (34, 24, {'weight': 5}), (34, 39, {'weight': 2}), (34, 16, {'weight': 18}), (34, 26, {'weight': 7}), (34, 3, {'weight': 8}), (34, 22, {'weight': 11}), (34, 30, {'weight': 3}), (34, 2, {'weight': 3}), (34, 41, {'weight': 1}), (11, 11, {'weight': 359}), (11, 13, {'weight': 91}), (11, 34, {'weight': 14}), (11, 36, {'weight': 42}), (11, 10, {'weight': 93}), (11, 26, {'weight': 14}), (11, 12, {'weight': 2}), (11, 1, {'weight': 6}), (11, 4, {'weight': 34}), (11, 5, {'weight': 14}), (11, 20, {'weight': 6}), (11, 15, {'weight': 13}), (11, 35, {'weight': 8}), (11, 14, {'weight': 7}), (11, 25, {'weight': 4}), (11, 37, {'weight': 6}), (11, 22, {'weight': 3}), (11, 28, {'weight': 1}), (11, 9, {'weight': 6}), (11, 0, {'weight': 2}), (11, 2, {'weight': 1}), (11, 8, {'weight': 5}), (11, 17, {'weight': 4}), (11, 38, {'weight': 1}), (11, 21, {'weight': 2}), (11, 29, {'weight': 1}), (11, 31, {'weight': 2}), (11, 39, {'weight': 1}), (11, 40, {'weight': 1}), (11, 7, {'weight': 2}), (11, 30, {'weight': 1}), (5, 34, {'weight': 21}), (5, 5, {'weight': 158}), (5, 1, {'weight': 15}), (5, 36, {'weight': 38}), (5, 4, {'weight': 151}), (5, 11, {'weight': 19}), (5, 10, {'weight': 14}), (5, 13, {'weight': 17}), (5, 3, {'weight': 20}), (5, 2, {'weight': 5}), (5, 0, {'weight': 22}), (5, 37, {'weight': 4}), (5, 35, {'weight': 9}), (5, 15, {'weight': 3}), (5, 21, {'weight': 4}), (5, 14, {'weight': 19}), (5, 25, {'weight': 10}), (5, 27, {'weight': 1}), (5, 16, {'weight': 7}), (5, 8, {'weight': 6}), (5, 26, {'weight': 8}), (5, 7, {'weight': 15}), (5, 9, {'weight': 3}), (5, 38, {'weight': 3}), (5, 17, {'weight': 3}), (5, 19, {'weight': 4}), (5, 6, {'weight': 1}), (5, 22, {'weight': 1}), (10, 10, {'weight': 504}), (10, 13, {'weight': 106}), (10, 5, {'weight': 16}), (10, 22, {'weight': 29}), (10, 36, {'weight': 81}), (10, 3, {'weight': 9}), (10, 4, {'weight': 70}), (10, 2, {'weight': 8}), (10, 11, {'weight': 97}), (10, 12, {'weight': 15}), (10, 20, {'weight': 27}), (10, 1, {'weight': 16}), (10, 37, {'weight': 14}), (10, 34, {'weight': 23}), (10, 40, {'weight': 3}), (10, 15, {'weight': 12}), (10, 31, {'weight': 3}), (10, 17, {'weight': 4}), (10, 7, {'weight': 5}), (10, 26, {'weight': 12}), (10, 8, {'weight': 12}), (10, 38, {'weight': 12}), (10, 35, {'weight': 15}), (10, 14, {'weight': 10}), (10, 21, {'weight': 7}), (10, 16, {'weight': 3}), (10, 23, {'weight': 7}), (10, 19, {'weight': 4}), (10, 0, {'weight': 2}), (10, 9, {'weight': 7}), (10, 6, {'weight': 4}), (10, 18, {'weight': 1}), (10, 27, {'weight': 5}), (10, 29, {'weight': 2}), (10, 28, {'weight': 5}), (10, 25, {'weight': 13}), (10, 24, {'weight': 1}), (36, 37, {'weight': 56}), (36, 1, {'weight': 128}), (36, 36, {'weight': 224}), (36, 34, {'weight': 54}), (36, 21, {'weight': 92}), (36, 38, {'weight': 42}), (36, 27, {'weight': 41}), (36, 2, {'weight': 23}), (36, 10, {'weight': 90}), (36, 14, {'weight': 136}), (36, 15, {'weight': 151}), (36, 8, {'weight': 55}), (36, 3, {'weight': 39}), (36, 11, {'weight': 66}), (36, 5, {'weight': 47}), (36, 13, {'weight': 66}), (36, 4, {'weight': 229}), (36, 28, {'weight': 27}), (36, 17, {'weight': 57}), (36, 23, {'weight': 67}), (36, 20, {'weight': 34}), (36, 6, {'weight': 50}), (36, 16, {'weight': 59}), (36, 9, {'weight': 49}), (36, 19, {'weight': 81}), (36, 22, {'weight': 33}), (36, 12, {'weight': 13}), (36, 7, {'weight': 100}), (36, 0, {'weight': 65}), (36, 29, {'weight': 9}), (36, 35, {'weight': 38}), (36, 40, {'weight': 16}), (36, 31, {'weight': 18}), (36, 32, {'weight': 26}), (36, 25, {'weight': 13}), (36, 24, {'weight': 14}), (36, 30, {'weight': 2}), (36, 26, {'weight': 14}), (36, 18, {'weight': 2}), (36, 39, {'weight': 6}), (36, 41, {'weight': 2}), (37, 34, {'weight': 13}), (37, 36, {'weight': 55}), (37, 37, {'weight': 106}), (37, 10, {'weight': 16}), (37, 40, {'weight': 10}), (37, 0, {'weight': 4}), (37, 16, {'weight': 9}), (37, 21, {'weight': 15}), (37, 11, {'weight': 6}), (37, 8, {'weight': 6}), (37, 7, {'weight': 13}), (37, 15, {'weight': 14}), (37, 31, {'weight': 4}), (37, 19, {'weight': 9}), (37, 14, {'weight': 12}), (37, 17, {'weight': 5}), (37, 4, {'weight': 19}), (37, 26, {'weight': 3}), (37, 35, {'weight': 7}), (37, 13, {'weight': 6}), (37, 6, {'weight': 3}), (37, 20, {'weight': 2}), (37, 3, {'weight': 3}), (37, 1, {'weight': 7}), (37, 9, {'weight': 5}), (37, 2, {'weight': 5}), (37, 22, {'weight': 1}), (37, 39, {'weight': 2}), (37, 28, {'weight': 3}), (37, 27, {'weight': 3}), (37, 32, {'weight': 1}), (37, 23, {'weight': 3}), (37, 5, {'weight': 2}), (37, 24, {'weight': 1}), (37, 41, {'weight': 1}), (37, 29, {'weight': 1}), (37, 38, {'weight': 2}), (37, 12, {'weight': 1}), (7, 4, {'weight': 93}), (7, 16, {'weight': 2}), (7, 7, {'weight': 719}), (7, 15, {'weight': 6}), (7, 6, {'weight': 18}), (7, 1, {'weight': 62}), (7, 0, {'weight': 111}), (7, 5, {'weight': 16}), (7, 26, {'weight': 7}), (7, 23, {'weight': 7}), (7, 36, {'weight': 64}), (7, 34, {'weight': 16}), (7, 13, {'weight': 3}), (7, 14, {'weight': 18}), (7, 25, {'weight': 13}), (7, 35, {'weight': 12}), (7, 3, {'weight': 5}), (7, 41, {'weight': 1}), (7, 37, {'weight': 11}), (7, 10, {'weight': 4}), (7, 32, {'weight': 4}), (7, 39, {'weight': 4}), (7, 31, {'weight': 3}), (7, 19, {'weight': 1}), (7, 2, {'weight': 2}), (7, 38, {'weight': 3}), (7, 24, {'weight': 2}), (7, 17, {'weight': 5}), (7, 11, {'weight': 2}), (7, 8, {'weight': 2}), (7, 29, {'weight': 2}), (7, 21, {'weight': 2}), (7, 22, {'weight': 1}), (7, 9, {'weight': 1}), (22, 22, {'weight': 135}), (22, 21, {'weight': 154}), (22, 11, {'weight': 5}), (22, 25, {'weight': 15}), (22, 32, {'weight': 11}), (22, 20, {'weight': 32}), (22, 28, {'weight': 43}), (22, 14, {'weight': 11}), (22, 13, {'weight': 18}), (22, 36, {'weight': 26}), (22, 35, {'weight': 10}), (22, 26, {'weight': 10}), (22, 9, {'weight': 5}), (22, 16, {'weight': 3}), (22, 7, {'weight': 3}), (22, 6, {'weight': 2}), (22, 4, {'weight': 24}), (22, 37, {'weight': 5}), (22, 31, {'weight': 1}), (22, 19, {'weight': 7}), (22, 8, {'weight': 12}), (22, 10, {'weight': 24}), (22, 15, {'weight': 5}), (22, 34, {'weight': 8}), (22, 38, {'weight': 2}), (22, 2, {'weight': 1}), (22, 17, {'weight': 6}), (22, 27, {'weight': 2}), (22, 1, {'weight': 4}), (22, 0, {'weight': 3}), (22, 30, {'weight': 1}), (22, 23, {'weight': 5}), (22, 5, {'weight': 1}), (22, 40, {'weight': 1}), (22, 12, {'weight': 1}), (22, 29, {'weight': 1}), (8, 15, {'weight': 60}), (8, 8, {'weight': 150}), (8, 25, {'weight': 5}), (8, 22, {'weight': 16}), (8, 20, {'weight': 6}), (8, 6, {'weight': 4}), (8, 4, {'weight': 39}), (8, 7, {'weight': 3}), (8, 14, {'weight': 8}), (8, 36, {'weight': 46}), (8, 31, {'weight': 2}), (8, 13, {'weight': 5}), (8, 10, {'weight': 11}), (8, 37, {'weight': 3}), (8, 35, {'weight': 6}), (8, 38, {'weight': 11}), (8, 26, {'weight': 10}), (8, 1, {'weight': 6}), (8, 27, {'weight': 7}), (8, 5, {'weight': 4}), (8, 2, {'weight': 4}), (8, 9, {'weight': 10}), (8, 41, {'weight': 1}), (8, 34, {'weight': 21}), (8, 0, {'weight': 3}), (8, 28, {'weight': 2}), (8, 11, {'weight': 3}), (8, 39, {'weight': 2}), (8, 23, {'weight': 3}), (8, 16, {'weight': 1}), (8, 21, {'weight': 4}), (8, 17, {'weight': 1}), (8, 29, {'weight': 6}), (8, 19, {'weight': 2}), (8, 24, {'weight': 1}), (15, 8, {'weight': 60}), (15, 15, {'weight': 379}), (15, 1, {'weight': 60}), (15, 36, {'weight': 125}), (15, 35, {'weight': 42}), (15, 9, {'weight': 57}), (15, 29, {'weight': 38}), (15, 34, {'weight': 53}), (15, 26, {'weight': 28}), (15, 38, {'weight': 27}), (15, 4, {'weight': 40}), (15, 25, {'weight': 14}), (15, 17, {'weight': 11}), (15, 14, {'weight': 39}), (15, 16, {'weight': 6}), (15, 21, {'weight': 11}), (15, 10, {'weight': 9}), (15, 22, {'weight': 6}), (15, 13, {'weight': 9}), (15, 20, {'weight': 5}), (15, 5, {'weight': 5}), (15, 6, {'weight': 5}), (15, 11, {'weight': 14}), (15, 37, {'weight': 14}), (15, 41, {'weight': 1}), (15, 23, {'weight': 4}), (15, 7, {'weight': 9}), (15, 31, {'weight': 3}), (15, 3, {'weight': 3}), (15, 27, {'weight': 1}), (15, 2, {'weight': 2}), (15, 24, {'weight': 1}), (15, 18, {'weight': 1}), (15, 32, {'weight': 2}), (15, 19, {'weight': 2}), (15, 12, {'weight': 2}), (15, 28, {'weight': 1}), (15, 40, {'weight': 2}), (15, 0, {'weight': 1}), (15, 39, {'weight': 1}), (3, 3, {'weight': 50}), (3, 34, {'weight': 6}), (3, 36, {'weight': 21}), (3, 1, {'weight': 10}), (3, 37, {'weight': 2}), (3, 4, {'weight': 28}), (3, 13, {'weight': 12}), (3, 2, {'weight': 10}), (3, 10, {'weight': 6}), (3, 5, {'weight': 15}), (3, 26, {'weight': 7}), (3, 25, {'weight': 2}), (3, 35, {'weight': 4}), (3, 7, {'weight': 5}), (3, 0, {'weight': 9}), (3, 6, {'weight': 3}), (3, 38, {'weight': 1}), (3, 14, {'weight': 1}), (3, 17, {'weight': 1}), (3, 9, {'weight': 1}), (3, 15, {'weight': 1}), (3, 16, {'weight': 1}), (3, 11, {'weight': 1}), (29, 15, {'weight': 20}), (29, 8, {'weight': 9}), (29, 34, {'weight': 3}), (29, 36, {'weight': 7}), (29, 29, {'weight': 6}), (29, 38, {'weight': 2}), (29, 19, {'weight': 1}), (29, 4, {'weight': 3}), (29, 37, {'weight': 1}), (29, 21, {'weight': 5}), (29, 32, {'weight': 1}), (29, 9, {'weight': 3}), (29, 5, {'weight': 1}), (29, 22, {'weight': 1}), (29, 20, {'weight': 1}), (29, 1, {'weight': 2}), (29, 2, {'weight': 2}), (29, 11, {'weight': 1}), (29, 10, {'weight': 2}), (29, 13, {'weight': 1}), (29, 6, {'weight': 1}), (29, 7, {'weight': 2}), (29, 23, {'weight': 1}), (29, 28, {'weight': 2}), (29, 26, {'weight': 1}), (29, 25, {'weight': 1}), (20, 20, {'weight': 80}), (20, 0, {'weight': 1}), (20, 1, {'weight': 2}), (20, 22, {'weight': 38}), (20, 4, {'weight': 17}), (20, 26, {'weight': 6}), (20, 21, {'weight': 62}), (20, 19, {'weight': 27}), (20, 28, {'weight': 13}), (20, 15, {'weight': 8}), (20, 13, {'weight': 29}), (20, 34, {'weight': 12}), (20, 8, {'weight': 7}), (20, 36, {'weight': 24}), (20, 25, {'weight': 7}), (20, 10, {'weight': 34}), (20, 17, {'weight': 9}), (20, 9, {'weight': 12}), (20, 11, {'weight': 5}), (20, 23, {'weight': 1}), (20, 6, {'weight': 5}), (20, 16, {'weight': 5}), (20, 12, {'weight': 3}), (20, 29, {'weight': 2}), (20, 2, {'weight': 2}), (20, 38, {'weight': 5}), (20, 35, {'weight': 6}), (20, 37, {'weight': 5}), (20, 32, {'weight': 6}), (20, 7, {'weight': 1}), (20, 14, {'weight': 4}), (20, 27, {'weight': 2}), (20, 5, {'weight': 2}), (16, 16, {'weight': 254}), (16, 38, {'weight': 16}), (16, 17, {'weight': 18}), (16, 35, {'weight': 15}), (16, 34, {'weight': 19}), (16, 25, {'weight': 10}), (16, 36, {'weight': 55}), (16, 9, {'weight': 2}), (16, 6, {'weight': 2}), (16, 20, {'weight': 3}), (16, 0, {'weight': 2}), (16, 26, {'weight': 4}), (16, 5, {'weight': 4}), (16, 1, {'weight': 1}), (16, 7, {'weight': 2}), (16, 4, {'weight': 9}), (16, 22, {'weight': 4}), (16, 28, {'weight': 3}), (16, 3, {'weight': 1}), (16, 15, {'weight': 4}), (16, 21, {'weight': 11}), (16, 37, {'weight': 11}), (16, 14, {'weight': 8}), (16, 23, {'weight': 1}), (16, 10, {'weight': 2}), (16, 19, {'weight': 4}), (16, 2, {'weight': 1}), (16, 27, {'weight': 1}), (16, 32, {'weight': 1}), (16, 13, {'weight': 3}), (16, 8, {'weight': 2}), (16, 11, {'weight': 1}), (16, 40, {'weight': 1}), (38, 16, {'weight': 22}), (38, 38, {'weight': 59}), (38, 21, {'weight': 15}), (38, 25, {'weight': 10}), (38, 1, {'weight': 27}), (38, 28, {'weight': 3}), (38, 32, {'weight': 3}), (38, 15, {'weight': 31}), (38, 36, {'weight': 42}), (38, 14, {'weight': 23}), (38, 39, {'weight': 4}), (38, 34, {'weight': 22}), (38, 9, {'weight': 27}), (38, 23, {'weight': 12}), (38, 6, {'weight': 11}), (38, 29, {'weight': 2}), (38, 2, {'weight': 6}), (38, 4, {'weight': 19}), (38, 17, {'weight': 14}), (38, 20, {'weight': 6}), (38, 8, {'weight': 19}), (38, 35, {'weight': 14}), (38, 22, {'weight': 8}), (38, 30, {'weight': 2}), (38, 24, {'weight': 1}), (38, 26, {'weight': 4}), (38, 27, {'weight': 6}), (38, 13, {'weight': 12}), (38, 5, {'weight': 5}), (38, 31, {'weight': 1}), (38, 7, {'weight': 3}), (38, 10, {'weight': 11}), (38, 11, {'weight': 4}), (38, 19, {'weight': 10}), (38, 3, {'weight': 4}), (38, 37, {'weight': 3}), (38, 0, {'weight': 1}), (38, 41, {'weight': 1}), (27, 36, {'weight': 41}), (27, 5, {'weight': 3}), (27, 8, {'weight': 8}), (27, 37, {'weight': 6}), (27, 34, {'weight': 9}), (27, 4, {'weight': 5}), (27, 26, {'weight': 2}), (27, 35, {'weight': 9}), (27, 10, {'weight': 6}), (27, 14, {'weight': 5}), (27, 11, {'weight': 1}), (27, 7, {'weight': 2}), (27, 16, {'weight': 2}), (27, 21, {'weight': 4}), (27, 12, {'weight': 1}), (27, 15, {'weight': 4}), (27, 0, {'weight': 1}), (27, 13, {'weight': 3}), (27, 38, {'weight': 5}), (27, 32, {'weight': 1}), (27, 22, {'weight': 2}), (27, 27, {'weight': 5}), (27, 20, {'weight': 1}), (27, 6, {'weight': 3}), (27, 17, {'weight': 1}), (27, 19, {'weight': 1}), (13, 13, {'weight': 301}), (13, 36, {'weight': 46}), (13, 34, {'weight': 31}), (13, 12, {'weight': 8}), (13, 11, {'weight': 113}), (13, 20, {'weight': 25}), (13, 25, {'weight': 18}), (13, 35, {'weight': 14}), (13, 10, {'weight': 121}), (13, 21, {'weight': 4}), (13, 4, {'weight': 57}), (13, 26, {'weight': 17}), (13, 22, {'weight': 30}), (13, 37, {'weight': 7}), (13, 15, {'weight': 5}), (13, 6, {'weight': 12}), (13, 19, {'weight': 2}), (13, 40, {'weight': 4}), (13, 5, {'weight': 14}), (13, 3, {'weight': 12}), (13, 14, {'weight': 12}), (13, 2, {'weight': 10}), (13, 38, {'weight': 8}), (13, 32, {'weight': 1}), (13, 27, {'weight': 2}), (13, 28, {'weight': 4}), (13, 24, {'weight': 2}), (13, 8, {'weight': 5}), (13, 1, {'weight': 11}), (13, 0, {'weight': 5}), (13, 7, {'weight': 3}), (13, 9, {'weight': 6}), (13, 23, {'weight': 2}), (13, 16, {'weight': 2}), (13, 17, {'weight': 2}), (13, 29, {'weight': 1}), (13, 31, {'weight': 1}), (6, 26, {'weight': 9}), (6, 15, {'weight': 8}), (6, 16, {'weight': 4}), (6, 36, {'weight': 31}), (6, 22, {'weight': 2}), (6, 1, {'weight': 27}), (6, 13, {'weight': 12}), (6, 38, {'weight': 10}), (6, 6, {'weight': 35}), (6, 34, {'weight': 23}), (6, 5, {'weight': 2}), (6, 4, {'weight': 27}), (6, 0, {'weight': 11}), (6, 10, {'weight': 7}), (6, 9, {'weight': 12}), (6, 11, {'weight': 3}), (6, 7, {'weight': 20}), (6, 35, {'weight': 7}), (6, 14, {'weight': 7}), (6, 37, {'weight': 4}), (6, 25, {'weight': 2}), (6, 8, {'weight': 5}), (6, 17, {'weight': 2}), (6, 21, {'weight': 8}), (6, 20, {'weight': 7}), (6, 19, {'weight': 5}), (6, 23, {'weight': 5}), (6, 24, {'weight': 4}), (6, 29, {'weight': 1}), (6, 2, {'weight': 2}), (6, 3, {'weight': 5}), (6, 28, {'weight': 1}), (0, 13, {'weight': 4}), (0, 0, {'weight': 456}), (0, 7, {'weight': 109}), (0, 4, {'weight': 123}), (0, 1, {'weight': 35}), (0, 28, {'weight': 1}), (0, 34, {'weight': 12}), (0, 26, {'weight': 15}), (0, 20, {'weight': 2}), (0, 25, {'weight': 21}), (0, 36, {'weight': 37}), (0, 6, {'weight': 5}), (0, 23, {'weight': 6}), (0, 3, {'weight': 8}), (0, 5, {'weight': 26}), (0, 32, {'weight': 2}), (0, 14, {'weight': 14}), (0, 37, {'weight': 5}), (0, 35, {'weight': 8}), (0, 9, {'weight': 3}), (0, 22, {'weight': 2}), (0, 15, {'weight': 2}), (0, 16, {'weight': 3}), (0, 11, {'weight': 3}), (0, 38, {'weight': 3}), (0, 17, {'weight': 1}), (0, 2, {'weight': 1}), (0, 8, {'weight': 1}), (0, 19, {'weight': 1}), (0, 21, {'weight': 1}), (28, 28, {'weight': 23}), (28, 34, {'weight': 8}), (28, 36, {'weight': 28}), (28, 24, {'weight': 5}), (28, 22, {'weight': 56}), (28, 21, {'weight': 42}), (28, 20, {'weight': 12}), (28, 16, {'weight': 4}), (28, 25, {'weight': 8}), (28, 14, {'weight': 5}), (28, 37, {'weight': 4}), (28, 32, {'weight': 5}), (28, 35, {'weight': 5}), (28, 4, {'weight': 5}), (28, 19, {'weight': 13}), (28, 38, {'weight': 3}), (28, 8, {'weight': 2}), (28, 17, {'weight': 6}), (28, 26, {'weight': 3}), (28, 12, {'weight': 1}), (28, 29, {'weight': 1}), (28, 9, {'weight': 3}), (28, 1, {'weight': 4}), (28, 30, {'weight': 1}), (28, 23, {'weight': 1}), (28, 6, {'weight': 1}), (28, 10, {'weight': 6}), (28, 11, {'weight': 1}), (28, 13, {'weight': 8}), (28, 0, {'weight': 1}), (2, 25, {'weight': 4}), (2, 36, {'weight': 18}), (2, 2, {'weight': 50}), (2, 38, {'weight': 3}), (2, 9, {'weight': 11}), (2, 4, {'weight': 19}), (2, 1, {'weight': 8}), (2, 22, {'weight': 2}), (2, 10, {'weight': 7}), (2, 3, {'weight': 11}), (2, 16, {'weight': 1}), (2, 13, {'weight': 6}), (2, 34, {'weight': 4}), (2, 0, {'weight': 2}), (2, 5, {'weight': 4}), (2, 8, {'weight': 3}), (2, 17, {'weight': 2}), (2, 14, {'weight': 3}), (2, 37, {'weight': 4}), (2, 35, {'weight': 3}), (2, 11, {'weight': 2}), (2, 15, {'weight': 1}), (2, 39, {'weight': 1}), (2, 29, {'weight': 1}), (2, 20, {'weight': 1}), (2, 26, {'weight': 1}), (40, 35, {'weight': 5}), (40, 40, {'weight': 13}), (40, 36, {'weight': 22}), (40, 37, {'weight': 10}), (40, 34, {'weight': 3}), (40, 13, {'weight': 7}), (40, 4, {'weight': 8}), (40, 3, {'weight': 4}), (40, 0, {'weight': 3}), (40, 11, {'weight': 4}), (40, 26, {'weight': 3}), (40, 6, {'weight': 5}), (40, 21, {'weight': 3}), (40, 1, {'weight': 5}), (40, 32, {'weight': 3}), (40, 2, {'weight': 1}), (40, 38, {'weight': 2}), (40, 5, {'weight': 3}), (40, 7, {'weight': 2}), (40, 8, {'weight': 1}), (40, 15, {'weight': 3}), (40, 9, {'weight': 1}), (40, 10, {'weight': 4}), (40, 12, {'weight': 1}), (40, 14, {'weight': 3}), (40, 16, {'weight': 2}), (40, 17, {'weight': 3}), (40, 19, {'weight': 2}), (40, 20, {'weight': 2}), (40, 23, {'weight': 2}), (40, 30, {'weight': 1}), (40, 27, {'weight': 2}), (40, 22, {'weight': 2}), (40, 25, {'weight': 2}), (35, 34, {'weight': 30}), (35, 20, {'weight': 11}), (35, 36, {'weight': 29}), (35, 12, {'weight': 5}), (35, 35, {'weight': 66}), (35, 19, {'weight': 23}), (35, 14, {'weight': 43}), (35, 30, {'weight': 3}), (35, 38, {'weight': 19}), (35, 21, {'weight': 20}), (35, 15, {'weight': 41}), (35, 4, {'weight': 42}), (35, 17, {'weight': 20}), (35, 40, {'weight': 7}), (35, 28, {'weight': 5}), (35, 13, {'weight': 14}), (35, 10, {'weight': 15}), (35, 23, {'weight': 19}), (35, 6, {'weight': 7}), (35, 9, {'weight': 14}), (35, 7, {'weight': 17}), (35, 1, {'weight': 26}), (35, 0, {'weight': 15}), (35, 24, {'weight': 3}), (35, 16, {'weight': 9}), (35, 37, {'weight': 6}), (35, 5, {'weight': 11}), (35, 22, {'weight': 10}), (35, 11, {'weight': 12}), (35, 26, {'weight': 2}), (35, 27, {'weight': 7}), (35, 8, {'weight': 4}), (35, 3, {'weight': 4}), (35, 2, {'weight': 3}), (35, 39, {'weight': 2}), (35, 29, {'weight': 2}), (35, 32, {'weight': 1}), (35, 31, {'weight': 1}), (35, 25, {'weight': 1}), (23, 36, {'weight': 63}), (23, 14, {'weight': 12}), (23, 34, {'weight': 28}), (23, 37, {'weight': 5}), (23, 15, {'weight': 10}), (23, 1, {'weight': 46}), (23, 8, {'weight': 4}), (23, 38, {'weight': 16}), (23, 35, {'weight': 21}), (23, 17, {'weight': 8}), (23, 19, {'weight': 4}), (23, 13, {'weight': 4}), (23, 40, {'weight': 1}), (23, 26, {'weight': 16}), (23, 25, {'weight': 5}), (23, 32, {'weight': 1}), (23, 9, {'weight': 11}), (23, 23, {'weight': 39}), (23, 29, {'weight': 3}), (23, 22, {'weight': 6}), (23, 10, {'weight': 7}), (23, 7, {'weight': 10}), (23, 4, {'weight': 14}), (23, 16, {'weight': 3}), (23, 5, {'weight': 1}), (23, 21, {'weight': 1}), (23, 0, {'weight': 7}), (23, 28, {'weight': 2}), (23, 20, {'weight': 1}), (23, 39, {'weight': 1}), (23, 24, {'weight': 2}), (23, 6, {'weight': 2}), (19, 19, {'weight': 331}), (19, 36, {'weight': 70}), (19, 32, {'weight': 9}), (19, 28, {'weight': 13}), (19, 21, {'weight': 47}), (19, 34, {'weight': 27}), (19, 38, {'weight': 7}), (19, 20, {'weight': 27}), (19, 14, {'weight': 19}), (19, 4, {'weight': 16}), (19, 1, {'weight': 2}), (19, 26, {'weight': 15}), (19, 5, {'weight': 4}), (19, 22, {'weight': 15}), (19, 6, {'weight': 4}), (19, 35, {'weight': 16}), (19, 37, {'weight': 12}), (19, 17, {'weight': 12}), (19, 25, {'weight': 12}), (19, 23, {'weight': 3}), (19, 16, {'weight': 10}), (19, 10, {'weight': 4}), (19, 13, {'weight': 3}), (19, 15, {'weight': 6}), (19, 31, {'weight': 2}), (19, 41, {'weight': 1}), (19, 9, {'weight': 2}), (19, 8, {'weight': 3}), (19, 29, {'weight': 1}), (19, 30, {'weight': 1}), (19, 2, {'weight': 1}), (24, 9, {'weight': 2}), (24, 1, {'weight': 3}), (24, 34, {'weight': 5}), (24, 38, {'weight': 3}), (24, 36, {'weight': 15}), (24, 14, {'weight': 1}), (24, 37, {'weight': 4}), (24, 13, {'weight': 2}), (24, 35, {'weight': 8}), (24, 7, {'weight': 1}), (24, 28, {'weight': 1}), (24, 25, {'weight': 1}), (24, 26, {'weight': 1}), (24, 24, {'weight': 5}), (32, 32, {'weight': 30}), (32, 21, {'weight': 83}), (32, 36, {'weight': 26}), (32, 17, {'weight': 20}), (32, 22, {'weight': 14}), (32, 34, {'weight': 10}), (32, 16, {'weight': 1}), (32, 7, {'weight': 6}), (32, 19, {'weight': 8}), (32, 26, {'weight': 1}), (32, 4, {'weight': 9}), (32, 20, {'weight': 10}), (32, 35, {'weight': 2}), (32, 0, {'weight': 6}), (32, 38, {'weight': 2}), (32, 9, {'weight': 9}), (32, 29, {'weight': 2}), (32, 28, {'weight': 6}), (32, 15, {'weight': 15}), (32, 37, {'weight': 5}), (32, 40, {'weight': 2}), (32, 25, {'weight': 3}), (32, 13, {'weight': 3}), (32, 1, {'weight': 2}), (32, 23, {'weight': 2}), (32, 14, {'weight': 27}), (32, 10, {'weight': 7}), (32, 12, {'weight': 1}), (32, 8, {'weight': 2}), (32, 2, {'weight': 1}), (32, 11, {'weight': 2}), (32, 5, {'weight': 1}), (31, 10, {'weight': 6}), (31, 36, {'weight': 16}), (31, 1, {'weight': 28}), (31, 29, {'weight': 3}), (31, 9, {'weight': 5}), (31, 38, {'weight': 4}), (31, 34, {'weight': 9}), (31, 15, {'weight': 7}), (31, 8, {'weight': 3}), (31, 37, {'weight': 4}), (31, 35, {'weight': 4}), (31, 19, {'weight': 2}), (31, 6, {'weight': 2}), (31, 14, {'weight': 9}), (31, 13, {'weight': 3}), (31, 4, {'weight': 2}), (31, 31, {'weight': 2}), (31, 11, {'weight': 4}), (31, 22, {'weight': 1}), (31, 7, {'weight': 3}), (31, 0, {'weight': 1}), (31, 25, {'weight': 1}), (39, 38, {'weight': 4}), (39, 1, {'weight': 30}), (39, 34, {'weight': 2}), (39, 7, {'weight': 3}), (39, 26, {'weight': 2}), (39, 6, {'weight': 2}), (39, 36, {'weight': 6}), (39, 15, {'weight': 1}), (39, 14, {'weight': 7}), (39, 4, {'weight': 3}), (39, 35, {'weight': 2}), (39, 2, {'weight': 3}), (39, 8, {'weight': 2}), (39, 9, {'weight': 1}), (39, 11, {'weight': 1}), (39, 23, {'weight': 1}), (39, 39, {'weight': 2}), (39, 37, {'weight': 1}), (39, 24, {'weight': 1}), (12, 35, {'weight': 4}), (12, 12, {'weight': 8}), (12, 10, {'weight': 17}), (12, 13, {'weight': 10}), (12, 36, {'weight': 13}), (12, 4, {'weight': 2}), (12, 26, {'weight': 2}), (12, 11, {'weight': 4}), (12, 34, {'weight': 5}), (12, 20, {'weight': 3}), (12, 37, {'weight': 3}), (12, 14, {'weight': 1}), (12, 22, {'weight': 2}), (12, 25, {'weight': 2}), (30, 30, {'weight': 5}), (30, 34, {'weight': 2}), (30, 4, {'weight': 2}), (30, 38, {'weight': 1}), (30, 1, {'weight': 1}), (30, 9, {'weight': 2}), (30, 17, {'weight': 1}), (30, 14, {'weight': 2}), (30, 36, {'weight': 1}), (30, 22, {'weight': 1}), (30, 21, {'weight': 1}), (30, 28, {'weight': 1}), (30, 25, {'weight': 1}), (41, 7, {'weight': 1}), (41, 41, {'weight': 1}), (41, 15, {'weight': 1})]\n"
     ]
    }
   ],
   "source": [
    "print(DG_only_dep.edges(data=True))"
   ]
  },
  {
   "cell_type": "code",
   "execution_count": 87,
   "metadata": {},
   "outputs": [],
   "source": [
    "nx.write_graphml(DG_only_dep, \"dep_only.graphml\")\n",
    "# TODO: remove self loops and add their weight as attribute of nodes"
   ]
  },
  {
   "cell_type": "code",
   "execution_count": 90,
   "metadata": {},
   "outputs": [
    {
     "name": "stdout",
     "output_type": "stream",
     "text": [
      "{'1': {}, '316': {}, '146': {}, '268': {}, '581': {}, '221': {}, '18': {}, '734': {}, '178': {}, '380': {}, '0': {}, '459': {}, '215': {}, '250': {}, '148': {}, '73': {}, '498': {}, '226': {}, '101': {}, '218': {}, '377': {}, '17': {}, '74': {}, '177': {}, '248': {}, '103': {}, '560': {}, '309': {}, '88': {}, '5': {}, '297': {}, '313': {}, '223': {}, '238': {}, '368': {}, '266': {}, '222': {}, '283': {}, '6': {}, '64': {}, '166': {}}\n"
     ]
    }
   ],
   "source": [
    "print(DG['0'])"
   ]
  },
  {
   "cell_type": "code",
   "execution_count": 94,
   "metadata": {},
   "outputs": [
    {
     "name": "stdout",
     "output_type": "stream",
     "text": [
      "density of emails: 0.025342411448732432\n",
      "density of deps: 0.721835075493612\n"
     ]
    }
   ],
   "source": [
    "print(\"density of emails:\", str(nx.density(DG)))\n",
    "print(\"density of deps:\", str(nx.density(DG_only_dep)))"
   ]
  },
  {
   "cell_type": "code",
   "execution_count": 96,
   "metadata": {},
   "outputs": [
    {
     "ename": "NetworkXError",
     "evalue": "Graph is not weakly connected.",
     "output_type": "error",
     "traceback": [
      "\u001b[0;31m---------------------------------------------------------------------------\u001b[0m",
      "\u001b[0;31mNetworkXError\u001b[0m                             Traceback (most recent call last)",
      "\u001b[0;32m<ipython-input-96-a46cc188c089>\u001b[0m in \u001b[0;36m<module>\u001b[0;34m()\u001b[0m\n\u001b[0;32m----> 1\u001b[0;31m \u001b[0mnx\u001b[0m\u001b[0;34m.\u001b[0m\u001b[0maverage_shortest_path_length\u001b[0m\u001b[0;34m(\u001b[0m\u001b[0mDG\u001b[0m\u001b[0;34m)\u001b[0m\u001b[0;34m\u001b[0m\u001b[0m\n\u001b[0m",
      "\u001b[0;32m~/anaconda3/lib/python3.6/site-packages/networkx/algorithms/shortest_paths/generic.py\u001b[0m in \u001b[0;36maverage_shortest_path_length\u001b[0;34m(G, weight)\u001b[0m\n\u001b[1;32m    320\u001b[0m     \u001b[0;31m# Shortest path length is undefined if the graph is disconnected.\u001b[0m\u001b[0;34m\u001b[0m\u001b[0;34m\u001b[0m\u001b[0m\n\u001b[1;32m    321\u001b[0m     \u001b[0;32mif\u001b[0m \u001b[0mG\u001b[0m\u001b[0;34m.\u001b[0m\u001b[0mis_directed\u001b[0m\u001b[0;34m(\u001b[0m\u001b[0;34m)\u001b[0m \u001b[0;32mand\u001b[0m \u001b[0;32mnot\u001b[0m \u001b[0mnx\u001b[0m\u001b[0;34m.\u001b[0m\u001b[0mis_weakly_connected\u001b[0m\u001b[0;34m(\u001b[0m\u001b[0mG\u001b[0m\u001b[0;34m)\u001b[0m\u001b[0;34m:\u001b[0m\u001b[0;34m\u001b[0m\u001b[0m\n\u001b[0;32m--> 322\u001b[0;31m         \u001b[0;32mraise\u001b[0m \u001b[0mnx\u001b[0m\u001b[0;34m.\u001b[0m\u001b[0mNetworkXError\u001b[0m\u001b[0;34m(\u001b[0m\u001b[0;34m\"Graph is not weakly connected.\"\u001b[0m\u001b[0;34m)\u001b[0m\u001b[0;34m\u001b[0m\u001b[0m\n\u001b[0m\u001b[1;32m    323\u001b[0m     \u001b[0;32mif\u001b[0m \u001b[0;32mnot\u001b[0m \u001b[0mG\u001b[0m\u001b[0;34m.\u001b[0m\u001b[0mis_directed\u001b[0m\u001b[0;34m(\u001b[0m\u001b[0;34m)\u001b[0m \u001b[0;32mand\u001b[0m \u001b[0;32mnot\u001b[0m \u001b[0mnx\u001b[0m\u001b[0;34m.\u001b[0m\u001b[0mis_connected\u001b[0m\u001b[0;34m(\u001b[0m\u001b[0mG\u001b[0m\u001b[0;34m)\u001b[0m\u001b[0;34m:\u001b[0m\u001b[0;34m\u001b[0m\u001b[0m\n\u001b[1;32m    324\u001b[0m         \u001b[0;32mraise\u001b[0m \u001b[0mnx\u001b[0m\u001b[0;34m.\u001b[0m\u001b[0mNetworkXError\u001b[0m\u001b[0;34m(\u001b[0m\u001b[0;34m\"Graph is not connected.\"\u001b[0m\u001b[0;34m)\u001b[0m\u001b[0;34m\u001b[0m\u001b[0m\n",
      "\u001b[0;31mNetworkXError\u001b[0m: Graph is not weakly connected."
     ]
    }
   ],
   "source": [
    "nx.average_shortest_path_length(DG)"
   ]
  },
  {
   "cell_type": "code",
   "execution_count": 98,
   "metadata": {},
   "outputs": [
    {
     "ename": "NetworkXError",
     "evalue": "Found infinite path length because the digraph is not strongly connected",
     "output_type": "error",
     "traceback": [
      "\u001b[0;31m---------------------------------------------------------------------------\u001b[0m",
      "\u001b[0;31mNetworkXError\u001b[0m                             Traceback (most recent call last)",
      "\u001b[0;32m<ipython-input-98-8651e8b2fdff>\u001b[0m in \u001b[0;36m<module>\u001b[0;34m()\u001b[0m\n\u001b[0;32m----> 1\u001b[0;31m \u001b[0mnx\u001b[0m\u001b[0;34m.\u001b[0m\u001b[0mdiameter\u001b[0m\u001b[0;34m(\u001b[0m\u001b[0mDG\u001b[0m\u001b[0;34m)\u001b[0m\u001b[0;34m\u001b[0m\u001b[0m\n\u001b[0m",
      "\u001b[0;32m~/anaconda3/lib/python3.6/site-packages/networkx/algorithms/distance_measures.py\u001b[0m in \u001b[0;36mdiameter\u001b[0;34m(G, e, usebounds)\u001b[0m\n\u001b[1;32m    274\u001b[0m         \u001b[0;32mreturn\u001b[0m \u001b[0mextrema_bounding\u001b[0m\u001b[0;34m(\u001b[0m\u001b[0mG\u001b[0m\u001b[0;34m,\u001b[0m \u001b[0mcompute\u001b[0m\u001b[0;34m=\u001b[0m\u001b[0;34m\"diameter\"\u001b[0m\u001b[0;34m)\u001b[0m\u001b[0;34m\u001b[0m\u001b[0m\n\u001b[1;32m    275\u001b[0m     \u001b[0;32mif\u001b[0m \u001b[0me\u001b[0m \u001b[0;32mis\u001b[0m \u001b[0;32mNone\u001b[0m\u001b[0;34m:\u001b[0m\u001b[0;34m\u001b[0m\u001b[0m\n\u001b[0;32m--> 276\u001b[0;31m         \u001b[0me\u001b[0m \u001b[0;34m=\u001b[0m \u001b[0meccentricity\u001b[0m\u001b[0;34m(\u001b[0m\u001b[0mG\u001b[0m\u001b[0;34m)\u001b[0m\u001b[0;34m\u001b[0m\u001b[0m\n\u001b[0m\u001b[1;32m    277\u001b[0m     \u001b[0;32mreturn\u001b[0m \u001b[0mmax\u001b[0m\u001b[0;34m(\u001b[0m\u001b[0me\u001b[0m\u001b[0;34m.\u001b[0m\u001b[0mvalues\u001b[0m\u001b[0;34m(\u001b[0m\u001b[0;34m)\u001b[0m\u001b[0;34m)\u001b[0m\u001b[0;34m\u001b[0m\u001b[0m\n\u001b[1;32m    278\u001b[0m \u001b[0;34m\u001b[0m\u001b[0m\n",
      "\u001b[0;32m~/anaconda3/lib/python3.6/site-packages/networkx/algorithms/distance_measures.py\u001b[0m in \u001b[0;36meccentricity\u001b[0;34m(G, v, sp)\u001b[0m\n\u001b[1;32m    239\u001b[0m                 msg = ('Found infinite path length because the graph is not'\n\u001b[1;32m    240\u001b[0m                        ' connected')\n\u001b[0;32m--> 241\u001b[0;31m             \u001b[0;32mraise\u001b[0m \u001b[0mnetworkx\u001b[0m\u001b[0;34m.\u001b[0m\u001b[0mNetworkXError\u001b[0m\u001b[0;34m(\u001b[0m\u001b[0mmsg\u001b[0m\u001b[0;34m)\u001b[0m\u001b[0;34m\u001b[0m\u001b[0m\n\u001b[0m\u001b[1;32m    242\u001b[0m \u001b[0;34m\u001b[0m\u001b[0m\n\u001b[1;32m    243\u001b[0m         \u001b[0me\u001b[0m\u001b[0;34m[\u001b[0m\u001b[0mn\u001b[0m\u001b[0;34m]\u001b[0m \u001b[0;34m=\u001b[0m \u001b[0mmax\u001b[0m\u001b[0;34m(\u001b[0m\u001b[0mlength\u001b[0m\u001b[0;34m.\u001b[0m\u001b[0mvalues\u001b[0m\u001b[0;34m(\u001b[0m\u001b[0;34m)\u001b[0m\u001b[0;34m)\u001b[0m\u001b[0;34m\u001b[0m\u001b[0m\n",
      "\u001b[0;31mNetworkXError\u001b[0m: Found infinite path length because the digraph is not strongly connected"
     ]
    }
   ],
   "source": [
    "nx.diameter(DG)"
   ]
  },
  {
   "cell_type": "code",
   "execution_count": 100,
   "metadata": {},
   "outputs": [
    {
     "ename": "NetworkXError",
     "evalue": "Found infinite path length because the digraph is not strongly connected",
     "output_type": "error",
     "traceback": [
      "\u001b[0;31m---------------------------------------------------------------------------\u001b[0m",
      "\u001b[0;31mNetworkXError\u001b[0m                             Traceback (most recent call last)",
      "\u001b[0;32m<ipython-input-100-21ad2298882f>\u001b[0m in \u001b[0;36m<module>\u001b[0;34m()\u001b[0m\n\u001b[0;32m----> 1\u001b[0;31m \u001b[0mnx\u001b[0m\u001b[0;34m.\u001b[0m\u001b[0mradius\u001b[0m\u001b[0;34m(\u001b[0m\u001b[0mDG\u001b[0m\u001b[0;34m)\u001b[0m\u001b[0;34m\u001b[0m\u001b[0m\n\u001b[0m",
      "\u001b[0;32m~/anaconda3/lib/python3.6/site-packages/networkx/algorithms/distance_measures.py\u001b[0m in \u001b[0;36mradius\u001b[0;34m(G, e, usebounds)\u001b[0m\n\u001b[1;32m    326\u001b[0m         \u001b[0;32mreturn\u001b[0m \u001b[0mextrema_bounding\u001b[0m\u001b[0;34m(\u001b[0m\u001b[0mG\u001b[0m\u001b[0;34m,\u001b[0m \u001b[0mcompute\u001b[0m\u001b[0;34m=\u001b[0m\u001b[0;34m\"radius\"\u001b[0m\u001b[0;34m)\u001b[0m\u001b[0;34m\u001b[0m\u001b[0m\n\u001b[1;32m    327\u001b[0m     \u001b[0;32mif\u001b[0m \u001b[0me\u001b[0m \u001b[0;32mis\u001b[0m \u001b[0;32mNone\u001b[0m\u001b[0;34m:\u001b[0m\u001b[0;34m\u001b[0m\u001b[0m\n\u001b[0;32m--> 328\u001b[0;31m         \u001b[0me\u001b[0m \u001b[0;34m=\u001b[0m \u001b[0meccentricity\u001b[0m\u001b[0;34m(\u001b[0m\u001b[0mG\u001b[0m\u001b[0;34m)\u001b[0m\u001b[0;34m\u001b[0m\u001b[0m\n\u001b[0m\u001b[1;32m    329\u001b[0m     \u001b[0;32mreturn\u001b[0m \u001b[0mmin\u001b[0m\u001b[0;34m(\u001b[0m\u001b[0me\u001b[0m\u001b[0;34m.\u001b[0m\u001b[0mvalues\u001b[0m\u001b[0;34m(\u001b[0m\u001b[0;34m)\u001b[0m\u001b[0;34m)\u001b[0m\u001b[0;34m\u001b[0m\u001b[0m\n\u001b[1;32m    330\u001b[0m \u001b[0;34m\u001b[0m\u001b[0m\n",
      "\u001b[0;32m~/anaconda3/lib/python3.6/site-packages/networkx/algorithms/distance_measures.py\u001b[0m in \u001b[0;36meccentricity\u001b[0;34m(G, v, sp)\u001b[0m\n\u001b[1;32m    239\u001b[0m                 msg = ('Found infinite path length because the graph is not'\n\u001b[1;32m    240\u001b[0m                        ' connected')\n\u001b[0;32m--> 241\u001b[0;31m             \u001b[0;32mraise\u001b[0m \u001b[0mnetworkx\u001b[0m\u001b[0;34m.\u001b[0m\u001b[0mNetworkXError\u001b[0m\u001b[0;34m(\u001b[0m\u001b[0mmsg\u001b[0m\u001b[0;34m)\u001b[0m\u001b[0;34m\u001b[0m\u001b[0m\n\u001b[0m\u001b[1;32m    242\u001b[0m \u001b[0;34m\u001b[0m\u001b[0m\n\u001b[1;32m    243\u001b[0m         \u001b[0me\u001b[0m\u001b[0;34m[\u001b[0m\u001b[0mn\u001b[0m\u001b[0;34m]\u001b[0m \u001b[0;34m=\u001b[0m \u001b[0mmax\u001b[0m\u001b[0;34m(\u001b[0m\u001b[0mlength\u001b[0m\u001b[0;34m.\u001b[0m\u001b[0mvalues\u001b[0m\u001b[0;34m(\u001b[0m\u001b[0;34m)\u001b[0m\u001b[0;34m)\u001b[0m\u001b[0;34m\u001b[0m\u001b[0m\n",
      "\u001b[0;31mNetworkXError\u001b[0m: Found infinite path length because the digraph is not strongly connected"
     ]
    }
   ],
   "source": [
    "nx.radius(DG)"
   ]
  },
  {
   "cell_type": "code",
   "execution_count": 101,
   "metadata": {},
   "outputs": [
    {
     "ename": "NetworkXError",
     "evalue": "Found infinite path length because the digraph is not strongly connected",
     "output_type": "error",
     "traceback": [
      "\u001b[0;31m---------------------------------------------------------------------------\u001b[0m",
      "\u001b[0;31mNetworkXError\u001b[0m                             Traceback (most recent call last)",
      "\u001b[0;32m<ipython-input-101-8d14910fad37>\u001b[0m in \u001b[0;36m<module>\u001b[0;34m()\u001b[0m\n\u001b[0;32m----> 1\u001b[0;31m \u001b[0mnx\u001b[0m\u001b[0;34m.\u001b[0m\u001b[0meccentricity\u001b[0m\u001b[0;34m(\u001b[0m\u001b[0mDG\u001b[0m\u001b[0;34m)\u001b[0m\u001b[0;34m\u001b[0m\u001b[0m\n\u001b[0m",
      "\u001b[0;32m~/anaconda3/lib/python3.6/site-packages/networkx/algorithms/distance_measures.py\u001b[0m in \u001b[0;36meccentricity\u001b[0;34m(G, v, sp)\u001b[0m\n\u001b[1;32m    239\u001b[0m                 msg = ('Found infinite path length because the graph is not'\n\u001b[1;32m    240\u001b[0m                        ' connected')\n\u001b[0;32m--> 241\u001b[0;31m             \u001b[0;32mraise\u001b[0m \u001b[0mnetworkx\u001b[0m\u001b[0;34m.\u001b[0m\u001b[0mNetworkXError\u001b[0m\u001b[0;34m(\u001b[0m\u001b[0mmsg\u001b[0m\u001b[0;34m)\u001b[0m\u001b[0;34m\u001b[0m\u001b[0m\n\u001b[0m\u001b[1;32m    242\u001b[0m \u001b[0;34m\u001b[0m\u001b[0m\n\u001b[1;32m    243\u001b[0m         \u001b[0me\u001b[0m\u001b[0;34m[\u001b[0m\u001b[0mn\u001b[0m\u001b[0;34m]\u001b[0m \u001b[0;34m=\u001b[0m \u001b[0mmax\u001b[0m\u001b[0;34m(\u001b[0m\u001b[0mlength\u001b[0m\u001b[0;34m.\u001b[0m\u001b[0mvalues\u001b[0m\u001b[0;34m(\u001b[0m\u001b[0;34m)\u001b[0m\u001b[0;34m)\u001b[0m\u001b[0;34m\u001b[0m\u001b[0m\n",
      "\u001b[0;31mNetworkXError\u001b[0m: Found infinite path length because the digraph is not strongly connected"
     ]
    }
   ],
   "source": [
    "nx.eccentricity(DG)"
   ]
  }
 ],
 "metadata": {
  "kernelspec": {
   "display_name": "Python 3",
   "language": "python",
   "name": "python3"
  },
  "language_info": {
   "codemirror_mode": {
    "name": "ipython",
    "version": 3
   },
   "file_extension": ".py",
   "mimetype": "text/x-python",
   "name": "python",
   "nbconvert_exporter": "python",
   "pygments_lexer": "ipython3",
   "version": "3.6.5"
  }
 },
 "nbformat": 4,
 "nbformat_minor": 2
}
