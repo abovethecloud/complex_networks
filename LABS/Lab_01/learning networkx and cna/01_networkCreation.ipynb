{
 "cells": [
  {
   "cell_type": "code",
   "execution_count": 17,
   "metadata": {},
   "outputs": [],
   "source": [
    "import networkx as nx"
   ]
  },
  {
   "cell_type": "code",
   "execution_count": 18,
   "metadata": {},
   "outputs": [],
   "source": [
    "#help(nx.Graph)"
   ]
  },
  {
   "cell_type": "code",
   "execution_count": 19,
   "metadata": {},
   "outputs": [
    {
     "data": {
      "text/plain": [
       "'Name: \\nType: Graph\\nNumber of nodes: 3\\nNumber of edges: 2\\nAverage degree:   1.3333'"
      ]
     },
     "execution_count": 19,
     "metadata": {},
     "output_type": "execute_result"
    }
   ],
   "source": [
    "G = nx.Graph([(\"A\", \"eggs\"), (\"A\", \"puppetta\")])\n",
    "nx.info(G)"
   ]
  },
  {
   "cell_type": "code",
   "execution_count": 20,
   "metadata": {},
   "outputs": [
    {
     "name": "stdout",
     "output_type": "stream",
     "text": [
      "Name: \n",
      "Type: Graph\n",
      "Number of nodes: 10\n",
      "Number of edges: 7\n",
      "Average degree:   1.4000\n",
      "\n",
      "Nodes: [('A', {}), ('eggs', {}), ('puppetta', {}), ('spinach', {}), ('Hg', {}), ('folates', {}), ('asparagus', {}), ('liver', {}), ('heating oil', {}), ('Se', {})]\n",
      "\n",
      "Edges: [('A', 'eggs', {}), ('A', 'puppetta', {}), ('spinach', 'folates', {}), ('spinach', 'heating oil', {}), ('folates', 'liver', {}), ('folates', 'asparagus', {}), ('liver', 'Se', {})]\n"
     ]
    }
   ],
   "source": [
    "G.add_node(\"spinach\") # Add a single node\n",
    "G.add_node(\"Hg\") # Add a single node by mistake\n",
    "G.add_nodes_from([\"folates\", \"asparagus\", \"liver\"]) # Add a list of nodes\n",
    "G.add_edge(\"spinach\", \"folates\") # Add one edge, both ends exist\n",
    "G.add_edge(\"spinach\", \"heating oil\") # Add one edge by mistake\n",
    "G.add_edge(\"liver\", \"Se\") # Add one edge, one end does not exist\n",
    "G.add_edges_from([(\"folates\", \"liver\"), (\"folates\", \"asparagus\")])\n",
    "print(nx.info(G))\n",
    "print()\n",
    "print(\"Nodes:\", G.node(data = True))\n",
    "print()\n",
    "print(\"Edges:\", G.edges(data = True))"
   ]
  },
  {
   "cell_type": "code",
   "execution_count": 21,
   "metadata": {},
   "outputs": [
    {
     "name": "stdout",
     "output_type": "stream",
     "text": [
      "Nodes: [('eggs', {}), ('puppetta', {}), ('spinach', {}), ('Hg', {}), ('folates', {}), ('asparagus', {}), ('liver', {}), ('heating oil', {}), ('Se', {})]\n",
      "\n",
      "Edges: [('spinach', 'folates', {}), ('spinach', 'heating oil', {}), ('folates', 'liver', {}), ('folates', 'asparagus', {}), ('liver', 'Se', {})]\n"
     ]
    },
    {
     "data": {
      "text/plain": [
       "'Name: \\nType: Graph\\nNumber of nodes: 7\\nNumber of edges: 4\\nAverage degree:   1.1429'"
      ]
     },
     "execution_count": 21,
     "metadata": {},
     "output_type": "execute_result"
    }
   ],
   "source": [
    "G.remove_node(\"A\")\n",
    "\n",
    "print(\"Nodes:\", G.node(data = True))\n",
    "print()\n",
    "print(\"Edges:\", G.edges(data = True))\n",
    "\n",
    "G.remove_node(\"Hg\")\n",
    "G.remove_nodes_from([\"Hg\",]) # Safe to remove a missing node using a list\n",
    "G.remove_edge(\"spinach\", \"heating oil\")\n",
    "G.remove_edges_from([(\"spinach\", \"heating oil\"), ]) # See above\n",
    "G.remove_node(\"heating oil\") # Not removed yet\n",
    "nx.info(G)"
   ]
  },
  {
   "cell_type": "code",
   "execution_count": 28,
   "metadata": {},
   "outputs": [
    {
     "name": "stdout",
     "output_type": "stream",
     "text": [
      "['A', 'eggs', 'puppetta', 'spinach', 'folates', 'asparagus', 'liver', 'Se']\n"
     ]
    }
   ],
   "source": [
    "print(G.node)"
   ]
  },
  {
   "cell_type": "code",
   "execution_count": 29,
   "metadata": {},
   "outputs": [
    {
     "name": "stdout",
     "output_type": "stream",
     "text": [
      "[('A', 'eggs'), ('A', 'puppetta'), ('spinach', 'folates'), ('folates', 'liver'), ('folates', 'asparagus'), ('liver', 'Se')]\n"
     ]
    }
   ],
   "source": [
    "print(G.edges)"
   ]
  },
  {
   "cell_type": "code",
   "execution_count": 30,
   "metadata": {},
   "outputs": [
    {
     "name": "stdout",
     "output_type": "stream",
     "text": [
      "['A', 'eggs', 'puppetta', 'spinach', 'folates', 'asparagus', 'liver', 'Se']\n"
     ]
    }
   ],
   "source": [
    "print(G.nodes())"
   ]
  },
  {
   "cell_type": "code",
   "execution_count": 31,
   "metadata": {},
   "outputs": [
    {
     "name": "stdout",
     "output_type": "stream",
     "text": [
      "[('A', 'eggs'), ('A', 'puppetta'), ('spinach', 'folates'), ('folates', 'liver'), ('folates', 'asparagus'), ('liver', 'Se')]\n"
     ]
    }
   ],
   "source": [
    "print(G.edges())"
   ]
  },
  {
   "cell_type": "code",
   "execution_count": 32,
   "metadata": {},
   "outputs": [
    {
     "name": "stdout",
     "output_type": "stream",
     "text": [
      "[('A', {}), ('eggs', {}), ('puppetta', {}), ('spinach', {}), ('folates', {}), ('asparagus', {}), ('liver', {}), ('Se', {})]\n"
     ]
    }
   ],
   "source": [
    "print(G.nodes(data=True))"
   ]
  },
  {
   "cell_type": "code",
   "execution_count": 33,
   "metadata": {},
   "outputs": [
    {
     "name": "stdout",
     "output_type": "stream",
     "text": [
      "[('A', 'eggs', {}), ('A', 'puppetta', {}), ('spinach', 'folates', {}), ('folates', 'liver', {}), ('folates', 'asparagus', {}), ('liver', 'Se', {})]\n"
     ]
    }
   ],
   "source": [
    "print(G.edges(data=True))"
   ]
  },
  {
   "cell_type": "code",
   "execution_count": 34,
   "metadata": {
    "scrolled": false
   },
   "outputs": [
    {
     "data": {
      "text/plain": [
       "8"
      ]
     },
     "execution_count": 34,
     "metadata": {},
     "output_type": "execute_result"
    }
   ],
   "source": [
    "len(G)"
   ]
  },
  {
   "cell_type": "code",
   "execution_count": 35,
   "metadata": {},
   "outputs": [
    {
     "data": {
      "text/plain": [
       "8"
      ]
     },
     "execution_count": 35,
     "metadata": {},
     "output_type": "execute_result"
    }
   ],
   "source": [
    "len(G.nodes)"
   ]
  },
  {
   "cell_type": "code",
   "execution_count": 36,
   "metadata": {},
   "outputs": [
    {
     "data": {
      "text/plain": [
       "6"
      ]
     },
     "execution_count": 36,
     "metadata": {},
     "output_type": "execute_result"
    }
   ],
   "source": [
    "len(G.edges)"
   ]
  },
  {
   "cell_type": "code",
   "execution_count": null,
   "metadata": {
    "collapsed": true
   },
   "outputs": [],
   "source": []
  }
 ],
 "metadata": {
  "kernelspec": {
   "display_name": "Python 3",
   "language": "python",
   "name": "python3"
  },
  "language_info": {
   "codemirror_mode": {
    "name": "ipython",
    "version": 3
   },
   "file_extension": ".py",
   "mimetype": "text/x-python",
   "name": "python",
   "nbconvert_exporter": "python",
   "pygments_lexer": "ipython3",
   "version": "3.6.5"
  }
 },
 "nbformat": 4,
 "nbformat_minor": 2
}
