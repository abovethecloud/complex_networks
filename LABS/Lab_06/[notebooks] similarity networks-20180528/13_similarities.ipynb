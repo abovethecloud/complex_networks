{
 "cells": [
  {
   "cell_type": "markdown",
   "metadata": {},
   "source": [
    "# Similarities\n",
    "\n",
    "All similarities are numeric"
   ]
  },
  {
   "cell_type": "code",
   "execution_count": 1,
   "metadata": {
    "collapsed": true
   },
   "outputs": [],
   "source": [
    "import numpy as np\n",
    "import pandas as pd\n",
    "import scipy.spatial.distance as dist\n",
    "import scipy.stats as stats\n",
    "import matplotlib.pyplot as plt\n",
    "import dzcnapy_plotlib as dzcnapy"
   ]
  },
  {
   "cell_type": "markdown",
   "metadata": {},
   "source": [
    "## Hamming distance"
   ]
  },
  {
   "cell_type": "code",
   "execution_count": 2,
   "metadata": {
    "collapsed": true
   },
   "outputs": [],
   "source": [
    "data = {\n",
    "    \"potato\" : {\"shape\": \"round\", \"color\": \"yellowish\", \"starchy\": True},\n",
    "    \"carrot\" : {\"shape\": \"conic\", \"color\": \"orange\", \"starchy\": False},\n",
    "    \"corn\" : {\"shape\": \"conic\", \"color\": \"yellowish\", \"starchy\": True},\n",
    "    \"turnip\" : {\"shape\": \"round\", \"color\": \"yellowish\", \"starchy\": False}\n",
    "    }"
   ]
  },
  {
   "cell_type": "code",
   "execution_count": 3,
   "metadata": {},
   "outputs": [
    {
     "data": {
      "text/plain": [
       "{'carrot': {'color': 'orange', 'shape': 'conic', 'starchy': False},\n",
       " 'corn': {'color': 'yellowish', 'shape': 'conic', 'starchy': True},\n",
       " 'potato': {'color': 'yellowish', 'shape': 'round', 'starchy': True},\n",
       " 'turnip': {'color': 'yellowish', 'shape': 'round', 'starchy': False}}"
      ]
     },
     "execution_count": 3,
     "metadata": {},
     "output_type": "execute_result"
    }
   ],
   "source": [
    "data"
   ]
  },
  {
   "cell_type": "code",
   "execution_count": 4,
   "metadata": {
    "collapsed": true
   },
   "outputs": [],
   "source": [
    "atts = set.union(*[set(x.keys()) for x in data.values()])"
   ]
  },
  {
   "cell_type": "code",
   "execution_count": 5,
   "metadata": {},
   "outputs": [
    {
     "data": {
      "text/plain": [
       "{'color', 'shape', 'starchy'}"
      ]
     },
     "execution_count": 5,
     "metadata": {},
     "output_type": "execute_result"
    }
   ],
   "source": [
    "atts"
   ]
  },
  {
   "cell_type": "code",
   "execution_count": 6,
   "metadata": {
    "collapsed": true
   },
   "outputs": [],
   "source": [
    "sim_2dlist = [[sum(data[v1][att] == data[v2][att] for att in atts) \\\n",
    "                   / len(atts) for v1 in data] for v2 in data]"
   ]
  },
  {
   "cell_type": "code",
   "execution_count": 7,
   "metadata": {},
   "outputs": [
    {
     "data": {
      "text/plain": [
       "[[1.0, 0.0, 0.6666666666666666, 0.6666666666666666],\n",
       " [0.0, 1.0, 0.3333333333333333, 0.3333333333333333],\n",
       " [0.6666666666666666, 0.3333333333333333, 1.0, 0.3333333333333333],\n",
       " [0.6666666666666666, 0.3333333333333333, 0.3333333333333333, 1.0]]"
      ]
     },
     "execution_count": 7,
     "metadata": {},
     "output_type": "execute_result"
    }
   ],
   "source": [
    "sim_2dlist"
   ]
  },
  {
   "cell_type": "code",
   "execution_count": 8,
   "metadata": {
    "collapsed": true
   },
   "outputs": [],
   "source": [
    "sim_2dlist = [[1 - dist.hamming(list(data[v1].values()),\n",
    "                                list(data[v2].values())) for v1 in data]\n",
    "              for v2 in data]"
   ]
  },
  {
   "cell_type": "code",
   "execution_count": 9,
   "metadata": {},
   "outputs": [
    {
     "data": {
      "text/plain": [
       "[[1.0, 0.0, 0.66666666666666674, 0.66666666666666674],\n",
       " [0.0, 1.0, 0.33333333333333337, 0.33333333333333337],\n",
       " [0.66666666666666674, 0.33333333333333337, 1.0, 0.33333333333333337],\n",
       " [0.66666666666666674, 0.33333333333333337, 0.33333333333333337, 1.0]]"
      ]
     },
     "execution_count": 9,
     "metadata": {},
     "output_type": "execute_result"
    }
   ],
   "source": [
    "sim_2dlist"
   ]
  },
  {
   "cell_type": "code",
   "execution_count": 10,
   "metadata": {
    "collapsed": true
   },
   "outputs": [],
   "source": [
    "sim_array = np.array(sim_2dlist)"
   ]
  },
  {
   "cell_type": "code",
   "execution_count": 11,
   "metadata": {},
   "outputs": [
    {
     "data": {
      "text/plain": [
       "array([[ 1.        ,  0.        ,  0.66666667,  0.66666667],\n",
       "       [ 0.        ,  1.        ,  0.33333333,  0.33333333],\n",
       "       [ 0.66666667,  0.33333333,  1.        ,  0.33333333],\n",
       "       [ 0.66666667,  0.33333333,  0.33333333,  1.        ]])"
      ]
     },
     "execution_count": 11,
     "metadata": {},
     "output_type": "execute_result"
    }
   ],
   "source": [
    "sim_array"
   ]
  },
  {
   "cell_type": "code",
   "execution_count": 12,
   "metadata": {
    "collapsed": true
   },
   "outputs": [],
   "source": [
    "sim_dataframe = pd.DataFrame(sim_array, columns=data, index=data)"
   ]
  },
  {
   "cell_type": "code",
   "execution_count": 13,
   "metadata": {},
   "outputs": [
    {
     "data": {
      "text/html": [
       "<div>\n",
       "<style>\n",
       "    .dataframe thead tr:only-child th {\n",
       "        text-align: right;\n",
       "    }\n",
       "\n",
       "    .dataframe thead th {\n",
       "        text-align: left;\n",
       "    }\n",
       "\n",
       "    .dataframe tbody tr th {\n",
       "        vertical-align: top;\n",
       "    }\n",
       "</style>\n",
       "<table border=\"1\" class=\"dataframe\">\n",
       "  <thead>\n",
       "    <tr style=\"text-align: right;\">\n",
       "      <th></th>\n",
       "      <th>potato</th>\n",
       "      <th>carrot</th>\n",
       "      <th>corn</th>\n",
       "      <th>turnip</th>\n",
       "    </tr>\n",
       "  </thead>\n",
       "  <tbody>\n",
       "    <tr>\n",
       "      <th>potato</th>\n",
       "      <td>1.000000</td>\n",
       "      <td>0.000000</td>\n",
       "      <td>0.666667</td>\n",
       "      <td>0.666667</td>\n",
       "    </tr>\n",
       "    <tr>\n",
       "      <th>carrot</th>\n",
       "      <td>0.000000</td>\n",
       "      <td>1.000000</td>\n",
       "      <td>0.333333</td>\n",
       "      <td>0.333333</td>\n",
       "    </tr>\n",
       "    <tr>\n",
       "      <th>corn</th>\n",
       "      <td>0.666667</td>\n",
       "      <td>0.333333</td>\n",
       "      <td>1.000000</td>\n",
       "      <td>0.333333</td>\n",
       "    </tr>\n",
       "    <tr>\n",
       "      <th>turnip</th>\n",
       "      <td>0.666667</td>\n",
       "      <td>0.333333</td>\n",
       "      <td>0.333333</td>\n",
       "      <td>1.000000</td>\n",
       "    </tr>\n",
       "  </tbody>\n",
       "</table>\n",
       "</div>"
      ],
      "text/plain": [
       "          potato    carrot      corn    turnip\n",
       "potato  1.000000  0.000000  0.666667  0.666667\n",
       "carrot  0.000000  1.000000  0.333333  0.333333\n",
       "corn    0.666667  0.333333  1.000000  0.333333\n",
       "turnip  0.666667  0.333333  0.333333  1.000000"
      ]
     },
     "execution_count": 13,
     "metadata": {},
     "output_type": "execute_result"
    }
   ],
   "source": [
    "sim_dataframe"
   ]
  },
  {
   "cell_type": "markdown",
   "metadata": {},
   "source": [
    "## Manhattan distance\n"
   ]
  },
  {
   "cell_type": "code",
   "execution_count": 14,
   "metadata": {
    "collapsed": true
   },
   "outputs": [],
   "source": [
    "hwdata = [[65.78, 112.99],\n",
    "          [71.52, 136.49],\n",
    "          [69.40, 153.03],\n",
    "          [68.22, 142.34],\n",
    "          [67.79, 144.30]]"
   ]
  },
  {
   "cell_type": "code",
   "execution_count": 15,
   "metadata": {},
   "outputs": [
    {
     "data": {
      "text/plain": [
       "[[65.78, 112.99],\n",
       " [71.52, 136.49],\n",
       " [69.4, 153.03],\n",
       " [68.22, 142.34],\n",
       " [67.79, 144.3]]"
      ]
     },
     "execution_count": 15,
     "metadata": {},
     "output_type": "execute_result"
    }
   ],
   "source": [
    "hwdata"
   ]
  },
  {
   "cell_type": "code",
   "execution_count": 16,
   "metadata": {
    "collapsed": true
   },
   "outputs": [],
   "source": [
    "hw_array = np.array(hwdata)"
   ]
  },
  {
   "cell_type": "code",
   "execution_count": 17,
   "metadata": {},
   "outputs": [
    {
     "data": {
      "text/plain": [
       "array([[  65.78,  112.99],\n",
       "       [  71.52,  136.49],\n",
       "       [  69.4 ,  153.03],\n",
       "       [  68.22,  142.34],\n",
       "       [  67.79,  144.3 ]])"
      ]
     },
     "execution_count": 17,
     "metadata": {},
     "output_type": "execute_result"
    }
   ],
   "source": [
    "hw_array"
   ]
  },
  {
   "cell_type": "code",
   "execution_count": 18,
   "metadata": {
    "collapsed": true
   },
   "outputs": [],
   "source": [
    "five_guys = np.array([[dist.cityblock(x, y) for x in hw_array]\n",
    "                      for y in hw_array])"
   ]
  },
  {
   "cell_type": "code",
   "execution_count": 19,
   "metadata": {},
   "outputs": [
    {
     "data": {
      "text/plain": [
       "array([[  0.  ,  29.24,  43.66,  31.79,  33.32],\n",
       "       [ 29.24,   0.  ,  18.66,   9.15,  11.54],\n",
       "       [ 43.66,  18.66,   0.  ,  11.87,  10.34],\n",
       "       [ 31.79,   9.15,  11.87,   0.  ,   2.39],\n",
       "       [ 33.32,  11.54,  10.34,   2.39,   0.  ]])"
      ]
     },
     "execution_count": 19,
     "metadata": {},
     "output_type": "execute_result"
    }
   ],
   "source": [
    "five_guys"
   ]
  },
  {
   "cell_type": "markdown",
   "metadata": {},
   "source": [
    "## Normalized"
   ]
  },
  {
   "cell_type": "code",
   "execution_count": 21,
   "metadata": {
    "collapsed": true
   },
   "outputs": [],
   "source": [
    "hw_range = hw_array.max(axis=0) - hw_array.min(axis=0)"
   ]
  },
  {
   "cell_type": "code",
   "execution_count": 22,
   "metadata": {},
   "outputs": [
    {
     "data": {
      "text/plain": [
       "array([  5.74,  40.04])"
      ]
     },
     "execution_count": 22,
     "metadata": {},
     "output_type": "execute_result"
    }
   ],
   "source": [
    "hw_range"
   ]
  },
  {
   "cell_type": "code",
   "execution_count": 23,
   "metadata": {
    "collapsed": true
   },
   "outputs": [],
   "source": [
    "hw_norm = (hw_array - hw_array.min(axis=0)) / hw_range"
   ]
  },
  {
   "cell_type": "code",
   "execution_count": 24,
   "metadata": {},
   "outputs": [
    {
     "data": {
      "text/plain": [
       "array([[ 0.        ,  0.        ],\n",
       "       [ 1.        ,  0.58691309],\n",
       "       [ 0.63066202,  1.        ],\n",
       "       [ 0.42508711,  0.73301698],\n",
       "       [ 0.35017422,  0.78196803]])"
      ]
     },
     "execution_count": 24,
     "metadata": {},
     "output_type": "execute_result"
    }
   ],
   "source": [
    "hw_norm"
   ]
  },
  {
   "cell_type": "code",
   "execution_count": 27,
   "metadata": {
    "collapsed": true
   },
   "outputs": [],
   "source": [
    "five_guys_norm = np.array([[dist.cityblock(x, y) for x in hw_norm]\n",
    "                           for y in hw_norm])"
   ]
  },
  {
   "cell_type": "code",
   "execution_count": 28,
   "metadata": {},
   "outputs": [
    {
     "data": {
      "text/plain": [
       "array([[ 0.        ,  1.58691309,  1.63066202,  1.15810409,  1.13214225],\n",
       "       [ 1.58691309,  0.        ,  0.78242489,  0.72101679,  0.84488073],\n",
       "       [ 1.63066202,  0.78242489,  0.        ,  0.47255793,  0.49851977],\n",
       "       [ 1.15810409,  0.72101679,  0.47255793,  0.        ,  0.12386394],\n",
       "       [ 1.13214225,  0.84488073,  0.49851977,  0.12386394,  0.        ]])"
      ]
     },
     "execution_count": 28,
     "metadata": {},
     "output_type": "execute_result"
    }
   ],
   "source": [
    "five_guys_norm"
   ]
  },
  {
   "cell_type": "markdown",
   "metadata": {},
   "source": [
    "## Cosine distance\n",
    "Hrs per year @ [7,12) mph\n",
    "https://www.meteoblue.com/en/weather/forecast/modelclimate/"
   ]
  },
  {
   "cell_type": "code",
   "execution_count": 29,
   "metadata": {
    "collapsed": true
   },
   "outputs": [],
   "source": [
    "winds = {\n",
    "    \"Anchorage\": (58,60,132,552,291,180,88,62,58,36,20,4,3,16,119,81),\n",
    "    \"Boston\": (93,104,106,101,80,82,82,110,216,292,281,205,246,204,159,86),\n",
    "    \"Chicago\": (115,195,122,109,86,120,157,210,273,196,139,101,113,106,\n",
    "                107,115),\n",
    "    \"San Francisco\": (35,67,156,616,1208,894,268,67,2,0,0,0,2,9,22,35)\n",
    "    }"
   ]
  },
  {
   "cell_type": "code",
   "execution_count": 30,
   "metadata": {},
   "outputs": [
    {
     "data": {
      "text/plain": [
       "{'Anchorage': (58,\n",
       "  60,\n",
       "  132,\n",
       "  552,\n",
       "  291,\n",
       "  180,\n",
       "  88,\n",
       "  62,\n",
       "  58,\n",
       "  36,\n",
       "  20,\n",
       "  4,\n",
       "  3,\n",
       "  16,\n",
       "  119,\n",
       "  81),\n",
       " 'Boston': (93,\n",
       "  104,\n",
       "  106,\n",
       "  101,\n",
       "  80,\n",
       "  82,\n",
       "  82,\n",
       "  110,\n",
       "  216,\n",
       "  292,\n",
       "  281,\n",
       "  205,\n",
       "  246,\n",
       "  204,\n",
       "  159,\n",
       "  86),\n",
       " 'Chicago': (115,\n",
       "  195,\n",
       "  122,\n",
       "  109,\n",
       "  86,\n",
       "  120,\n",
       "  157,\n",
       "  210,\n",
       "  273,\n",
       "  196,\n",
       "  139,\n",
       "  101,\n",
       "  113,\n",
       "  106,\n",
       "  107,\n",
       "  115),\n",
       " 'San Francisco': (35,\n",
       "  67,\n",
       "  156,\n",
       "  616,\n",
       "  1208,\n",
       "  894,\n",
       "  268,\n",
       "  67,\n",
       "  2,\n",
       "  0,\n",
       "  0,\n",
       "  0,\n",
       "  2,\n",
       "  9,\n",
       "  22,\n",
       "  35)}"
      ]
     },
     "execution_count": 30,
     "metadata": {},
     "output_type": "execute_result"
    }
   ],
   "source": [
    "winds"
   ]
  },
  {
   "cell_type": "code",
   "execution_count": 31,
   "metadata": {},
   "outputs": [
    {
     "data": {
      "image/png": "[encoded data removed]",
      "text/plain": [
       "<matplotlib.figure.Figure at 0x1a12c44d30>"
      ]
     },
     "metadata": {},
     "output_type": "display_data"
    }
   ],
   "source": [
    "# Draw the wind roses\n",
    "angles = np.linspace(0, 2 * np.pi, 16)\n",
    "ax = plt.subplot(111, polar=True)\n",
    "for name, wind in winds.items():\n",
    "    ax.plot(angles, wind, \"-o\", label=name)\n",
    "ax.set_theta_zero_location(\"N\")\n",
    "ax.set_theta_direction(-1)\n",
    "plt.legend(loc=2)\n",
    "dzcnapy.plot(\"windroses\")"
   ]
  },
  {
   "cell_type": "code",
   "execution_count": 32,
   "metadata": {
    "collapsed": true
   },
   "outputs": [],
   "source": [
    "wind_cities_cosine = pd.DataFrame({y: [1 - dist.cosine(winds[x], winds[y]) \n",
    "                                       for x in winds] for y in winds},\n",
    "                                  index=winds.keys())"
   ]
  },
  {
   "cell_type": "code",
   "execution_count": 33,
   "metadata": {},
   "outputs": [
    {
     "data": {
      "text/html": [
       "<div>\n",
       "<style>\n",
       "    .dataframe thead tr:only-child th {\n",
       "        text-align: right;\n",
       "    }\n",
       "\n",
       "    .dataframe thead th {\n",
       "        text-align: left;\n",
       "    }\n",
       "\n",
       "    .dataframe tbody tr th {\n",
       "        vertical-align: top;\n",
       "    }\n",
       "</style>\n",
       "<table border=\"1\" class=\"dataframe\">\n",
       "  <thead>\n",
       "    <tr style=\"text-align: right;\">\n",
       "      <th></th>\n",
       "      <th>Anchorage</th>\n",
       "      <th>Boston</th>\n",
       "      <th>Chicago</th>\n",
       "      <th>San Francisco</th>\n",
       "    </tr>\n",
       "  </thead>\n",
       "  <tbody>\n",
       "    <tr>\n",
       "      <th>Anchorage</th>\n",
       "      <td>1.000000</td>\n",
       "      <td>0.408479</td>\n",
       "      <td>0.523189</td>\n",
       "      <td>0.791712</td>\n",
       "    </tr>\n",
       "    <tr>\n",
       "      <th>Boston</th>\n",
       "      <td>0.408479</td>\n",
       "      <td>1.000000</td>\n",
       "      <td>0.884222</td>\n",
       "      <td>0.264567</td>\n",
       "    </tr>\n",
       "    <tr>\n",
       "      <th>Chicago</th>\n",
       "      <td>0.523189</td>\n",
       "      <td>0.884222</td>\n",
       "      <td>1.000000</td>\n",
       "      <td>0.381017</td>\n",
       "    </tr>\n",
       "    <tr>\n",
       "      <th>San Francisco</th>\n",
       "      <td>0.791712</td>\n",
       "      <td>0.264567</td>\n",
       "      <td>0.381017</td>\n",
       "      <td>1.000000</td>\n",
       "    </tr>\n",
       "  </tbody>\n",
       "</table>\n",
       "</div>"
      ],
      "text/plain": [
       "               Anchorage    Boston   Chicago  San Francisco\n",
       "Anchorage       1.000000  0.408479  0.523189       0.791712\n",
       "Boston          0.408479  1.000000  0.884222       0.264567\n",
       "Chicago         0.523189  0.884222  1.000000       0.381017\n",
       "San Francisco   0.791712  0.264567  0.381017       1.000000"
      ]
     },
     "execution_count": 33,
     "metadata": {},
     "output_type": "execute_result"
    }
   ],
   "source": [
    "wind_cities_cosine"
   ]
  },
  {
   "cell_type": "markdown",
   "metadata": {},
   "source": [
    "## Pearson correlation"
   ]
  },
  {
   "cell_type": "code",
   "execution_count": 34,
   "metadata": {
    "collapsed": true
   },
   "outputs": [],
   "source": [
    "wind_cities_pearson = pd.DataFrame({y: [stats.pearsonr(winds[x], \n",
    "                                                       winds[y])[0] \n",
    "                                        for x in winds] for y in winds}, \n",
    "                                   index=winds.keys())"
   ]
  },
  {
   "cell_type": "code",
   "execution_count": 35,
   "metadata": {},
   "outputs": [
    {
     "data": {
      "text/html": [
       "<div>\n",
       "<style>\n",
       "    .dataframe thead tr:only-child th {\n",
       "        text-align: right;\n",
       "    }\n",
       "\n",
       "    .dataframe thead th {\n",
       "        text-align: left;\n",
       "    }\n",
       "\n",
       "    .dataframe tbody tr th {\n",
       "        vertical-align: top;\n",
       "    }\n",
       "</style>\n",
       "<table border=\"1\" class=\"dataframe\">\n",
       "  <thead>\n",
       "    <tr style=\"text-align: right;\">\n",
       "      <th></th>\n",
       "      <th>Anchorage</th>\n",
       "      <th>Boston</th>\n",
       "      <th>Chicago</th>\n",
       "      <th>San Francisco</th>\n",
       "    </tr>\n",
       "  </thead>\n",
       "  <tbody>\n",
       "    <tr>\n",
       "      <th>Anchorage</th>\n",
       "      <td>1.000000</td>\n",
       "      <td>-0.482339</td>\n",
       "      <td>-0.288015</td>\n",
       "      <td>0.704106</td>\n",
       "    </tr>\n",
       "    <tr>\n",
       "      <th>Boston</th>\n",
       "      <td>-0.482339</td>\n",
       "      <td>1.000000</td>\n",
       "      <td>0.234174</td>\n",
       "      <td>-0.524232</td>\n",
       "    </tr>\n",
       "    <tr>\n",
       "      <th>Chicago</th>\n",
       "      <td>-0.288015</td>\n",
       "      <td>0.234174</td>\n",
       "      <td>1.000000</td>\n",
       "      <td>-0.352705</td>\n",
       "    </tr>\n",
       "    <tr>\n",
       "      <th>San Francisco</th>\n",
       "      <td>0.704106</td>\n",
       "      <td>-0.524232</td>\n",
       "      <td>-0.352705</td>\n",
       "      <td>1.000000</td>\n",
       "    </tr>\n",
       "  </tbody>\n",
       "</table>\n",
       "</div>"
      ],
      "text/plain": [
       "               Anchorage    Boston   Chicago  San Francisco\n",
       "Anchorage       1.000000 -0.482339 -0.288015       0.704106\n",
       "Boston         -0.482339  1.000000  0.234174      -0.524232\n",
       "Chicago        -0.288015  0.234174  1.000000      -0.352705\n",
       "San Francisco   0.704106 -0.524232 -0.352705       1.000000"
      ]
     },
     "execution_count": 35,
     "metadata": {},
     "output_type": "execute_result"
    }
   ],
   "source": [
    "wind_cities_pearson"
   ]
  },
  {
   "cell_type": "code",
   "execution_count": 36,
   "metadata": {},
   "outputs": [
    {
     "data": {
      "text/html": [
       "<div>\n",
       "<style>\n",
       "    .dataframe thead tr:only-child th {\n",
       "        text-align: right;\n",
       "    }\n",
       "\n",
       "    .dataframe thead th {\n",
       "        text-align: left;\n",
       "    }\n",
       "\n",
       "    .dataframe tbody tr th {\n",
       "        vertical-align: top;\n",
       "    }\n",
       "</style>\n",
       "<table border=\"1\" class=\"dataframe\">\n",
       "  <thead>\n",
       "    <tr style=\"text-align: right;\">\n",
       "      <th></th>\n",
       "      <th>Anchorage</th>\n",
       "      <th>Boston</th>\n",
       "      <th>Chicago</th>\n",
       "      <th>San Francisco</th>\n",
       "    </tr>\n",
       "  </thead>\n",
       "  <tbody>\n",
       "    <tr>\n",
       "      <th>Anchorage</th>\n",
       "      <td>1.000000</td>\n",
       "      <td>-0.482339</td>\n",
       "      <td>-0.288015</td>\n",
       "      <td>0.704106</td>\n",
       "    </tr>\n",
       "    <tr>\n",
       "      <th>Boston</th>\n",
       "      <td>-0.482339</td>\n",
       "      <td>1.000000</td>\n",
       "      <td>0.234174</td>\n",
       "      <td>-0.524232</td>\n",
       "    </tr>\n",
       "    <tr>\n",
       "      <th>Chicago</th>\n",
       "      <td>-0.288015</td>\n",
       "      <td>0.234174</td>\n",
       "      <td>1.000000</td>\n",
       "      <td>-0.352705</td>\n",
       "    </tr>\n",
       "    <tr>\n",
       "      <th>San Francisco</th>\n",
       "      <td>0.704106</td>\n",
       "      <td>-0.524232</td>\n",
       "      <td>-0.352705</td>\n",
       "      <td>1.000000</td>\n",
       "    </tr>\n",
       "  </tbody>\n",
       "</table>\n",
       "</div>"
      ],
      "text/plain": [
       "               Anchorage    Boston   Chicago  San Francisco\n",
       "Anchorage       1.000000 -0.482339 -0.288015       0.704106\n",
       "Boston         -0.482339  1.000000  0.234174      -0.524232\n",
       "Chicago        -0.288015  0.234174  1.000000      -0.352705\n",
       "San Francisco   0.704106 -0.524232 -0.352705       1.000000"
      ]
     },
     "execution_count": 36,
     "metadata": {},
     "output_type": "execute_result"
    }
   ],
   "source": [
    "pd.DataFrame(winds).corr()"
   ]
  },
  {
   "cell_type": "code",
   "execution_count": null,
   "metadata": {
    "collapsed": true
   },
   "outputs": [],
   "source": []
  }
 ],
 "metadata": {
  "kernelspec": {
   "display_name": "Python 3",
   "language": "python",
   "name": "python3"
  },
  "language_info": {
   "codemirror_mode": {
    "name": "ipython",
    "version": 3
   },
   "file_extension": ".py",
   "mimetype": "text/x-python",
   "name": "python",
   "nbconvert_exporter": "python",
   "pygments_lexer": "ipython3",
   "version": "3.6.3"
  }
 },
 "nbformat": 4,
 "nbformat_minor": 2
}
