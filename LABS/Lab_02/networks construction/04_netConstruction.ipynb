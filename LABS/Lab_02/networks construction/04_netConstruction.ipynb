{
 "cells": [
  {
   "cell_type": "code",
   "execution_count": 44,
   "metadata": {
    "collapsed": true
   },
   "outputs": [],
   "source": [
    "import networkx as nx"
   ]
  },
  {
   "cell_type": "code",
   "execution_count": 45,
   "metadata": {
    "collapsed": true
   },
   "outputs": [],
   "source": [
    "\"\"\"\n",
    "Abe Lincoln's life in a matriz\n",
    "\"\"\"\n",
    "A = [[0,  1, 0, 0, 0],\n",
    "     [0,  0, 1, 0, 0],\n",
    "     [0,  0, 0, 1, 0],\n",
    "     [0,  0, 0, 0, 1],\n",
    "     [.1, 0, 0, 0, 0]]"
   ]
  },
  {
   "cell_type": "code",
   "execution_count": 67,
   "metadata": {},
   "outputs": [
    {
     "name": "stdout",
     "output_type": "stream",
     "text": [
      "[(0, 1, {}), (1, 2, {}), (2, 3, {}), (3, 4, {}), (4, 0, {})]\n"
     ]
    }
   ],
   "source": [
    "\"\"\"\n",
    "Constructing a directed unweighted graph with pure Python\n",
    "\"\"\"\n",
    "from itertools import chain # for flattening the list of edges\n",
    "G = nx.DiGraph()\n",
    "edges = chain.from_iterable([(i,j) \n",
    "                             for j, column in enumerate(row)\n",
    "                             if A[i][j]] \n",
    "                            for i, row in enumerate(A))\n",
    "G.add_edges_from(edges)\n",
    "print(G.edges(data=True))"
   ]
  },
  {
   "cell_type": "code",
   "execution_count": 68,
   "metadata": {},
   "outputs": [
    {
     "name": "stdout",
     "output_type": "stream",
     "text": [
      "[(0, 1, {'weight': 1}), (1, 2, {'weight': 1}), (2, 3, {'weight': 1}), (3, 4, {'weight': 1}), (4, 0, {'weight': 0.1})]\n"
     ]
    }
   ],
   "source": [
    "\"\"\"\n",
    "Constructing a directed WEIGHTED graph with pure Python\n",
    "\"\"\"\n",
    "from itertools import chain # for flattening the list of edges\n",
    "G = nx.DiGraph()\n",
    "edges = chain.from_iterable([(i,j,{\"weight\":A[i][j]})\n",
    "                             for j, column in enumerate(row)\n",
    "                             if A[i][j]] \n",
    "                            for i, row in enumerate(A))\n",
    "G.add_edges_from(edges)\n",
    "print(G.edges(data=True))"
   ]
  },
  {
   "cell_type": "code",
   "execution_count": 69,
   "metadata": {},
   "outputs": [
    {
     "name": "stdout",
     "output_type": "stream",
     "text": [
      "[(0, 1, {'weight': 1.0}), (1, 2, {'weight': 1.0}), (2, 3, {'weight': 1.0}), (3, 4, {'weight': 1.0}), (4, 0, {'weight': 0.1})]\n"
     ]
    }
   ],
   "source": [
    "\"\"\"\n",
    "Constructing a directed weighted graph with NumPy\n",
    "\"\"\"\n",
    "import numpy as np\n",
    "A_mtx = np.matrix(A)\n",
    "G = nx.from_numpy_matrix(A_mtx, create_using=nx.DiGraph())\n",
    "print(G.edges(data=True))"
   ]
  },
  {
   "cell_type": "code",
   "execution_count": 70,
   "metadata": {},
   "outputs": [
    {
     "name": "stdout",
     "output_type": "stream",
     "text": [
      "[[ 0.   1.   0.   0.   0. ]\n",
      " [ 0.   0.   1.   0.   0. ]\n",
      " [ 0.   0.   0.   1.   0. ]\n",
      " [ 0.   0.   0.   0.   1. ]\n",
      " [ 0.1  0.   0.   0.   0. ]]\n"
     ]
    }
   ],
   "source": [
    "# from graph to adjacency matrix: reverse transformation producing a numPy 2d matrix\n",
    "B_mtx = nx.to_numpy_matrix(G)\n",
    "print(B_mtx)"
   ]
  },
  {
   "cell_type": "code",
   "execution_count": 71,
   "metadata": {},
   "outputs": [
    {
     "name": "stdout",
     "output_type": "stream",
     "text": [
      "[[ 0.   1.   0.   0.   0. ]\n",
      " [ 0.   0.   1.   0.   0. ]\n",
      " [ 0.   0.   0.   1.   0. ]\n",
      " [ 0.   0.   0.   0.   1. ]\n",
      " [ 0.1  0.   0.   0.   0. ]]\n"
     ]
    }
   ],
   "source": [
    "print(A_mtx) # checking if some information has been lost in the transformation"
   ]
  },
  {
   "cell_type": "code",
   "execution_count": 72,
   "metadata": {},
   "outputs": [
    {
     "name": "stdout",
     "output_type": "stream",
     "text": [
      "[[0, 1, 0, 0, 0], [0, 0, 1, 0, 0], [0, 0, 0, 1, 0], [0, 0, 0, 0, 1], [0.1, 0, 0, 0, 0]]\n"
     ]
    }
   ],
   "source": [
    "print(A) # remember that original matrix was a list of list..."
   ]
  },
  {
   "cell_type": "code",
   "execution_count": 73,
   "metadata": {},
   "outputs": [
    {
     "name": "stdout",
     "output_type": "stream",
     "text": [
      "[[0.0, 1.0, 0.0, 0.0, 0.0], [0.0, 0.0, 1.0, 0.0, 0.0], [0.0, 0.0, 0.0, 1.0, 0.0], [0.0, 0.0, 0.0, 0.0, 1.0], [0.1, 0.0, 0.0, 0.0, 0.0]]\n"
     ]
    }
   ],
   "source": [
    "B_lst = B_mtx.tolist() # converting a matrix to a list of lists\n",
    "print(B_lst)"
   ]
  },
  {
   "cell_type": "code",
   "execution_count": 74,
   "metadata": {},
   "outputs": [
    {
     "name": "stdout",
     "output_type": "stream",
     "text": [
      "              Born  Married  Elected Rep  Elected Pres  Died\n",
      "Born           0.0      1.0          0.0           0.0   0.0\n",
      "Married        0.0      0.0          1.0           0.0   0.0\n",
      "Elected Rep    0.0      0.0          0.0           1.0   0.0\n",
      "Elected Pres   0.0      0.0          0.0           0.0   1.0\n",
      "Died           0.1      0.0          0.0           0.0   0.0\n",
      "<class 'pandas.core.frame.DataFrame'>\n"
     ]
    }
   ],
   "source": [
    "\"\"\"\n",
    "Do not understimate the power of Pandas and DataFrame\n",
    "\"\"\"\n",
    "labels = \"Born\", \"Married\", \"Elected Rep\", \"Elected Pres\", \"Died\"\n",
    "nx.relabel_nodes(G,dict(enumerate(labels)), copy=False)\n",
    "df = nx.to_pandas_dataframe(G) \n",
    "print(df)\n",
    "print(type(df))"
   ]
  },
  {
   "cell_type": "code",
   "execution_count": 75,
   "metadata": {},
   "outputs": [
    {
     "name": "stdout",
     "output_type": "stream",
     "text": [
      "           from            to  weight\n",
      "0          Died          Born     0.1\n",
      "1   Elected Rep  Elected Pres     1.0\n",
      "2       Married   Elected Rep     1.0\n",
      "3          Born       Married     1.0\n",
      "4  Elected Pres          Died     1.0\n"
     ]
    }
   ],
   "source": [
    "\"\"\"\n",
    "Constructing a directed weighted graph from a DataFrame with Pandas\n",
    "\"\"\"\n",
    "import pandas as pd\n",
    "df = pd.DataFrame({\n",
    "    \"from\": {0: \"Died\", 1: \"Elected Rep\", 2: \"Married\", 3: \"Born\", 4: \"Elected Pres\"},\n",
    "    \"to\": {0: \"Born\", 1: \"Elected Pres\", 2: \"Elected Rep\", 3: \"Married\", 4: \"Died\"},\n",
    "    \"weight\": {0: 0.1, 1: 1, 2: 1, 3: 1, 4: 1},\n",
    "})\n",
    "print(df)"
   ]
  },
  {
   "cell_type": "code",
   "execution_count": 76,
   "metadata": {},
   "outputs": [
    {
     "name": "stdout",
     "output_type": "stream",
     "text": [
      "[('Died', 'Born', {'weight': 0.1}), ('Born', 'Married', {'weight': 1.0}), ('Elected Rep', 'Elected Pres', {'weight': 1.0}), ('Elected Pres', 'Died', {'weight': 1.0}), ('Married', 'Elected Rep', {'weight': 1.0})]\n"
     ]
    }
   ],
   "source": [
    "G = nx.from_pandas_dataframe(df,\"from\",\"to\", edge_attr=[\"weight\"], create_using=nx.DiGraph())\n",
    "print(G.edges(data=True))"
   ]
  },
  {
   "cell_type": "code",
   "execution_count": 77,
   "metadata": {},
   "outputs": [
    {
     "name": "stdout",
     "output_type": "stream",
     "text": [
      "[('Died', {'date': 1865}), ('Born', {'date': 1809}), ('Elected Rep', {'date': 1847}), ('Elected Pres', {'date': 1861}), ('Married', {'date': 1842})]\n"
     ]
    }
   ],
   "source": [
    "# we can add other attributes to nodes. \n",
    "events = {\"Died\": 1865, \"Born\": 1809, \"Elected Rep\": 1847, \"Elected Pres\": 1861, \"Married\": 1842}\n",
    "nx.set_node_attributes(G,events,\"date\")\n",
    "node_data = G.nodes(data=True)\n",
    "print(node_data)     # note that node_data is a nodeDataView object is created, that is not simply a list a tuples"
   ]
  },
  {
   "cell_type": "code",
   "execution_count": 78,
   "metadata": {},
   "outputs": [
    {
     "name": "stdout",
     "output_type": "stream",
     "text": [
      "0\n",
      "Died            {'date': 1865}\n",
      "Born            {'date': 1809}\n",
      "Elected Rep     {'date': 1847}\n",
      "Elected Pres    {'date': 1861}\n",
      "Married         {'date': 1842}\n",
      "Name: 1, dtype: object\n"
     ]
    }
   ],
   "source": [
    "# with pandas you may want to work with dataframes instead of a list of tuples. \n",
    "lincoln_ser = pd.DataFrame(list(node_data)).set_index(0)[1] # list is necessary under networkx 2.0\n",
    "print(lincoln_ser)"
   ]
  },
  {
   "cell_type": "code",
   "execution_count": 79,
   "metadata": {},
   "outputs": [
    {
     "name": "stdout",
     "output_type": "stream",
     "text": [
      "              date\n",
      "0                 \n",
      "Died          1865\n",
      "Born          1809\n",
      "Elected Rep   1847\n",
      "Elected Pres  1861\n",
      "Married       1842\n"
     ]
    }
   ],
   "source": [
    "# After converting the node labels to the row index, the resulting DataFrame has only one column named 1 \n",
    "# (which, naturally, is a Series). The values in the column are node attribute dictionaries, and one of \n",
    "# the Series constructors builds a Series from a dictionary. Let’s apply the constructor to each row.\n",
    "# Excerpt From: Dmitry Zinoviev. “Complex Network Analysis in Python\" \n",
    "\n",
    "df = lincoln_ser.apply(pd.Series)\n",
    "print(df)"
   ]
  },
  {
   "cell_type": "code",
   "execution_count": 80,
   "metadata": {},
   "outputs": [
    {
     "name": "stdout",
     "output_type": "stream",
     "text": [
      "              date\n",
      "0                 \n",
      "Born           NaN\n",
      "Married       33.0\n",
      "Elected Rep    5.0\n",
      "Elected Pres  14.0\n",
      "Died           4.0\n"
     ]
    }
   ],
   "source": [
    "# now you have a DataFrame suitable for processing\n",
    "\n",
    "spans = df.sort_values('date').diff() # it returns the duration, in years, of each span of Lincoln's life\n",
    "print(spans)"
   ]
  },
  {
   "cell_type": "code",
   "execution_count": 81,
   "metadata": {},
   "outputs": [
    {
     "name": "stdout",
     "output_type": "stream",
     "text": [
      "[[-1.  0.  0.  1.  0.]\n",
      " [ 1. -1.  0.  0.  0.]\n",
      " [ 0.  0. -1.  0.  1.]\n",
      " [ 0.  0.  1. -1.  0.]\n",
      " [ 0.  1.  0.  0. -1.]]\n"
     ]
    }
   ],
   "source": [
    "\"\"\"\n",
    "Incidence Matrix allows parallel edges. \n",
    "Major drawbacks: \n",
    "1. weighted networks cannot be represented\n",
    "2. a typical complex network takes more memory than an adjacency matrix\n",
    "Sparse matrices are used to reduce problem 2, but you need to convert it to a dense one to display the content\n",
    "\"\"\"\n",
    "J = nx.incidence_matrix(G, oriented=True).todense()\n",
    "print(J)"
   ]
  },
  {
   "cell_type": "code",
   "execution_count": 82,
   "metadata": {},
   "outputs": [
    {
     "name": "stdout",
     "output_type": "stream",
     "text": [
      "[('Died', 'Born', {'weight': 0.1}), ('Born', 'Married', {'weight': 1.0}), ('Elected Rep', 'Elected Pres', {'weight': 1.0}), ('Elected Pres', 'Died', {'weight': 1.0}), ('Married', 'Elected Rep', {'weight': 1.0})]\n"
     ]
    }
   ],
   "source": [
    "\"\"\"\n",
    "Edge lists\n",
    "a list of tuples containing start nod(e, end node, and a dictionary of edge attributes\n",
    "\"\"\"\n",
    "edges = nx.to_edgelist(G)\n",
    "print(edges)"
   ]
  },
  {
   "cell_type": "code",
   "execution_count": 83,
   "metadata": {},
   "outputs": [
    {
     "name": "stdout",
     "output_type": "stream",
     "text": [
      "[('Died', 'Born', {'weight': 0.1}), ('Born', 'Married', {'weight': 1.0}), ('Married', 'Elected Rep', {'weight': 1.0}), ('Elected Rep', 'Elected Pres', {'weight': 1.0}), ('Elected Pres', 'Died', {'weight': 1.0})]\n"
     ]
    }
   ],
   "source": [
    "F = nx.from_edgelist(edges, create_using=nx.DiGraph())\n",
    "print(F.edges(data=True))"
   ]
  },
  {
   "cell_type": "code",
   "execution_count": 84,
   "metadata": {},
   "outputs": [
    {
     "name": "stdout",
     "output_type": "stream",
     "text": [
      "[('Died', 'Born', {'weight': 0.1}), ('Born', 'Married', {'weight': 1.0}), ('Elected Rep', 'Elected Pres', {'weight': 1.0}), ('Elected Pres', 'Died', {'weight': 1.0}), ('Married', 'Elected Rep', {'weight': 1.0})]\n"
     ]
    }
   ],
   "source": [
    "print(G.edges(data=True))"
   ]
  },
  {
   "cell_type": "code",
   "execution_count": 85,
   "metadata": {},
   "outputs": [
    {
     "name": "stdout",
     "output_type": "stream",
     "text": [
      "[('Died', 'Born', {'weight': 0.1}), ('Born', 'Married', {'weight': 1.0}), ('Elected Rep', 'Elected Pres', {'weight': 1.0}), ('Elected Pres', 'Died', {'weight': 1.0}), ('Married', 'Elected Rep', {'weight': 1.0})]\n"
     ]
    }
   ],
   "source": [
    "print(edges)"
   ]
  },
  {
   "cell_type": "code",
   "execution_count": 86,
   "metadata": {},
   "outputs": [
    {
     "name": "stdout",
     "output_type": "stream",
     "text": [
      "True\n"
     ]
    }
   ],
   "source": [
    "print(nx.is_isomorphic(G,F))"
   ]
  },
  {
   "cell_type": "code",
   "execution_count": 87,
   "metadata": {},
   "outputs": [
    {
     "name": "stdout",
     "output_type": "stream",
     "text": [
      "{'Died': ['Born'], 'Born': ['Married'], 'Elected Rep': ['Elected Pres'], 'Elected Pres': ['Died'], 'Married': ['Elected Rep']}\n"
     ]
    }
   ],
   "source": [
    "\"\"\"\n",
    "Creating a dictionary of lists of nodes\n",
    "a node is the key, and adjacent nodes are values\n",
    "Not the best way for recreating the original graph...\n",
    "\"\"\"\n",
    "dict_list=nx.to_dict_of_lists(G)\n",
    "print(dict_list)"
   ]
  },
  {
   "cell_type": "code",
   "execution_count": 89,
   "metadata": {},
   "outputs": [
    {
     "name": "stdout",
     "output_type": "stream",
     "text": [
      "True\n",
      "[('Died', 'Born', {'weight': 0.1}), ('Born', 'Married', {'weight': 1.0}), ('Elected Rep', 'Elected Pres', {'weight': 1.0}), ('Elected Pres', 'Died', {'weight': 1.0}), ('Married', 'Elected Rep', {'weight': 1.0})]\n",
      "[('Died', 'Born', {}), ('Born', 'Married', {}), ('Elected Rep', 'Elected Pres', {}), ('Elected Pres', 'Died', {}), ('Married', 'Elected Rep', {})]\n"
     ]
    }
   ],
   "source": [
    "F = nx.from_dict_of_lists(dict_list,create_using=nx.DiGraph())\n",
    "print(nx.is_isomorphic(F,G)) # is_isomorphic looks only at the topology, even if the weights are lost\n",
    "print(G.edges(data=True))\n",
    "print(F.edges(data=True))"
   ]
  },
  {
   "cell_type": "code",
   "execution_count": null,
   "metadata": {
    "collapsed": true
   },
   "outputs": [],
   "source": []
  }
 ],
 "metadata": {
  "kernelspec": {
   "display_name": "Python 3",
   "language": "python",
   "name": "python3"
  },
  "language_info": {
   "codemirror_mode": {
    "name": "ipython",
    "version": 3
   },
   "file_extension": ".py",
   "mimetype": "text/x-python",
   "name": "python",
   "nbconvert_exporter": "python",
   "pygments_lexer": "ipython3",
   "version": "3.6.5"
  }
 },
 "nbformat": 4,
 "nbformat_minor": 2
}
