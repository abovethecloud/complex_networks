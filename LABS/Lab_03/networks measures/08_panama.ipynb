{
 "cells": [
  {
   "cell_type": "markdown",
   "metadata": {},
   "source": [
    "# Case Study: Panama Papers\n",
    "\n",
    "The Panama Papers represent a massive leak of offshore corporate entity information (several hundred thousand entities) from the Panamanian law firm Mossack Fonseca. The papers unveil a never-before-seen network of money laundering connections.\n",
    "\n",
    "With this notebook, you will learn how to convert a huge CSV file describing connections between entities and officials into a social network without using Pandas. \n",
    "\n",
    "You will also learn how to make simple conclusions about the resulting network."
   ]
  },
  {
   "cell_type": "markdown",
   "metadata": {},
   "source": [
    "The “Panama” network is social network: it describes relationships between organizations and individuals traced through electronic documentation. The network is available in five CSV files, summarized below:\n",
    "\n",
    "\n",
    "all_edges.csv\n",
    "Types: Edges\t\n",
    "Purpose: Each edge has a type of the represented relationship.\n",
    "number of rows: 1,269,796\n",
    "columns of interests: node_1, rel_type, node_2\n",
    "\n",
    "Adresses.csv \n",
    "Types: Nodes\n",
    "Purpose: Legal Addresses\n",
    "number of rows: 151,127\n",
    "columns of interests: n/a\n",
    "\n",
    "Entities.csv \n",
    "Types: Nodes\n",
    "Purpose:  Legal entities (corporations, firms, and so on). \n",
    "number of rows: 319,421\n",
    "columns of interests: name, jurisdiction\n",
    "\n",
    "Intermediaries.csv \n",
    "Types: Nodes\n",
    "Purpose: Persons and organizations that act as links between other organizations \n",
    "number of rows: 23,642\n",
    "columns of interests: name, country_code\n",
    "\n",
    "Officers.csv \n",
    "Types: Nodes\n",
    "Purpose: Persons (directors, shareholders, and so on). \n",
    "number of rows: 345,645\n",
    "columns of interests: name, country_code"
   ]
  },
  {
   "cell_type": "code",
   "execution_count": 1,
   "metadata": {
    "collapsed": true
   },
   "outputs": [],
   "source": [
    "\"\"\"\n",
    "Analyze \"Panama Papers\"\n",
    "\"\"\"\n",
    "import csv\n",
    "import pickle\n",
    "import itertools\n",
    "from collections import Counter\n",
    "import networkx as nx\n",
    "from networkx.drawing.nx_agraph import graphviz_layout\n",
    "import matplotlib.pyplot as plt\n",
    "import dzcnapy_plotlib as dzcnapy"
   ]
  },
  {
   "cell_type": "code",
   "execution_count": 2,
   "metadata": {
    "collapsed": true
   },
   "outputs": [],
   "source": [
    "EDGES = \"beneficiary\"\n",
    "NODES = ((\"PanamaPapers/Entities.csv\", \"Entities\", \"jurisdiction\", \"name\"),\n",
    "         (\"PanamaPapers/Officers.csv\", \"Officers\", \"country_codes\", \"name\"),\n",
    "         (\"PanamaPapers/Intermediaries.csv\", \"Intermediaries\", \"country_codes\", \"name\"))"
   ]
  },
  {
   "cell_type": "code",
   "execution_count": 3,
   "metadata": {
    "collapsed": true
   },
   "outputs": [],
   "source": [
    "panama = nx.Graph()"
   ]
  },
  {
   "cell_type": "code",
   "execution_count": 4,
   "metadata": {
    "collapsed": true
   },
   "outputs": [],
   "source": [
    "with open(\"PanamaPapers/all_edges.csv\") as infile:\n",
    "    data = csv.DictReader(infile)\n",
    "    panama.add_edges_from((link[\"node_1\"], link[\"node_2\"])\n",
    "                          for link in data\n",
    "                          if link[\"rel_type\"].lower().startswith(EDGES))"
   ]
  },
  {
   "cell_type": "code",
   "execution_count": 5,
   "metadata": {
    "collapsed": true
   },
   "outputs": [],
   "source": [
    "nodes = set(panama.nodes())\n",
    "relabel = {}"
   ]
  },
  {
   "cell_type": "code",
   "execution_count": 6,
   "metadata": {
    "collapsed": true
   },
   "outputs": [],
   "source": [
    "'''The purpose of the dictionary nodes is to facilitate future lookup. (Python lists have linear lookup time.) \n",
    "Read each of the files with a CSV dictionary reader and extract and collect the desired attributes. \n",
    "Note that there is no need to process rows that do not match any existing node (because your network does not \n",
    "“way of the incident edges). When done, update the node attributes country and kind, and relabel the nodes \n",
    "to match persons and organizations names.”\n",
    "\n",
    "Excerpt From: Dmitry Zinoviev. “Complex Network Analysis in Python (for Giancarlo Ruffo).” iBooks. include all nodes and edges) and add any nodes to the graph (because they have been already added by ”\n",
    "'''\n",
    "\n",
    "for f, kind, cc, name in NODES:\n",
    "    with open(f) as infile:\n",
    "        data = csv.DictReader(infile)\n",
    "        names_countries = {node[\"node_id\"] :\n",
    "                           (node[name].strip().upper(), node[cc])\n",
    "                           for node in data\n",
    "                           if node[\"node_id\"] in nodes}\n",
    "    names =     {nid: values[0] for nid, values in names_countries.items()}\n",
    "    countries = {nid: values[1] for nid, values in names_countries.items()}\n",
    "    kinds =     {nid: kind      for nid, _      in names_countries.items()}\n",
    "    nx.set_node_attributes(panama, countries, \"country\")\n",
    "    nx.set_node_attributes(panama, kinds, \"kind\")\n",
    "    relabel.update(names)"
   ]
  },
  {
   "cell_type": "code",
   "execution_count": 7,
   "metadata": {},
   "outputs": [
    {
     "data": {
      "text/plain": [
       "<networkx.classes.graph.Graph at 0x112a47550>"
      ]
     },
     "execution_count": 7,
     "metadata": {},
     "output_type": "execute_result"
    }
   ],
   "source": [
    "nx.relabel_nodes(panama, relabel, copy=False)"
   ]
  },
  {
   "cell_type": "code",
   "execution_count": 8,
   "metadata": {
    "collapsed": true
   },
   "outputs": [],
   "source": [
    "if \"ISSUES OF:\" in panama:\n",
    "    panama.remove_node(\"ISSUES OF:\")\n",
    "\n",
    "if \"\" in panama:\n",
    "    panama.remove_node(\"\")"
   ]
  },
  {
   "cell_type": "code",
   "execution_count": 9,
   "metadata": {},
   "outputs": [
    {
     "name": "stdout",
     "output_type": "stream",
     "text": [
      "27926 19135\n"
     ]
    }
   ],
   "source": [
    "print(nx.number_of_nodes(panama), nx.number_of_edges(panama))"
   ]
  },
  {
   "cell_type": "code",
   "execution_count": 10,
   "metadata": {},
   "outputs": [
    {
     "name": "stdout",
     "output_type": "stream",
     "text": [
      "4.90745749525652e-05\n"
     ]
    }
   ],
   "source": [
    "print(nx.density(panama))"
   ]
  },
  {
   "cell_type": "code",
   "execution_count": 11,
   "metadata": {
    "collapsed": true
   },
   "outputs": [],
   "source": [
    "components = [p.nodes() for p in nx.connected_component_subgraphs(panama)\n",
    "              if nx.number_of_nodes(p) >= 20\n",
    "              or nx.number_of_edges(p) >= 20]\n",
    "panama0 = panama.subgraph(itertools.chain.from_iterable(components))"
   ]
  },
  {
   "cell_type": "code",
   "execution_count": 12,
   "metadata": {},
   "outputs": [
    {
     "name": "stdout",
     "output_type": "stream",
     "text": [
      "1393 1926\n"
     ]
    }
   ],
   "source": [
    "print(nx.number_of_nodes(panama0), nx.number_of_edges(panama0))"
   ]
  },
  {
   "cell_type": "code",
   "execution_count": 13,
   "metadata": {
    "collapsed": true
   },
   "outputs": [],
   "source": [
    "with open(\"PanamaPapers/panama-beneficiary.pickle\", \"wb\") as outfile:\n",
    "    pickle.dump(panama0, outfile)"
   ]
  },
  {
   "cell_type": "code",
   "execution_count": 14,
   "metadata": {},
   "outputs": [
    {
     "data": {
      "image/png": "[encoded data removed]",
      "text/plain": [
       "<matplotlib.figure.Figure at 0x151a32df60>"
      ]
     },
     "metadata": {},
     "output_type": "display_data"
    }
   ],
   "source": [
    "cdict = {\"Entities\": \"pink\", \"Officers\": \"blue\", \n",
    "         \"Intermediaries\" : \"green\"}\n",
    "c = [cdict[panama0.node[n][\"kind\"]] for n in panama0]\n",
    "dzcnapy.small_attrs[\"node_color\"] = c\n",
    "pos = graphviz_layout(panama0)\n",
    "nx.draw_networkx(panama0, pos=pos, with_labels=False, **dzcnapy.small_attrs)\n",
    "dzcnapy.set_extent(pos, plt)\n",
    "dzcnapy.plot(\"panama0\")"
   ]
  },
  {
   "cell_type": "code",
   "execution_count": 16,
   "metadata": {},
   "outputs": [
    {
     "data": {
      "text/plain": [
       "-0.9896442246627182"
      ]
     },
     "execution_count": 16,
     "metadata": {},
     "output_type": "execute_result"
    }
   ],
   "source": [
    "nx.attribute_assortativity_coefficient(panama0, \"kind\")"
   ]
  },
  {
   "cell_type": "code",
   "execution_count": 17,
   "metadata": {},
   "outputs": [
    {
     "data": {
      "text/plain": [
       "array([[  5.19210800e-04,   4.97403946e-01,   2.59605400e-04],\n",
       "       [  4.97403946e-01,   4.15368640e-03,   0.00000000e+00],\n",
       "       [  2.59605400e-04,   0.00000000e+00,   0.00000000e+00]])"
      ]
     },
     "execution_count": 17,
     "metadata": {},
     "output_type": "execute_result"
    }
   ],
   "source": [
    "nx.attribute_mixing_matrix(panama0, \"kind\",\n",
    "                           mapping={\"Entities\": 0, \"Officers\": 1,\n",
    "                                    \"Intermediaries\" : 2})"
   ]
  },
  {
   "cell_type": "code",
   "execution_count": 18,
   "metadata": {},
   "outputs": [
    {
     "data": {
      "text/plain": [
       "-0.17983972430784287"
      ]
     },
     "execution_count": 18,
     "metadata": {},
     "output_type": "execute_result"
    }
   ],
   "source": [
    "nx.attribute_assortativity_coefficient(panama0, \"country\")"
   ]
  },
  {
   "cell_type": "code",
   "execution_count": 19,
   "metadata": {},
   "outputs": [
    {
     "data": {
      "text/plain": [
       "-0.39717073403670283"
      ]
     },
     "execution_count": 19,
     "metadata": {},
     "output_type": "execute_result"
    }
   ],
   "source": [
    "nx.degree_assortativity_coefficient(panama0)"
   ]
  },
  {
   "cell_type": "code",
   "execution_count": 28,
   "metadata": {},
   "outputs": [
    {
     "data": {
      "image/png": "[encoded data removed]",
      "text/plain": [
       "<matplotlib.figure.Figure at 0x151997a940>"
      ]
     },
     "metadata": {},
     "output_type": "display_data"
    }
   ],
   "source": [
    "deg = nx.degree(panama0)\n",
    "x, y = zip(*Counter([d for n, d in deg]).items())\n",
    "\n",
    "plt.scatter(x, y, s=100, c=\"pink\")\n",
    "plt.xscale(\"log\")\n",
    "plt.yscale(\"log\")\n",
    "plt.legend()\n",
    "plt.xlim(0.9, max(x))\n",
    "plt.ylim(0.9, max(y))\n",
    "plt.xlabel(\"Degree\")\n",
    "plt.ylabel(\"Frequency\")\n",
    "dzcnapy.plot(\"panama-beneficiaries\")"
   ]
  },
  {
   "cell_type": "code",
   "execution_count": 30,
   "metadata": {},
   "outputs": [
    {
     "name": "stdout",
     "output_type": "stream",
     "text": [
      "HELITING S.A. (Officers): 80\n",
      "T.K.B.K. INTERNATIONAL TRUST (Entities): 39\n",
      "WORLDWIDE COM-NET INTERNATIONAL TRUST (Entities): 37\n",
      "THE CLAUDIUS TRUST (Entities): 36\n",
      "GUANGZHOU CONSTRUCTION & DEVELOPMENT HOLDINGS (CHINA)LIMITED (Officers): 29\n",
      "RICARDO CAMPOLLO CODINA (Officers): 27\n",
      "ISLANDS INTERNATIONAL TRUST (Entities): 27\n",
      "MARK OMELNITSKI (Officers): 26\n",
      "ZEN TRUST (Entities): 26\n",
      "MR. OLEKSII MYKOLAYOVYCH AZAROV (Officers): 26\n"
     ]
    }
   ],
   "source": [
    "top10 = sorted([(n, panama0.node[n][\"kind\"], v) for n, v in deg],\n",
    "               key=lambda x: x[2], reverse=True)[:10]\n",
    "print(\"\\n\".join([\"{} ({}): {}\".format(*t) for t in top10]))"
   ]
  },
  {
   "cell_type": "code",
   "execution_count": null,
   "metadata": {
    "collapsed": true
   },
   "outputs": [],
   "source": []
  }
 ],
 "metadata": {
  "kernelspec": {
   "display_name": "Python 3",
   "language": "python",
   "name": "python3"
  },
  "language_info": {
   "codemirror_mode": {
    "name": "ipython",
    "version": 3
   },
   "file_extension": ".py",
   "mimetype": "text/x-python",
   "name": "python",
   "nbconvert_exporter": "python",
   "pygments_lexer": "ipython3",
   "version": "3.6.3"
  }
 },
 "nbformat": 4,
 "nbformat_minor": 2
}
